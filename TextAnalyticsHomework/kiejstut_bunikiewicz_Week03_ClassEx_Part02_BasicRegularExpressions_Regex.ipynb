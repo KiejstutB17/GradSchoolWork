{
  "nbformat": 4,
  "nbformat_minor": 0,
  "metadata": {
    "colab": {
      "name": "Week03_ClassEx_Part02_BasicRegularExpressions_Regex.ipynb",
      "provenance": [],
      "collapsed_sections": [],
      "toc_visible": true
    },
    "kernelspec": {
      "name": "python3",
      "display_name": "Python 3"
    }
  },
  "cells": [
    {
      "cell_type": "markdown",
      "metadata": {
        "id": "uXGS0eGZ79lz"
      },
      "source": [
        "# **Basic Regex Exercise**\n",
        "\n",
        "**Class Exercise Part 02a**\n",
        "\n",
        "FAA tower closures\n",
        "\n",
        "A list of FAA tower closures has been copied from a [PDF](https://www.faa.gov/news/media/fct_closed.pdf) into the file faa.txt.\n"
      ]
    },
    {
      "cell_type": "code",
      "metadata": {
        "id": "C5RMeDxE4lq8"
      },
      "source": [
        "# read the file into a single string\n",
        "with open('/content/faa.txt') as f:\n",
        "    data = f.read()"
      ],
      "execution_count": 90,
      "outputs": []
    },
    {
      "cell_type": "code",
      "metadata": {
        "id": "Ni5QHmVf881Y",
        "colab": {
          "base_uri": "https://localhost:8080/"
        },
        "outputId": "f3f87a7f-c54f-4ce7-a1d7-393fa6cc0556"
      },
      "source": [
        "# check the number of characters\n",
        "len(data)"
      ],
      "execution_count": 91,
      "outputs": [
        {
          "output_type": "execute_result",
          "data": {
            "text/plain": [
              "5574"
            ]
          },
          "metadata": {
            "tags": []
          },
          "execution_count": 91
        }
      ]
    },
    {
      "cell_type": "code",
      "metadata": {
        "id": "iOgBXzTW9CGP",
        "colab": {
          "base_uri": "https://localhost:8080/",
          "height": 86
        },
        "outputId": "261f56f9-513f-479b-8afc-a0f8601af6ae"
      },
      "source": [
        "# examine the first 500 characters\n",
        "data[0:500]"
      ],
      "execution_count": 92,
      "outputs": [
        {
          "output_type": "execute_result",
          "data": {
            "application/vnd.google.colaboratory.intrinsic+json": {
              "type": "string"
            },
            "text/plain": [
              "'FAA Contract Tower Closure List\\n(149 FCTs)\\n3-22-2013\\nLOC\\nID Facility Name City State\\nDHN DOTHAN RGNL DOTHAN AL\\nTCL TUSCALOOSA RGNL TUSCALOOSA AL\\nFYV DRAKE FIELD FAYETTEVILLE AR\\nTXK TEXARKANA RGNL-WEBB FIELD TEXARKANA AR\\nGEU GLENDALE MUNI GLENDALE AZ\\nGYR PHOENIX GOODYEAR GOODYEAR AZ\\nIFP LAUGHLIN/BULLHEAD INTL BULLHEAD CITY AZ\\nRYN RYAN FIELD TUCSON AZ\\nFUL FULLERTON MUNI FULLERTON CA\\nMER CASTLE ATWATER CA\\nOXR OXNARD OXNARD CA\\nRAL RIVERSIDE MUNI RIVERSIDE CA\\nRNM RAMONA RAMONA CA\\nSAC SACRAMENTO EXECU'"
            ]
          },
          "metadata": {
            "tags": []
          },
          "execution_count": 92
        }
      ]
    },
    {
      "cell_type": "code",
      "metadata": {
        "id": "LQwudeZA9GRK",
        "colab": {
          "base_uri": "https://localhost:8080/",
          "height": 86
        },
        "outputId": "686f14d5-5c69-45e7-b913-49882e607ab3"
      },
      "source": [
        "# examine the last 500 characters\n",
        "data[-500:]"
      ],
      "execution_count": 93,
      "outputs": [
        {
          "output_type": "execute_result",
          "data": {
            "application/vnd.google.colaboratory.intrinsic+json": {
              "type": "string"
            },
            "text/plain": [
              "' YAKIMA WA\\nCWA CENTRAL WISCONSIN MOSINEE WI\\nEAU CHIPPEWA VALLEY RGNL EAU CLAIRE WI\\nENW KENOSHA RGNL KENOSHA WI\\nPage 3 of 4\\nFAA Contract Tower Closure List\\n(149 FCTs)\\n3-22-2013\\nLOC\\nID Facility Name City State\\nJVL SOUTHERN WISCONSIN RGNL JANESVILLE WI\\nLSE LA CROSSE MUNI LA CROSSE WI\\nMWC LAWRENCE J TIMMERMAN MILWAUKEE WI\\nOSH WITTMAN RGNL OSHKOSH WI\\nUES WAUKESHA COUNTY WAUKESHA WI\\nHLG WHEELING OHIO CO WHEELING WV\\nLWB GREENBRIER VALLEY LEWISBURG WV\\nPKB MID-OHIO VALLEY RGNL PARKERSBURG WV\\nPage 4 of 4\\n'"
            ]
          },
          "metadata": {
            "tags": []
          },
          "execution_count": 93
        }
      ]
    },
    {
      "cell_type": "markdown",
      "metadata": {
        "id": "jWvYofpt9RaK"
      },
      "source": [
        "Your assignment is to **create a list of tuples** containing the **tower IDs** and the **states** they are located in.\n",
        "\n",
        "Here is the **expected output**:\n",
        "\n",
        "faa = [('DHN', 'AL'), ('TCL', 'AL'), ..., ('PKB', 'WV')]"
      ]
    },
    {
      "cell_type": "code",
      "metadata": {
        "id": "iZgk04329PfS"
      },
      "source": [
        "import re"
      ],
      "execution_count": 94,
      "outputs": []
    },
    {
      "cell_type": "code",
      "metadata": {
        "id": "8OaRdi5U9j8I"
      },
      "source": [
        "# method 1\n",
        "faa  = re.findall(r'\\n(\\w{3}) .+ (\\w{2})',data)\n"
      ],
      "execution_count": 96,
      "outputs": []
    },
    {
      "cell_type": "code",
      "metadata": {
        "id": "vQ2-mNyc9zsI",
        "colab": {
          "base_uri": "https://localhost:8080/"
        },
        "outputId": "17c010ba-3a8b-4b04-a0a4-0f746d1b48cb"
      },
      "source": [
        "print(faa)"
      ],
      "execution_count": 97,
      "outputs": [
        {
          "output_type": "stream",
          "text": [
            "[('DHN', 'AL'), ('TCL', 'AL'), ('FYV', 'AR'), ('TXK', 'AR'), ('GEU', 'AZ'), ('GYR', 'AZ'), ('IFP', 'AZ'), ('RYN', 'AZ'), ('FUL', 'CA'), ('MER', 'CA'), ('OXR', 'CA'), ('RAL', 'CA'), ('RNM', 'CA'), ('SAC', 'CA'), ('SDM', 'CA'), ('SNS', 'CA'), ('VCV', 'CA'), ('WHP', 'CA'), ('WJF', 'CA'), ('BDR', 'CT'), ('DXR', 'CT'), ('GON', 'CT'), ('HFD', 'CT'), ('HVN', 'CT'), ('OXC', 'CT'), ('APF', 'FL'), ('BCT', 'FL'), ('EVB', 'FL'), ('FMY', 'FL'), ('HWO', 'FL'), ('LAL', 'FL'), ('LEE', 'FL'), ('OCF', 'FL'), ('OMN', 'FL'), ('PGD', 'FL'), ('SGJ', 'FL'), ('SPG', 'FL'), ('SUA', 'FL'), ('TIX', 'FL'), ('ABY', 'GA'), ('AHN', 'GA'), ('LZU', 'GA'), ('MCN', 'GA'), ('RYY', 'GA'), ('DBQ', 'IA'), ('IDA', 'ID'), ('LWS', 'ID'), ('FAA', 'Li'), ('PIH', 'ID'), ('SUN', 'ID'), ('ALN', 'IL'), ('BMI', 'IL'), ('DEC', 'IL'), ('MDH', 'IL'), ('UGN', 'IL'), ('BAK', 'IN'), ('GYY', 'IN'), ('HUT', 'KS'), ('IXD', 'KS'), ('MHK', 'KS'), ('OJC', 'KS'), ('TOP', 'KS'), ('OWB', 'KY'), ('PAH', 'KY'), ('DTN', 'LA'), ('BVY', 'MA'), ('EWB', 'MA'), ('LWM', 'MA'), ('ORH', 'MA'), ('OWD', 'MA'), ('ESN', 'MD'), ('FDK', 'MD'), ('HGR', 'MD'), ('MTN', 'MD'), ('SBY', 'MD'), ('BTL', 'MI'), ('DET', 'MI'), ('SAW', 'MI'), ('ANE', 'MN'), ('STC', 'MN'), ('BBG', 'MO'), ('COU', 'MO'), ('GLH', 'MS'), ('HKS', 'MS'), ('HSA', 'MS'), ('OLV', 'MS'), ('TUP', 'MS'), ('GPI', 'MT'), ('EWN', 'NC'), ('HKY', 'NC'), ('INT', 'NC'), ('ISO', 'NC'), ('JQF', 'NC'), ('ASH', 'NH'), ('TTN', 'NJ'), ('FAA', 'Li'), ('AEG', 'NM'), ('SAF', 'NM'), ('ITH', 'NY'), ('RME', 'NY'), ('CGF', 'OH'), ('OSU', 'OH'), ('TZR', 'OH'), ('LAW', 'OK'), ('OUN', 'OK'), ('PWA', 'OK'), ('SWO', 'OK'), ('OTH', 'OR'), ('PDT', 'OR'), ('SLE', 'OR'), ('TTD', 'OR'), ('CXY', 'PA'), ('LBE', 'PA'), ('LNS', 'PA'), ('CRE', 'SC'), ('GYH', 'SC'), ('HXD', 'SC'), ('MKL', 'TN'), ('NQA', 'TN'), ('BAZ', 'TX'), ('BRO', 'TX'), ('CLL', 'TX'), ('CNW', 'TX'), ('CXO', 'TX'), ('GTU', 'TX'), ('HYI', 'TX'), ('RBD', 'TX'), ('SGR', 'TX'), ('SSF', 'TX'), ('TKI', 'TX'), ('TYR', 'TX'), ('VCT', 'TX'), ('OGD', 'UT'), ('PVU', 'UT'), ('LYH', 'VA'), ('OLM', 'WA'), ('RNT', 'WA'), ('SFF', 'WA'), ('TIW', 'WA'), ('YKM', 'WA'), ('CWA', 'WI'), ('EAU', 'WI'), ('ENW', 'WI'), ('FAA', 'Li'), ('JVL', 'WI'), ('LSE', 'WI'), ('MWC', 'WI'), ('OSH', 'WI'), ('UES', 'WI'), ('HLG', 'WV'), ('LWB', 'WV'), ('PKB', 'WV')]\n"
          ],
          "name": "stdout"
        }
      ]
    },
    {
      "cell_type": "markdown",
      "metadata": {
        "id": "oqFabZId9_63"
      },
      "source": [
        "Use regular expressions to extract the **number of closures** listed in the second line of the file (149), and then use an **assertion** to check that the number of closures is equal to the length of the faa list."
      ]
    },
    {
      "cell_type": "code",
      "metadata": {
        "id": "mZIfFstn9-B7",
        "colab": {
          "base_uri": "https://localhost:8080/"
        },
        "outputId": "1ccb24cf-6ea3-4aef-979b-2214150ebaa4"
      },
      "source": [
        "# method 1 \n",
        "# extracting the exact data\n",
        "\n",
        "#hypothesis_closure = re.search(r'(\\d+\\s)',data)\n",
        "#num_closures = int(hypothesis_closure.group()) # Works, but not using\n",
        "\n",
        "num_closures = int(re.search(r'\\((\\d+) FCTs\\)', data).group(1))\n",
        "\n",
        "#Length Check\n",
        "assert(len(faa) == num_closures) # getting a mismatch, 152 for faa"
      ],
      "execution_count": 99,
      "outputs": [
        {
          "output_type": "execute_result",
          "data": {
            "text/plain": [
              "False"
            ]
          },
          "metadata": {
            "tags": []
          },
          "execution_count": 99
        }
      ]
    },
    {
      "cell_type": "code",
      "metadata": {
        "id": "96uuzb12-Zsz",
        "colab": {
          "base_uri": "https://localhost:8080/"
        },
        "outputId": "93969e1b-273d-438f-d408-17d37c7c2cf4"
      },
      "source": [
        "print(num_closures)"
      ],
      "execution_count": 100,
      "outputs": [
        {
          "output_type": "stream",
          "text": [
            "149\n"
          ],
          "name": "stdout"
        }
      ]
    },
    {
      "cell_type": "markdown",
      "metadata": {
        "id": "aKK-VbLR-ol2"
      },
      "source": [
        "**Class Exercise Part 02b**: Stack Overflow reputation\n",
        "\n",
        "I have downloaded a Stack Overflow reputation history into the file reputation.txt.\n",
        "\n",
        "We are only interested in the lines that begin with two dashes, such as:\n",
        "\n",
        "> -- 2012-08-30 rep +5    = 6\n",
        "\n",
        "That line can be interpreted as follows: \"On 2012-08-30, reputation increased by 5, bringing reputation total to 6.\"\n",
        "\n",
        "Your assignment is to create a list of tuples containing only these dated entries, including the date, reputation change (regardless of whether it is positive/negative/zero), and running total.\n",
        "\n",
        "Here is the **expected output**:\n",
        "\n",
        "> rep = [('2012-08-30', '+5', '6'), ('2012-12-11', '+10', '16'), ...,  ('2015-10-14', '-1', '317')]"
      ]
    },
    {
      "cell_type": "code",
      "metadata": {
        "id": "WdbTULsR_njp"
      },
      "source": [
        "# read the file into a single string\n",
        "with open('/content/reputation.txt') as f:\n",
        "    data = f.read()"
      ],
      "execution_count": 101,
      "outputs": []
    },
    {
      "cell_type": "code",
      "metadata": {
        "id": "nZnd_7DQ_49J",
        "colab": {
          "base_uri": "https://localhost:8080/",
          "height": 86
        },
        "outputId": "7712fe39-455c-43bd-96b5-6c539e31d765"
      },
      "source": [
        "# examine the first 500 characters\n",
        "data[:500]"
      ],
      "execution_count": 102,
      "outputs": [
        {
          "output_type": "execute_result",
          "data": {
            "application/vnd.google.colaboratory.intrinsic+json": {
              "type": "string"
            },
            "text/plain": [
              "'total votes: 36\\n 2  12201376 (5)\\n-- 2012-08-30 rep +5    = 6         \\n 2  13822612 (10)\\n-- 2012-12-11 rep +10   = 16        \\n 2  13822612 (10)\\n-- 2013-03-20 rep +10   = 26        \\n-- 2013-12-05 rep 0     = 26        \\n-- 2014-01-25 rep 0     = 26        \\n 16  7141669 (2)\\n-- 2014-03-19 rep +2    = 28        \\n 1  12202249 (2)\\n-- 2014-05-11 rep +2    = 30        \\n 16 23599806 (2)\\n 2  23597220 (10)\\n-- 2014-05-12 rep +12   = 42        \\n 2  13822612 (10)\\n-- 2014-06-12 rep +10   = 52        \\n 2  2359722'"
            ]
          },
          "metadata": {
            "tags": []
          },
          "execution_count": 102
        }
      ]
    },
    {
      "cell_type": "code",
      "metadata": {
        "id": "6YtOY3Sa_8jr",
        "colab": {
          "base_uri": "https://localhost:8080/"
        },
        "outputId": "09fc94da-4d5f-44d9-8846-b172613acf6c"
      },
      "source": [
        "rep = re.findall(r'-\\s(\\d+-\\d+-\\d+)\\srep\\s(.+?)\\s+=\\s(\\d+)',data)\n",
        "rep"
      ],
      "execution_count": 103,
      "outputs": [
        {
          "output_type": "execute_result",
          "data": {
            "text/plain": [
              "[('2012-08-30', '+5', '6'),\n",
              " ('2012-12-11', '+10', '16'),\n",
              " ('2013-03-20', '+10', '26'),\n",
              " ('2013-12-05', '0', '26'),\n",
              " ('2014-01-25', '0', '26'),\n",
              " ('2014-03-19', '+2', '28'),\n",
              " ('2014-05-11', '+2', '30'),\n",
              " ('2014-05-12', '+12', '42'),\n",
              " ('2014-06-12', '+10', '52'),\n",
              " ('2014-06-26', '+10', '62'),\n",
              " ('2014-07-05', '0', '62'),\n",
              " ('2014-09-02', '0', '62'),\n",
              " ('2014-09-03', '+10', '72'),\n",
              " ('2014-10-28', '0', '72'),\n",
              " ('2014-11-14', '+10', '82'),\n",
              " ('2014-11-18', '+2', '84'),\n",
              " ('2014-12-08', '+2', '86'),\n",
              " ('2014-12-09', '+10', '96'),\n",
              " ('2014-12-12', '+2', '98'),\n",
              " ('2014-12-24', '+10', '108'),\n",
              " ('2015-02-03', '0', '108'),\n",
              " ('2015-02-20', '+10', '118'),\n",
              " ('2015-03-28', '+10', '128'),\n",
              " ('2015-04-26', '+10', '138'),\n",
              " ('2015-05-05', '+10', '148'),\n",
              " ('2015-05-26', '+10', '158'),\n",
              " ('2015-05-27', '+20', '178'),\n",
              " ('2015-06-09', '0', '178'),\n",
              " ('2015-07-03', '+10', '188'),\n",
              " ('2015-07-06', '0', '188'),\n",
              " ('2015-07-22', '+110', '298'),\n",
              " ('2015-08-21', '+10', '308'),\n",
              " ('2015-09-07', '+10', '318'),\n",
              " ('2015-10-14', '-1', '317')]"
            ]
          },
          "metadata": {
            "tags": []
          },
          "execution_count": 103
        }
      ]
    },
    {
      "cell_type": "markdown",
      "metadata": {
        "id": "EL4ntVshAI9b"
      },
      "source": [
        "Convert this list of tuples into a **pandas DataFrame**. It should have appropriate column names, and the second and third columns, for example: 'change' and 'running_total', should be of type integer (rather than string/object)."
      ]
    },
    {
      "cell_type": "code",
      "metadata": {
        "colab": {
          "base_uri": "https://localhost:8080/",
          "height": 1000
        },
        "id": "WcxpNPo2ATnU",
        "outputId": "4d382066-4a26-4eb7-99aa-e3663f0edac5"
      },
      "source": [
        "# convert the list of tuples into a DataFrame\n",
        "import pandas as pd\n",
        "col_names = ['date', 'change', 'running_total']\n",
        "repframe = pd.DataFrame(rep, columns = col_names)\n",
        "repframe = repframe.astype({'change':'int32','running_total':'int32'}) #formatted on a second line, had an issue trying to combine ines\n",
        "repframe"
      ],
      "execution_count": 105,
      "outputs": [
        {
          "output_type": "execute_result",
          "data": {
            "text/html": [
              "<div>\n",
              "<style scoped>\n",
              "    .dataframe tbody tr th:only-of-type {\n",
              "        vertical-align: middle;\n",
              "    }\n",
              "\n",
              "    .dataframe tbody tr th {\n",
              "        vertical-align: top;\n",
              "    }\n",
              "\n",
              "    .dataframe thead th {\n",
              "        text-align: right;\n",
              "    }\n",
              "</style>\n",
              "<table border=\"1\" class=\"dataframe\">\n",
              "  <thead>\n",
              "    <tr style=\"text-align: right;\">\n",
              "      <th></th>\n",
              "      <th>date</th>\n",
              "      <th>change</th>\n",
              "      <th>running_total</th>\n",
              "    </tr>\n",
              "  </thead>\n",
              "  <tbody>\n",
              "    <tr>\n",
              "      <th>0</th>\n",
              "      <td>2012-08-30</td>\n",
              "      <td>5</td>\n",
              "      <td>6</td>\n",
              "    </tr>\n",
              "    <tr>\n",
              "      <th>1</th>\n",
              "      <td>2012-12-11</td>\n",
              "      <td>10</td>\n",
              "      <td>16</td>\n",
              "    </tr>\n",
              "    <tr>\n",
              "      <th>2</th>\n",
              "      <td>2013-03-20</td>\n",
              "      <td>10</td>\n",
              "      <td>26</td>\n",
              "    </tr>\n",
              "    <tr>\n",
              "      <th>3</th>\n",
              "      <td>2013-12-05</td>\n",
              "      <td>0</td>\n",
              "      <td>26</td>\n",
              "    </tr>\n",
              "    <tr>\n",
              "      <th>4</th>\n",
              "      <td>2014-01-25</td>\n",
              "      <td>0</td>\n",
              "      <td>26</td>\n",
              "    </tr>\n",
              "    <tr>\n",
              "      <th>5</th>\n",
              "      <td>2014-03-19</td>\n",
              "      <td>2</td>\n",
              "      <td>28</td>\n",
              "    </tr>\n",
              "    <tr>\n",
              "      <th>6</th>\n",
              "      <td>2014-05-11</td>\n",
              "      <td>2</td>\n",
              "      <td>30</td>\n",
              "    </tr>\n",
              "    <tr>\n",
              "      <th>7</th>\n",
              "      <td>2014-05-12</td>\n",
              "      <td>12</td>\n",
              "      <td>42</td>\n",
              "    </tr>\n",
              "    <tr>\n",
              "      <th>8</th>\n",
              "      <td>2014-06-12</td>\n",
              "      <td>10</td>\n",
              "      <td>52</td>\n",
              "    </tr>\n",
              "    <tr>\n",
              "      <th>9</th>\n",
              "      <td>2014-06-26</td>\n",
              "      <td>10</td>\n",
              "      <td>62</td>\n",
              "    </tr>\n",
              "    <tr>\n",
              "      <th>10</th>\n",
              "      <td>2014-07-05</td>\n",
              "      <td>0</td>\n",
              "      <td>62</td>\n",
              "    </tr>\n",
              "    <tr>\n",
              "      <th>11</th>\n",
              "      <td>2014-09-02</td>\n",
              "      <td>0</td>\n",
              "      <td>62</td>\n",
              "    </tr>\n",
              "    <tr>\n",
              "      <th>12</th>\n",
              "      <td>2014-09-03</td>\n",
              "      <td>10</td>\n",
              "      <td>72</td>\n",
              "    </tr>\n",
              "    <tr>\n",
              "      <th>13</th>\n",
              "      <td>2014-10-28</td>\n",
              "      <td>0</td>\n",
              "      <td>72</td>\n",
              "    </tr>\n",
              "    <tr>\n",
              "      <th>14</th>\n",
              "      <td>2014-11-14</td>\n",
              "      <td>10</td>\n",
              "      <td>82</td>\n",
              "    </tr>\n",
              "    <tr>\n",
              "      <th>15</th>\n",
              "      <td>2014-11-18</td>\n",
              "      <td>2</td>\n",
              "      <td>84</td>\n",
              "    </tr>\n",
              "    <tr>\n",
              "      <th>16</th>\n",
              "      <td>2014-12-08</td>\n",
              "      <td>2</td>\n",
              "      <td>86</td>\n",
              "    </tr>\n",
              "    <tr>\n",
              "      <th>17</th>\n",
              "      <td>2014-12-09</td>\n",
              "      <td>10</td>\n",
              "      <td>96</td>\n",
              "    </tr>\n",
              "    <tr>\n",
              "      <th>18</th>\n",
              "      <td>2014-12-12</td>\n",
              "      <td>2</td>\n",
              "      <td>98</td>\n",
              "    </tr>\n",
              "    <tr>\n",
              "      <th>19</th>\n",
              "      <td>2014-12-24</td>\n",
              "      <td>10</td>\n",
              "      <td>108</td>\n",
              "    </tr>\n",
              "    <tr>\n",
              "      <th>20</th>\n",
              "      <td>2015-02-03</td>\n",
              "      <td>0</td>\n",
              "      <td>108</td>\n",
              "    </tr>\n",
              "    <tr>\n",
              "      <th>21</th>\n",
              "      <td>2015-02-20</td>\n",
              "      <td>10</td>\n",
              "      <td>118</td>\n",
              "    </tr>\n",
              "    <tr>\n",
              "      <th>22</th>\n",
              "      <td>2015-03-28</td>\n",
              "      <td>10</td>\n",
              "      <td>128</td>\n",
              "    </tr>\n",
              "    <tr>\n",
              "      <th>23</th>\n",
              "      <td>2015-04-26</td>\n",
              "      <td>10</td>\n",
              "      <td>138</td>\n",
              "    </tr>\n",
              "    <tr>\n",
              "      <th>24</th>\n",
              "      <td>2015-05-05</td>\n",
              "      <td>10</td>\n",
              "      <td>148</td>\n",
              "    </tr>\n",
              "    <tr>\n",
              "      <th>25</th>\n",
              "      <td>2015-05-26</td>\n",
              "      <td>10</td>\n",
              "      <td>158</td>\n",
              "    </tr>\n",
              "    <tr>\n",
              "      <th>26</th>\n",
              "      <td>2015-05-27</td>\n",
              "      <td>20</td>\n",
              "      <td>178</td>\n",
              "    </tr>\n",
              "    <tr>\n",
              "      <th>27</th>\n",
              "      <td>2015-06-09</td>\n",
              "      <td>0</td>\n",
              "      <td>178</td>\n",
              "    </tr>\n",
              "    <tr>\n",
              "      <th>28</th>\n",
              "      <td>2015-07-03</td>\n",
              "      <td>10</td>\n",
              "      <td>188</td>\n",
              "    </tr>\n",
              "    <tr>\n",
              "      <th>29</th>\n",
              "      <td>2015-07-06</td>\n",
              "      <td>0</td>\n",
              "      <td>188</td>\n",
              "    </tr>\n",
              "    <tr>\n",
              "      <th>30</th>\n",
              "      <td>2015-07-22</td>\n",
              "      <td>110</td>\n",
              "      <td>298</td>\n",
              "    </tr>\n",
              "    <tr>\n",
              "      <th>31</th>\n",
              "      <td>2015-08-21</td>\n",
              "      <td>10</td>\n",
              "      <td>308</td>\n",
              "    </tr>\n",
              "    <tr>\n",
              "      <th>32</th>\n",
              "      <td>2015-09-07</td>\n",
              "      <td>10</td>\n",
              "      <td>318</td>\n",
              "    </tr>\n",
              "    <tr>\n",
              "      <th>33</th>\n",
              "      <td>2015-10-14</td>\n",
              "      <td>-1</td>\n",
              "      <td>317</td>\n",
              "    </tr>\n",
              "  </tbody>\n",
              "</table>\n",
              "</div>"
            ],
            "text/plain": [
              "          date  change  running_total\n",
              "0   2012-08-30       5              6\n",
              "1   2012-12-11      10             16\n",
              "2   2013-03-20      10             26\n",
              "3   2013-12-05       0             26\n",
              "4   2014-01-25       0             26\n",
              "5   2014-03-19       2             28\n",
              "6   2014-05-11       2             30\n",
              "7   2014-05-12      12             42\n",
              "8   2014-06-12      10             52\n",
              "9   2014-06-26      10             62\n",
              "10  2014-07-05       0             62\n",
              "11  2014-09-02       0             62\n",
              "12  2014-09-03      10             72\n",
              "13  2014-10-28       0             72\n",
              "14  2014-11-14      10             82\n",
              "15  2014-11-18       2             84\n",
              "16  2014-12-08       2             86\n",
              "17  2014-12-09      10             96\n",
              "18  2014-12-12       2             98\n",
              "19  2014-12-24      10            108\n",
              "20  2015-02-03       0            108\n",
              "21  2015-02-20      10            118\n",
              "22  2015-03-28      10            128\n",
              "23  2015-04-26      10            138\n",
              "24  2015-05-05      10            148\n",
              "25  2015-05-26      10            158\n",
              "26  2015-05-27      20            178\n",
              "27  2015-06-09       0            178\n",
              "28  2015-07-03      10            188\n",
              "29  2015-07-06       0            188\n",
              "30  2015-07-22     110            298\n",
              "31  2015-08-21      10            308\n",
              "32  2015-09-07      10            318\n",
              "33  2015-10-14      -1            317"
            ]
          },
          "metadata": {
            "tags": []
          },
          "execution_count": 105
        }
      ]
    }
  ]
}