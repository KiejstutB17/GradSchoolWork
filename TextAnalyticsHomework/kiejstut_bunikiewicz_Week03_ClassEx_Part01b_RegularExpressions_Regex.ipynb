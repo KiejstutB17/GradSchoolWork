{
  "nbformat": 4,
  "nbformat_minor": 0,
  "metadata": {
    "colab": {
      "name": "Week03_ClassEx_Part01b_RegularExpressions_Regex.ipynb",
      "provenance": [],
      "collapsed_sections": []
    },
    "kernelspec": {
      "name": "python3",
      "display_name": "Python 3"
    }
  },
  "cells": [
    {
      "cell_type": "code",
      "metadata": {
        "id": "eOEijZwFw56D"
      },
      "source": [
        "import re"
      ],
      "execution_count": 1,
      "outputs": []
    },
    {
      "cell_type": "code",
      "metadata": {
        "id": "9VqMvAu75qrv"
      },
      "source": [
        "s = 'my 1st string!!' #define the string"
      ],
      "execution_count": 2,
      "outputs": []
    },
    {
      "cell_type": "code",
      "metadata": {
        "id": "nuzDfjTa5wCw",
        "colab": {
          "base_uri": "https://localhost:8080/"
        },
        "outputId": "fcc90b23-f66b-4c82-c841-bc01db7acd42"
      },
      "source": [
        "#What is the pattern we want to search for? For example:\n",
        "re.search(r'..t', s)"
      ],
      "execution_count": 3,
      "outputs": [
        {
          "output_type": "execute_result",
          "data": {
            "text/plain": [
              "<_sre.SRE_Match object; span=(3, 6), match='1st'>"
            ]
          },
          "metadata": {
            "tags": []
          },
          "execution_count": 3
        }
      ]
    },
    {
      "cell_type": "code",
      "metadata": {
        "id": "SEk-GFyrFLxq",
        "colab": {
          "base_uri": "https://localhost:8080/",
          "height": 35
        },
        "outputId": "bc6c5c83-d275-4384-96f6-96cd024593c5"
      },
      "source": [
        "#We now want to get an actual match but not only a match object.\n",
        "#This match object has a method called group\n",
        "re.search(r'..t',s).group()"
      ],
      "execution_count": 4,
      "outputs": [
        {
          "output_type": "execute_result",
          "data": {
            "application/vnd.google.colaboratory.intrinsic+json": {
              "type": "string"
            },
            "text/plain": [
              "'1st'"
            ]
          },
          "metadata": {
            "tags": []
          },
          "execution_count": 4
        }
      ]
    },
    {
      "cell_type": "code",
      "metadata": {
        "id": "XbANR65eFLzS",
        "colab": {
          "base_uri": "https://localhost:8080/"
        },
        "outputId": "bb87e4cc-cc62-491c-cac2-fc8e5dd7e1a2"
      },
      "source": [
        "re.search(r'sti', s)\n",
        "print(re.search(r'sti', s))"
      ],
      "execution_count": 5,
      "outputs": [
        {
          "output_type": "stream",
          "text": [
            "None\n"
          ],
          "name": "stdout"
        }
      ]
    },
    {
      "cell_type": "code",
      "metadata": {
        "id": "daR0xQL1HEEM",
        "colab": {
          "base_uri": "https://localhost:8080/",
          "height": 178
        },
        "outputId": "6b15b7db-c9f4-4465-e019-f417c5675332"
      },
      "source": [
        "#If I try to group on that...\n",
        "re.search(r'sti', s).group()"
      ],
      "execution_count": 6,
      "outputs": [
        {
          "output_type": "error",
          "ename": "AttributeError",
          "evalue": "ignored",
          "traceback": [
            "\u001b[0;31m---------------------------------------------------------------------------\u001b[0m",
            "\u001b[0;31mAttributeError\u001b[0m                            Traceback (most recent call last)",
            "\u001b[0;32m<ipython-input-6-8d63fa12d1cc>\u001b[0m in \u001b[0;36m<module>\u001b[0;34m()\u001b[0m\n\u001b[1;32m      1\u001b[0m \u001b[0;31m#If I try to group on that...\u001b[0m\u001b[0;34m\u001b[0m\u001b[0;34m\u001b[0m\u001b[0;34m\u001b[0m\u001b[0m\n\u001b[0;32m----> 2\u001b[0;31m \u001b[0mre\u001b[0m\u001b[0;34m.\u001b[0m\u001b[0msearch\u001b[0m\u001b[0;34m(\u001b[0m\u001b[0;34mr'sti'\u001b[0m\u001b[0;34m,\u001b[0m \u001b[0ms\u001b[0m\u001b[0;34m)\u001b[0m\u001b[0;34m.\u001b[0m\u001b[0mgroup\u001b[0m\u001b[0;34m(\u001b[0m\u001b[0;34m)\u001b[0m\u001b[0;34m\u001b[0m\u001b[0;34m\u001b[0m\u001b[0m\n\u001b[0m",
            "\u001b[0;31mAttributeError\u001b[0m: 'NoneType' object has no attribute 'group'"
          ]
        }
      ]
    },
    {
      "cell_type": "code",
      "metadata": {
        "id": "D8zfMWOyH70i",
        "colab": {
          "base_uri": "https://localhost:8080/"
        },
        "outputId": "096ecdda-82be-48e2-8ddb-47e543721123"
      },
      "source": [
        "#Let us now see an alternative way\n",
        "match = re.search(r'..t',s)\n",
        "if match:\n",
        "  print(match.group())"
      ],
      "execution_count": 7,
      "outputs": [
        {
          "output_type": "stream",
          "text": [
            "1st\n"
          ],
          "name": "stdout"
        }
      ]
    },
    {
      "cell_type": "code",
      "metadata": {
        "id": "eCyX_CA2O-UP"
      },
      "source": [
        "match = re.search(r'sti',s)\r\n",
        "if match:\r\n",
        "  print(match.group())"
      ],
      "execution_count": 8,
      "outputs": []
    },
    {
      "cell_type": "code",
      "metadata": {
        "id": "wSg5iRRrbeXt"
      },
      "source": [
        "#Lets use findall() function.\n",
        "with open('/content/mailbox.txt') as f:\n",
        "  messages = f.read()"
      ],
      "execution_count": 9,
      "outputs": []
    },
    {
      "cell_type": "code",
      "metadata": {
        "id": "kbFTiS04cl08",
        "colab": {
          "base_uri": "https://localhost:8080/"
        },
        "outputId": "8df0fc0e-ba9e-48e3-a1ba-bd918def1752"
      },
      "source": [
        "len(messages) "
      ],
      "execution_count": 10,
      "outputs": [
        {
          "output_type": "execute_result",
          "data": {
            "text/plain": [
              "94626"
            ]
          },
          "metadata": {
            "tags": []
          },
          "execution_count": 10
        }
      ]
    },
    {
      "cell_type": "code",
      "metadata": {
        "id": "813z9JlaeQW6",
        "colab": {
          "base_uri": "https://localhost:8080/"
        },
        "outputId": "f8da33b3-2328-45bb-eee6-1ab4226768ef"
      },
      "source": [
        "type(messages)"
      ],
      "execution_count": 11,
      "outputs": [
        {
          "output_type": "execute_result",
          "data": {
            "text/plain": [
              "str"
            ]
          },
          "metadata": {
            "tags": []
          },
          "execution_count": 11
        }
      ]
    },
    {
      "cell_type": "code",
      "metadata": {
        "id": "PfPHhyNzeh5R",
        "colab": {
          "base_uri": "https://localhost:8080/",
          "height": 136
        },
        "outputId": "891501da-9b7d-4fb5-a9b9-b21357cbebbd"
      },
      "source": [
        "#lets look at the first 500 characters\n",
        "messages[0:500]"
      ],
      "execution_count": 12,
      "outputs": [
        {
          "output_type": "execute_result",
          "data": {
            "application/vnd.google.colaboratory.intrinsic+json": {
              "type": "string"
            },
            "text/plain": [
              "'From stephen.marquard@uct.ac.za Sat Jan  5 09:14:16 2008\\nReturn-Path: <postmaster@collab.sakaiproject.org>\\nReceived: from murder (mail.umich.edu [141.211.14.90])\\n\\t by frankenstein.mail.umich.edu (Cyrus v2.3.8) with LMTPA;\\n\\t Sat, 05 Jan 2008 09:14:16 -0500\\nX-Sieve: CMU Sieve 2.3\\nReceived: from murder ([unix socket])\\n\\t by mail.umich.edu (Cyrus v2.2.12) with LMTPA;\\n\\t Sat, 05 Jan 2008 09:14:16 -0500\\nReceived: from holes.mr.itd.umich.edu (holes.mr.itd.umich.edu [141.211.14.79])\\n\\tby flawless.mail.umic'"
            ]
          },
          "metadata": {
            "tags": []
          },
          "execution_count": 12
        }
      ]
    },
    {
      "cell_type": "code",
      "metadata": {
        "id": "vXQ1ZqVAfEN1",
        "colab": {
          "base_uri": "https://localhost:8080/"
        },
        "outputId": "104df7a5-3edf-40b4-bca1-1c49dfe22a25"
      },
      "source": [
        "#If you want to see the email in a much structured way:\n",
        "print(messages[0:500])"
      ],
      "execution_count": 13,
      "outputs": [
        {
          "output_type": "stream",
          "text": [
            "From stephen.marquard@uct.ac.za Sat Jan  5 09:14:16 2008\n",
            "Return-Path: <postmaster@collab.sakaiproject.org>\n",
            "Received: from murder (mail.umich.edu [141.211.14.90])\n",
            "\t by frankenstein.mail.umich.edu (Cyrus v2.3.8) with LMTPA;\n",
            "\t Sat, 05 Jan 2008 09:14:16 -0500\n",
            "X-Sieve: CMU Sieve 2.3\n",
            "Received: from murder ([unix socket])\n",
            "\t by mail.umich.edu (Cyrus v2.2.12) with LMTPA;\n",
            "\t Sat, 05 Jan 2008 09:14:16 -0500\n",
            "Received: from holes.mr.itd.umich.edu (holes.mr.itd.umich.edu [141.211.14.79])\n",
            "\tby flawless.mail.umic\n"
          ],
          "name": "stdout"
        }
      ]
    },
    {
      "cell_type": "code",
      "metadata": {
        "id": "uT2w03ZehUhx"
      },
      "source": [
        "emails = re.findall(r'[\\w.-]+@[\\w.-]+', messages)"
      ],
      "execution_count": 14,
      "outputs": []
    },
    {
      "cell_type": "code",
      "metadata": {
        "id": "ERIfhSl0hkVJ",
        "colab": {
          "base_uri": "https://localhost:8080/"
        },
        "outputId": "e7d0096f-a3ba-477d-b35b-2e3a0afbe911"
      },
      "source": [
        "emails[0:10]"
      ],
      "execution_count": 15,
      "outputs": [
        {
          "output_type": "execute_result",
          "data": {
            "text/plain": [
              "['stephen.marquard@uct.ac.za',\n",
              " 'postmaster@collab.sakaiproject.org',\n",
              " '200801051412.m05ECIaH010327@nakamura.uits.iupui.edu',\n",
              " 'source@collab.sakaiproject.org',\n",
              " 'source@collab.sakaiproject.org',\n",
              " 'source@collab.sakaiproject.org',\n",
              " 'apache@localhost',\n",
              " 'source@collab.sakaiproject.org',\n",
              " 'stephen.marquard@uct.ac.za',\n",
              " 'source@collab.sakaiproject.org']"
            ]
          },
          "metadata": {
            "tags": []
          },
          "execution_count": 15
        }
      ]
    },
    {
      "cell_type": "code",
      "metadata": {
        "id": "pK2hw1rVh_7d"
      },
      "source": [
        "emails = re.findall(r'([\\w.-]+)@[\\w.-]+', messages)"
      ],
      "execution_count": 16,
      "outputs": []
    },
    {
      "cell_type": "code",
      "metadata": {
        "id": "naaHRQ64iy5Y",
        "colab": {
          "base_uri": "https://localhost:8080/"
        },
        "outputId": "d401f1dd-3e67-42e4-f662-3ff5c67c7e38"
      },
      "source": [
        "emails[0:10]"
      ],
      "execution_count": 17,
      "outputs": [
        {
          "output_type": "execute_result",
          "data": {
            "text/plain": [
              "['stephen.marquard',\n",
              " 'postmaster',\n",
              " '200801051412.m05ECIaH010327',\n",
              " 'source',\n",
              " 'source',\n",
              " 'source',\n",
              " 'apache',\n",
              " 'source',\n",
              " 'stephen.marquard',\n",
              " 'source']"
            ]
          },
          "metadata": {
            "tags": []
          },
          "execution_count": 17
        }
      ]
    },
    {
      "cell_type": "code",
      "metadata": {
        "id": "9IdGxCVoi9ML"
      },
      "source": [
        "emails = re.findall(r'([\\w.-]+)@([\\w.-]+)', messages)"
      ],
      "execution_count": 18,
      "outputs": []
    },
    {
      "cell_type": "code",
      "metadata": {
        "id": "iPMAQTPRjU8C",
        "colab": {
          "base_uri": "https://localhost:8080/"
        },
        "outputId": "db64fc00-afd9-435d-aa45-a1c8f3d1b0ac"
      },
      "source": [
        "emails[0:10]"
      ],
      "execution_count": 19,
      "outputs": [
        {
          "output_type": "execute_result",
          "data": {
            "text/plain": [
              "[('stephen.marquard', 'uct.ac.za'),\n",
              " ('postmaster', 'collab.sakaiproject.org'),\n",
              " ('200801051412.m05ECIaH010327', 'nakamura.uits.iupui.edu'),\n",
              " ('source', 'collab.sakaiproject.org'),\n",
              " ('source', 'collab.sakaiproject.org'),\n",
              " ('source', 'collab.sakaiproject.org'),\n",
              " ('apache', 'localhost'),\n",
              " ('source', 'collab.sakaiproject.org'),\n",
              " ('stephen.marquard', 'uct.ac.za'),\n",
              " ('source', 'collab.sakaiproject.org')]"
            ]
          },
          "metadata": {
            "tags": []
          },
          "execution_count": 19
        }
      ]
    },
    {
      "cell_type": "code",
      "metadata": {
        "id": "84PdjaEtlSGA",
        "colab": {
          "base_uri": "https://localhost:8080/"
        },
        "outputId": "32365ce1-e7cb-4c15-c34b-4faa9f3f0c66"
      },
      "source": [
        "print(messages[0:500])"
      ],
      "execution_count": 20,
      "outputs": [
        {
          "output_type": "stream",
          "text": [
            "From stephen.marquard@uct.ac.za Sat Jan  5 09:14:16 2008\n",
            "Return-Path: <postmaster@collab.sakaiproject.org>\n",
            "Received: from murder (mail.umich.edu [141.211.14.90])\n",
            "\t by frankenstein.mail.umich.edu (Cyrus v2.3.8) with LMTPA;\n",
            "\t Sat, 05 Jan 2008 09:14:16 -0500\n",
            "X-Sieve: CMU Sieve 2.3\n",
            "Received: from murder ([unix socket])\n",
            "\t by mail.umich.edu (Cyrus v2.2.12) with LMTPA;\n",
            "\t Sat, 05 Jan 2008 09:14:16 -0500\n",
            "Received: from holes.mr.itd.umich.edu (holes.mr.itd.umich.edu [141.211.14.79])\n",
            "\tby flawless.mail.umic\n"
          ],
          "name": "stdout"
        }
      ]
    },
    {
      "cell_type": "code",
      "metadata": {
        "id": "rvDIvC-ekSQH",
        "colab": {
          "base_uri": "https://localhost:8080/"
        },
        "outputId": "733c2390-814f-416f-c484-0e213bcae37a"
      },
      "source": [
        "re.findall(r'2008', messages)"
      ],
      "execution_count": 21,
      "outputs": [
        {
          "output_type": "execute_result",
          "data": {
            "text/plain": [
              "['2008',\n",
              " '2008',\n",
              " '2008',\n",
              " '2008',\n",
              " '2008',\n",
              " '2008',\n",
              " '2008',\n",
              " '2008',\n",
              " '2008',\n",
              " '2008',\n",
              " '2008',\n",
              " '2008',\n",
              " '2008',\n",
              " '2008',\n",
              " '2008',\n",
              " '2008',\n",
              " '2008',\n",
              " '2008',\n",
              " '2008',\n",
              " '2008',\n",
              " '2008',\n",
              " '2008',\n",
              " '2008',\n",
              " '2008',\n",
              " '2008',\n",
              " '2008',\n",
              " '2008',\n",
              " '2008',\n",
              " '2008',\n",
              " '2008',\n",
              " '2008',\n",
              " '2008',\n",
              " '2008',\n",
              " '2008',\n",
              " '2008',\n",
              " '2008',\n",
              " '2008',\n",
              " '2008',\n",
              " '2008',\n",
              " '2008',\n",
              " '2008',\n",
              " '2008',\n",
              " '2008',\n",
              " '2008',\n",
              " '2008',\n",
              " '2008',\n",
              " '2008',\n",
              " '2008',\n",
              " '2008',\n",
              " '2008',\n",
              " '2008',\n",
              " '2008',\n",
              " '2008',\n",
              " '2008',\n",
              " '2008',\n",
              " '2008',\n",
              " '2008',\n",
              " '2008',\n",
              " '2008',\n",
              " '2008',\n",
              " '2008',\n",
              " '2008',\n",
              " '2008',\n",
              " '2008',\n",
              " '2008',\n",
              " '2008',\n",
              " '2008',\n",
              " '2008',\n",
              " '2008',\n",
              " '2008',\n",
              " '2008',\n",
              " '2008',\n",
              " '2008',\n",
              " '2008',\n",
              " '2008',\n",
              " '2008',\n",
              " '2008',\n",
              " '2008',\n",
              " '2008',\n",
              " '2008',\n",
              " '2008',\n",
              " '2008',\n",
              " '2008',\n",
              " '2008',\n",
              " '2008',\n",
              " '2008',\n",
              " '2008',\n",
              " '2008',\n",
              " '2008',\n",
              " '2008',\n",
              " '2008',\n",
              " '2008',\n",
              " '2008',\n",
              " '2008',\n",
              " '2008',\n",
              " '2008',\n",
              " '2008',\n",
              " '2008',\n",
              " '2008',\n",
              " '2008',\n",
              " '2008',\n",
              " '2008',\n",
              " '2008',\n",
              " '2008',\n",
              " '2008',\n",
              " '2008',\n",
              " '2008',\n",
              " '2008',\n",
              " '2008',\n",
              " '2008',\n",
              " '2008',\n",
              " '2008',\n",
              " '2008',\n",
              " '2008',\n",
              " '2008',\n",
              " '2008',\n",
              " '2008',\n",
              " '2008',\n",
              " '2008',\n",
              " '2008',\n",
              " '2008',\n",
              " '2008',\n",
              " '2008',\n",
              " '2008',\n",
              " '2008',\n",
              " '2008',\n",
              " '2008',\n",
              " '2008',\n",
              " '2008',\n",
              " '2008',\n",
              " '2008',\n",
              " '2008',\n",
              " '2008',\n",
              " '2008',\n",
              " '2008',\n",
              " '2008',\n",
              " '2008',\n",
              " '2008',\n",
              " '2008',\n",
              " '2008',\n",
              " '2008',\n",
              " '2008',\n",
              " '2008',\n",
              " '2008',\n",
              " '2008',\n",
              " '2008',\n",
              " '2008',\n",
              " '2008',\n",
              " '2008',\n",
              " '2008',\n",
              " '2008',\n",
              " '2008',\n",
              " '2008',\n",
              " '2008',\n",
              " '2008',\n",
              " '2008',\n",
              " '2008',\n",
              " '2008',\n",
              " '2008',\n",
              " '2008',\n",
              " '2008',\n",
              " '2008',\n",
              " '2008',\n",
              " '2008',\n",
              " '2008',\n",
              " '2008',\n",
              " '2008',\n",
              " '2008',\n",
              " '2008',\n",
              " '2008',\n",
              " '2008',\n",
              " '2008',\n",
              " '2008',\n",
              " '2008',\n",
              " '2008',\n",
              " '2008',\n",
              " '2008',\n",
              " '2008',\n",
              " '2008',\n",
              " '2008',\n",
              " '2008',\n",
              " '2008',\n",
              " '2008',\n",
              " '2008',\n",
              " '2008',\n",
              " '2008',\n",
              " '2008',\n",
              " '2008',\n",
              " '2008',\n",
              " '2008',\n",
              " '2008',\n",
              " '2008',\n",
              " '2008',\n",
              " '2008',\n",
              " '2008',\n",
              " '2008',\n",
              " '2008',\n",
              " '2008',\n",
              " '2008',\n",
              " '2008',\n",
              " '2008',\n",
              " '2008',\n",
              " '2008',\n",
              " '2008',\n",
              " '2008',\n",
              " '2008',\n",
              " '2008',\n",
              " '2008',\n",
              " '2008',\n",
              " '2008',\n",
              " '2008',\n",
              " '2008',\n",
              " '2008',\n",
              " '2008',\n",
              " '2008',\n",
              " '2008',\n",
              " '2008',\n",
              " '2008',\n",
              " '2008',\n",
              " '2008',\n",
              " '2008',\n",
              " '2008',\n",
              " '2008',\n",
              " '2008',\n",
              " '2008',\n",
              " '2008',\n",
              " '2008',\n",
              " '2008',\n",
              " '2008',\n",
              " '2008',\n",
              " '2008',\n",
              " '2008',\n",
              " '2008',\n",
              " '2008',\n",
              " '2008',\n",
              " '2008',\n",
              " '2008',\n",
              " '2008',\n",
              " '2008',\n",
              " '2008',\n",
              " '2008',\n",
              " '2008',\n",
              " '2008',\n",
              " '2008',\n",
              " '2008',\n",
              " '2008',\n",
              " '2008',\n",
              " '2008',\n",
              " '2008',\n",
              " '2008',\n",
              " '2008',\n",
              " '2008',\n",
              " '2008',\n",
              " '2008',\n",
              " '2008',\n",
              " '2008',\n",
              " '2008',\n",
              " '2008',\n",
              " '2008',\n",
              " '2008',\n",
              " '2008',\n",
              " '2008',\n",
              " '2008',\n",
              " '2008',\n",
              " '2008',\n",
              " '2008',\n",
              " '2008',\n",
              " '2008',\n",
              " '2008',\n",
              " '2008',\n",
              " '2008',\n",
              " '2008',\n",
              " '2008',\n",
              " '2008',\n",
              " '2008',\n",
              " '2008',\n",
              " '2008',\n",
              " '2008',\n",
              " '2008',\n",
              " '2008',\n",
              " '2008',\n",
              " '2008',\n",
              " '2008',\n",
              " '2008',\n",
              " '2008',\n",
              " '2008',\n",
              " '2008',\n",
              " '2008',\n",
              " '2008',\n",
              " '2008',\n",
              " '2008',\n",
              " '2008',\n",
              " '2008',\n",
              " '2008',\n",
              " '2008',\n",
              " '2008',\n",
              " '2008',\n",
              " '2008',\n",
              " '2008',\n",
              " '2008',\n",
              " '2008',\n",
              " '2008',\n",
              " '2008',\n",
              " '2008',\n",
              " '2008',\n",
              " '2008',\n",
              " '2008',\n",
              " '2008',\n",
              " '2008',\n",
              " '2008',\n",
              " '2008',\n",
              " '2008',\n",
              " '2008',\n",
              " '2008',\n",
              " '2008',\n",
              " '2008',\n",
              " '2008',\n",
              " '2008',\n",
              " '2008',\n",
              " '2008',\n",
              " '2008',\n",
              " '2008',\n",
              " '2008',\n",
              " '2008',\n",
              " '2008',\n",
              " '2008',\n",
              " '2008',\n",
              " '2008',\n",
              " '2008',\n",
              " '2008',\n",
              " '2008',\n",
              " '2008',\n",
              " '2008',\n",
              " '2008',\n",
              " '2008',\n",
              " '2008',\n",
              " '2008',\n",
              " '2008',\n",
              " '2008',\n",
              " '2008',\n",
              " '2008',\n",
              " '2008',\n",
              " '2008',\n",
              " '2008',\n",
              " '2008',\n",
              " '2008',\n",
              " '2008',\n",
              " '2008',\n",
              " '2008',\n",
              " '2008',\n",
              " '2008',\n",
              " '2008',\n",
              " '2008',\n",
              " '2008',\n",
              " '2008',\n",
              " '2008',\n",
              " '2008',\n",
              " '2008',\n",
              " '2008',\n",
              " '2008',\n",
              " '2008',\n",
              " '2008',\n",
              " '2008',\n",
              " '2008',\n",
              " '2008',\n",
              " '2008',\n",
              " '2008',\n",
              " '2008',\n",
              " '2008',\n",
              " '2008',\n",
              " '2008',\n",
              " '2008',\n",
              " '2008',\n",
              " '2008',\n",
              " '2008',\n",
              " '2008',\n",
              " '2008',\n",
              " '2008',\n",
              " '2008',\n",
              " '2008',\n",
              " '2008',\n",
              " '2008',\n",
              " '2008',\n",
              " '2008',\n",
              " '2008',\n",
              " '2008',\n",
              " '2008',\n",
              " '2008',\n",
              " '2008',\n",
              " '2008',\n",
              " '2008',\n",
              " '2008',\n",
              " '2008',\n",
              " '2008',\n",
              " '2008',\n",
              " '2008',\n",
              " '2008',\n",
              " '2008',\n",
              " '2008',\n",
              " '2008',\n",
              " '2008',\n",
              " '2008',\n",
              " '2008',\n",
              " '2008',\n",
              " '2008',\n",
              " '2008',\n",
              " '2008']"
            ]
          },
          "metadata": {
            "tags": []
          },
          "execution_count": 21
        }
      ]
    },
    {
      "cell_type": "code",
      "metadata": {
        "id": "S4_HHIQ3k6dm",
        "colab": {
          "base_uri": "https://localhost:8080/"
        },
        "outputId": "3ff3e827-7647-413d-c73f-70a7a256eb62"
      },
      "source": [
        "re.findall(r'2008R', messages)"
      ],
      "execution_count": 22,
      "outputs": [
        {
          "output_type": "execute_result",
          "data": {
            "text/plain": [
              "[]"
            ]
          },
          "metadata": {
            "tags": []
          },
          "execution_count": 22
        }
      ]
    }
  ]
}