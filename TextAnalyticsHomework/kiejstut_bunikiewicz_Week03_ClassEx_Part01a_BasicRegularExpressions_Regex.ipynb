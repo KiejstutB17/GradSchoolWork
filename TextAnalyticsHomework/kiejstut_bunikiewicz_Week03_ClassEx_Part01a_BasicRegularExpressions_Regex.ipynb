{
  "nbformat": 4,
  "nbformat_minor": 0,
  "metadata": {
    "colab": {
      "name": "Week03_ClassEx_Part01a_BasicRegularExpressions_Regex.ipynb",
      "provenance": [],
      "collapsed_sections": [],
      "toc_visible": true
    },
    "kernelspec": {
      "name": "python3",
      "display_name": "Python 3"
    }
  },
  "cells": [
    {
      "cell_type": "markdown",
      "metadata": {
        "id": "Qb0kDQCeSvhD"
      },
      "source": [
        "# **Basic Regex Exercise**"
      ]
    },
    {
      "cell_type": "markdown",
      "metadata": {
        "id": "e-TkiQbPTB69"
      },
      "source": [
        "**Exercise 1: Baltimore homicides**\n",
        "\n",
        "A Baltimore newspaper's website contains a map of all homicides in the city, including details about the victims. That map has been scraped, and the data is stored in the file **`homicides.txt`**"
      ]
    },
    {
      "cell_type": "code",
      "metadata": {
        "id": "0583luADSiTd"
      },
      "source": [
        "#read the data into a list (each row is one list element)\n",
        "with open('/content/homicides.txt') as f:\n",
        "  data = [row for row in f]"
      ],
      "execution_count": 1,
      "outputs": []
    },
    {
      "cell_type": "code",
      "metadata": {
        "id": "W8yE_2EBUhW3",
        "colab": {
          "base_uri": "https://localhost:8080/"
        },
        "outputId": "6166eb1c-afdc-43a2-8164-af41a6adc5ca"
      },
      "source": [
        "# check the number of rows\n",
        "len(data)"
      ],
      "execution_count": 2,
      "outputs": [
        {
          "output_type": "execute_result",
          "data": {
            "text/plain": [
              "1250"
            ]
          },
          "metadata": {
            "tags": []
          },
          "execution_count": 2
        }
      ]
    },
    {
      "cell_type": "code",
      "metadata": {
        "id": "LeABVIeOVnso",
        "colab": {
          "base_uri": "https://localhost:8080/"
        },
        "outputId": "b07824dd-b898-445c-b319-49ac3e0c87b4"
      },
      "source": [
        "#examine the 1st 5 rows, i.e. 1st 5 elements of the list.\n",
        "data[0:5]"
      ],
      "execution_count": 4,
      "outputs": [
        {
          "output_type": "execute_result",
          "data": {
            "text/plain": [
              "['39.311024, -76.674227, iconHomicideShooting, \\'p2\\', \\'<dl><dt>Leon Nelson</dt><dd class=\"address\">3400 Clifton Ave.<br />Baltimore, MD 21216</dd><dd>black male, 17 years old</dd><dd>Found on January 1, 2007</dd><dd>Victim died at Shock Trauma</dd><dd>Cause: shooting</dd></dl>\\'\\n',\n",
              " '39.312641, -76.698948, iconHomicideShooting, \\'p3\\', \\'<dl><dt>Eddie Golf</dt><dd class=\"address\">4900 Challedon Road<br />Baltimore, MD 21207</dd><dd>black male, 26 years old</dd><dd>Found on January 2, 2007</dd><dd>Victim died at scene</dd><dd>Cause: shooting</dd></dl>\\'\\n',\n",
              " '39.309781, -76.649882, iconHomicideBluntForce, \\'p4\\', \\'<dl><dt>Nelsene Burnette</dt><dd class=\"address\">2000 West North Ave<br />Baltimore, MD 21217</dd><dd>black female, 44 years old</dd><dd>Found on January 2, 2007</dd><dd>Victim died at scene</dd><dd>Cause: blunt force</dd></dl>\\'\\n',\n",
              " '39.363925, -76.598772, iconHomicideAsphyxiation, \\'p5\\', \\'<dl><dt>Thomas MacKenney</dt><dd class=\"address\">5900 Northwood Drive<br />Baltimore, MD 21212</dd><dd>black male, 21 years old</dd><dd>Found on January 3, 2007</dd><dd>Victim died at scene</dd><dd>Cause: asphyxiation</dd></dl>\\'\\n',\n",
              " '39.238928, -76.602718, iconHomicideBluntForce, \\'p6\\', \\'<dl><dt>Edward Canupp</dt><dd class=\"address\">500 Maude Ave.<br />Baltimore, MD 21225</dd><dd>white male, 61 years old</dd><dd>Found on January 5, 2007</dd><dd>Victim died at scene</dd><dd>Cause: blunt force</dd></dl>\\'\\n']"
            ]
          },
          "metadata": {
            "tags": []
          },
          "execution_count": 4
        }
      ]
    },
    {
      "cell_type": "markdown",
      "metadata": {
        "id": "B0wQOckfWcYh"
      },
      "source": [
        "We want a list of the **ages** of the Baltimore homicide victims. (If the age is missing, insert a zero instead.) Here is the **expected output:**\n",
        "> `ages = ['17 years old', '26 years old', ..., '0 years old', ...]`"
      ]
    },
    {
      "cell_type": "code",
      "metadata": {
        "id": "41gM_UF9V5sR"
      },
      "source": [
        "import re"
      ],
      "execution_count": 5,
      "outputs": []
    },
    {
      "cell_type": "code",
      "metadata": {
        "id": "4yoKmrD-XO5E"
      },
      "source": [
        "#this is your framework code\n",
        "ages = []\n",
        "for row in data:\n",
        "    match = re.search(r'\\d+ years? old', row)\n",
        "    if match:\n",
        "        ages.append(match.group())\n",
        "    else:\n",
        "        ages.append('0 years old')"
      ],
      "execution_count": 6,
      "outputs": []
    },
    {
      "cell_type": "code",
      "metadata": {
        "colab": {
          "base_uri": "https://localhost:8080/"
        },
        "id": "DT2862VDZGG5",
        "outputId": "d936c70d-f20d-4448-f28a-54cad6ae0a20"
      },
      "source": [
        "print(ages[0:100])"
      ],
      "execution_count": 7,
      "outputs": [
        {
          "output_type": "stream",
          "text": [
            "['17 years old', '26 years old', '44 years old', '21 years old', '61 years old', '46 years old', '27 years old', '21 years old', '16 years old', '21 years old', '34 years old', '25 years old', '23 years old', '30 years old', '26 years old', '36 years old', '21 years old', '27 years old', '30 years old', '19 years old', '31 years old', '34 years old', '24 years old', '31 years old', '33 years old', '24 years old', '25 years old', '22 years old', '23 years old', '52 years old', '34 years old', '32 years old', '26 years old', '39 years old', '28 years old', '29 years old', '19 years old', '37 years old', '22 years old', '27 years old', '32 years old', '18 years old', '21 years old', '25 years old', '17 years old', '19 years old', '20 years old', '28 years old', '17 years old', '37 years old', '36 years old', '40 years old', '48 years old', '19 years old', '17 years old', '18 years old', '27 years old', '49 years old', '65 years old', '21 years old', '30 years old', '19 years old', '54 years old', '17 years old', '39 years old', '18 years old', '17 years old', '16 years old', '23 years old', '23 years old', '21 years old', '21 years old', '39 years old', '25 years old', '20 years old', '16 years old', '45 years old', '25 years old', '23 years old', '45 years old', '29 years old', '23 years old', '18 years old', '25 years old', '35 years old', '30 years old', '36 years old', '22 years old', '16 years old', '24 years old', '31 years old', '18 years old', '31 years old', '0 years old', '23 years old', '23 years old', '24 years old', '25 years old', '23 years old', '26 years old']\n"
          ],
          "name": "stdout"
        }
      ]
    },
    {
      "cell_type": "markdown",
      "metadata": {
        "id": "_eKCWoXEbPpQ"
      },
      "source": [
        "Use the `ages` list to create a second list of integers. (This does not require regular expressions.) Here is the **expected output:**\n",
        "\n",
        "> `age_nums = [17, 26, ..., 0, ...]`"
      ]
    },
    {
      "cell_type": "code",
      "metadata": {
        "colab": {
          "base_uri": "https://localhost:8080/"
        },
        "id": "gKMKcG4v1jPK",
        "outputId": "c32758d2-3de6-45d7-bc3e-e219d48d1dce"
      },
      "source": [
        "#split the string on spaces, only keep the first element, and convert to int\n",
        "age_nums = [int(element.split()[0]) for element in ages]\n",
        "print(age_nums[0:100])"
      ],
      "execution_count": 8,
      "outputs": [
        {
          "output_type": "stream",
          "text": [
            "[17, 26, 44, 21, 61, 46, 27, 21, 16, 21, 34, 25, 23, 30, 26, 36, 21, 27, 30, 19, 31, 34, 24, 31, 33, 24, 25, 22, 23, 52, 34, 32, 26, 39, 28, 29, 19, 37, 22, 27, 32, 18, 21, 25, 17, 19, 20, 28, 17, 37, 36, 40, 48, 19, 17, 18, 27, 49, 65, 21, 30, 19, 54, 17, 39, 18, 17, 16, 23, 23, 21, 21, 39, 25, 20, 16, 45, 25, 23, 45, 29, 23, 18, 25, 35, 30, 36, 22, 16, 24, 31, 18, 31, 0, 23, 23, 24, 25, 23, 26]\n"
          ],
          "name": "stdout"
        }
      ]
    },
    {
      "cell_type": "code",
      "metadata": {
        "id": "wwXazg0ra7MW",
        "colab": {
          "base_uri": "https://localhost:8080/",
          "height": 35
        },
        "outputId": "3bd0634b-d87b-4db2-f161-13c3ac7b278e"
      },
      "source": [
        "#Lets go back to regex101.com. type 'my 1st string!!' for demonstrating the \n",
        "#match group.\n",
        "s = 'my 1st string!!'\n",
        "s"
      ],
      "execution_count": 9,
      "outputs": [
        {
          "output_type": "execute_result",
          "data": {
            "application/vnd.google.colaboratory.intrinsic+json": {
              "type": "string"
            },
            "text/plain": [
              "'my 1st string!!'"
            ]
          },
          "metadata": {
            "tags": []
          },
          "execution_count": 9
        }
      ]
    },
    {
      "cell_type": "code",
      "metadata": {
        "id": "WZXB4-p343gm",
        "colab": {
          "base_uri": "https://localhost:8080/",
          "height": 35
        },
        "outputId": "85a955d5-693c-4870-9a97-57b3f9f6f158"
      },
      "source": [
        "re.search(r'(\\d)(..)', s).group()"
      ],
      "execution_count": 10,
      "outputs": [
        {
          "output_type": "execute_result",
          "data": {
            "application/vnd.google.colaboratory.intrinsic+json": {
              "type": "string"
            },
            "text/plain": [
              "'1st'"
            ]
          },
          "metadata": {
            "tags": []
          },
          "execution_count": 10
        }
      ]
    },
    {
      "cell_type": "code",
      "metadata": {
        "id": "ak1Qj1rkeOR3",
        "colab": {
          "base_uri": "https://localhost:8080/",
          "height": 35
        },
        "outputId": "c7e18621-9cb7-4e22-9320-ad3607380317"
      },
      "source": [
        "#By Creating match groups I can refer to them by number.\n",
        "#If I say group 1, I just get the output as 1 because\n",
        "#it was the first match group.\n",
        "re.search(r'(\\d)(..)', s).group(1)"
      ],
      "execution_count": 11,
      "outputs": [
        {
          "output_type": "execute_result",
          "data": {
            "application/vnd.google.colaboratory.intrinsic+json": {
              "type": "string"
            },
            "text/plain": [
              "'1'"
            ]
          },
          "metadata": {
            "tags": []
          },
          "execution_count": 11
        }
      ]
    },
    {
      "cell_type": "code",
      "metadata": {
        "id": "uEwVpxeNelYm",
        "colab": {
          "base_uri": "https://localhost:8080/",
          "height": 35
        },
        "outputId": "b9c0065d-f869-4281-8e65-737c8d0aa4a4"
      },
      "source": [
        "#If I say group 2, I get the st. This is a way to define logical groups \n",
        "#within a regex match such that using group method.\n",
        "re.search(r'(\\d)(..)', s).group(2)"
      ],
      "execution_count": 12,
      "outputs": [
        {
          "output_type": "execute_result",
          "data": {
            "application/vnd.google.colaboratory.intrinsic+json": {
              "type": "string"
            },
            "text/plain": [
              "'st'"
            ]
          },
          "metadata": {
            "tags": []
          },
          "execution_count": 12
        }
      ]
    },
    {
      "cell_type": "markdown",
      "metadata": {
        "id": "EMXiI6p4bXP5"
      },
      "source": [
        "As **a bonus task**, use the `age_nums` list to calculate the **mean age** of a homicide victim (excluding zeros)."
      ]
    },
    {
      "cell_type": "code",
      "metadata": {
        "colab": {
          "base_uri": "https://localhost:8080/"
        },
        "id": "JQ5tFqwgbcoC",
        "outputId": "237a6838-8938-45cc-b1ae-4668739d0454"
      },
      "source": [
        "# remove zero ages\n",
        "clean_age_nums = [num for num in age_nums if num !=0]\n",
        "len(clean_age_nums)"
      ],
      "execution_count": 14,
      "outputs": [
        {
          "output_type": "execute_result",
          "data": {
            "text/plain": [
              "1239"
            ]
          },
          "metadata": {
            "tags": []
          },
          "execution_count": 14
        }
      ]
    },
    {
      "cell_type": "code",
      "metadata": {
        "colab": {
          "base_uri": "https://localhost:8080/"
        },
        "id": "gQIvNeZd2bSr",
        "outputId": "b69c4fdd-7992-4709-fe88-e0de05e12ec6"
      },
      "source": [
        "# calculate the mean age (excluding zeros)\n",
        "sum(clean_age_nums)/len(clean_age_nums)"
      ],
      "execution_count": 15,
      "outputs": [
        {
          "output_type": "execute_result",
          "data": {
            "text/plain": [
              "29.919289749798224"
            ]
          },
          "metadata": {
            "tags": []
          },
          "execution_count": 15
        }
      ]
    },
    {
      "cell_type": "markdown",
      "metadata": {
        "id": "0y2roB1pbjc8"
      },
      "source": [
        "**Exercise 2: Baltimore homicides, revisited**\n",
        "\n",
        "Using **match groups**, create the `age_nums` list directly from the regular expression. Here is the **expected output:**\n",
        "\n",
        "> `age_nums = [17, 26, ..., 0, ...]`"
      ]
    },
    {
      "cell_type": "code",
      "metadata": {
        "id": "Kprb-Es2bvm7"
      },
      "source": [
        "age_nums = []\n",
        "for row in data:\n",
        "    match = re.search(r'(\\d+) years? old', row)\n",
        "    if match:\n",
        "        age_nums.append(int(match.group(1)))\n",
        "    else:\n",
        "        age_nums.append(0)"
      ],
      "execution_count": 18,
      "outputs": []
    },
    {
      "cell_type": "code",
      "metadata": {
        "colab": {
          "base_uri": "https://localhost:8080/"
        },
        "id": "F-9e2zdCbzFy",
        "outputId": "ce8ed00c-dfe0-4693-c955-6e223ea4cb93"
      },
      "source": [
        "print(age_nums[0:100])"
      ],
      "execution_count": 19,
      "outputs": [
        {
          "output_type": "stream",
          "text": [
            "[17, 26, 44, 21, 61, 46, 27, 21, 16, 21, 34, 25, 23, 30, 26, 36, 21, 27, 30, 19, 31, 34, 24, 31, 33, 24, 25, 22, 23, 52, 34, 32, 26, 39, 28, 29, 19, 37, 22, 27, 32, 18, 21, 25, 17, 19, 20, 28, 17, 37, 36, 40, 48, 19, 17, 18, 27, 49, 65, 21, 30, 19, 54, 17, 39, 18, 17, 16, 23, 23, 21, 21, 39, 25, 20, 16, 45, 25, 23, 45, 29, 23, 18, 25, 35, 30, 36, 22, 16, 24, 31, 18, 31, 0, 23, 23, 24, 25, 23, 26]\n"
          ],
          "name": "stdout"
        }
      ]
    },
    {
      "cell_type": "code",
      "metadata": {
        "id": "fJVmigvv3epj"
      },
      "source": [
        "#Lets go back to regex101 for demonstrating character classes."
      ],
      "execution_count": null,
      "outputs": []
    },
    {
      "cell_type": "code",
      "metadata": {
        "id": "9-UK-ATVYNy_"
      },
      "source": [
        "#I want to show you how we can use character classes to solve the Cause problem\n",
        "#on the homicide txt file. But first let us try it on the regex101 platform.\n",
        "#lets copy the first string from the homicide.txt file to the regex101 platform."
      ],
      "execution_count": null,
      "outputs": []
    }
  ]
}