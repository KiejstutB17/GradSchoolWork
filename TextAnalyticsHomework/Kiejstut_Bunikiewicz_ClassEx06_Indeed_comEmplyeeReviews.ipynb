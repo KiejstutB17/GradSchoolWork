{
  "nbformat": 4,
  "nbformat_minor": 0,
  "metadata": {
    "colab": {
      "name": "Kiejstut_Bunikiewicz_ClassEx06_Indeed_comEmplyeeReviews.ipynb",
      "provenance": [],
      "collapsed_sections": []
    },
    "kernelspec": {
      "display_name": "Python 3",
      "name": "python3"
    }
  },
  "cells": [
    {
      "cell_type": "code",
      "metadata": {
        "id": "zA-gni9iqW6U"
      },
      "source": [
        "import pandas as pd\n",
        "import numpy as np\n",
        "import matplotlib.pyplot as plt\n",
        "\n",
        "%matplotlib inline\n",
        "\n",
        "indeed = pd.read_csv('/content/Indeed_Reviews.csv')"
      ],
      "execution_count": 24,
      "outputs": []
    },
    {
      "cell_type": "code",
      "metadata": {
        "colab": {
          "base_uri": "https://localhost:8080/",
          "height": 488
        },
        "id": "3qmV7DpsrQBf",
        "outputId": "f92a5fb7-5a15-4208-f679-02fc51c5bbc4"
      },
      "source": [
        "#Show the first 4 rows of the data\n",
        "indeed.head(4)"
      ],
      "execution_count": 25,
      "outputs": [
        {
          "output_type": "execute_result",
          "data": {
            "text/html": [
              "<div>\n",
              "<style scoped>\n",
              "    .dataframe tbody tr th:only-of-type {\n",
              "        vertical-align: middle;\n",
              "    }\n",
              "\n",
              "    .dataframe tbody tr th {\n",
              "        vertical-align: top;\n",
              "    }\n",
              "\n",
              "    .dataframe thead th {\n",
              "        text-align: right;\n",
              "    }\n",
              "</style>\n",
              "<table border=\"1\" class=\"dataframe\">\n",
              "  <thead>\n",
              "    <tr style=\"text-align: right;\">\n",
              "      <th></th>\n",
              "      <th>Company</th>\n",
              "      <th>Overall</th>\n",
              "      <th>Work/life balance</th>\n",
              "      <th>Compensation/benefits</th>\n",
              "      <th>Job security/advancement</th>\n",
              "      <th>Management</th>\n",
              "      <th>Culture</th>\n",
              "      <th>Title</th>\n",
              "      <th>Job</th>\n",
              "      <th>Date</th>\n",
              "      <th>Review</th>\n",
              "      <th>Pros</th>\n",
              "      <th>Cons</th>\n",
              "    </tr>\n",
              "  </thead>\n",
              "  <tbody>\n",
              "    <tr>\n",
              "      <th>0</th>\n",
              "      <td>Taco Bell</td>\n",
              "      <td>3</td>\n",
              "      <td>3</td>\n",
              "      <td>1</td>\n",
              "      <td>3</td>\n",
              "      <td>5</td>\n",
              "      <td>3</td>\n",
              "      <td>Job is a job</td>\n",
              "      <td>Team Trainer</td>\n",
              "      <td>10-Feb-18</td>\n",
              "      <td>Nothing special about this job. Regular thankl...</td>\n",
              "      <td>its a job</td>\n",
              "      <td>pay</td>\n",
              "    </tr>\n",
              "    <tr>\n",
              "      <th>1</th>\n",
              "      <td>United States Postal Service</td>\n",
              "      <td>4</td>\n",
              "      <td>5</td>\n",
              "      <td>3</td>\n",
              "      <td>5</td>\n",
              "      <td>5</td>\n",
              "      <td>5</td>\n",
              "      <td>Fun and energentic</td>\n",
              "      <td>letter carrier</td>\n",
              "      <td>10-Feb-18</td>\n",
              "      <td>The post office was a fun place to work. We al...</td>\n",
              "      <td>NaN</td>\n",
              "      <td>NaN</td>\n",
              "    </tr>\n",
              "    <tr>\n",
              "      <th>2</th>\n",
              "      <td>KFC</td>\n",
              "      <td>5</td>\n",
              "      <td>4</td>\n",
              "      <td>3</td>\n",
              "      <td>4</td>\n",
              "      <td>4</td>\n",
              "      <td>4</td>\n",
              "      <td>General Management</td>\n",
              "      <td>Assistant General Manager</td>\n",
              "      <td>10-Feb-18</td>\n",
              "      <td>I always monitor our Store whenever we are on ...</td>\n",
              "      <td>NaN</td>\n",
              "      <td>NaN</td>\n",
              "    </tr>\n",
              "    <tr>\n",
              "      <th>3</th>\n",
              "      <td>Taco Bell</td>\n",
              "      <td>4</td>\n",
              "      <td>4</td>\n",
              "      <td>4</td>\n",
              "      <td>4</td>\n",
              "      <td>4</td>\n",
              "      <td>4</td>\n",
              "      <td>very easy</td>\n",
              "      <td>Fast Food Cashier</td>\n",
              "      <td>10-Feb-18</td>\n",
              "      <td>i learned how to speak to and handle customers...</td>\n",
              "      <td>sometimes free lunch</td>\n",
              "      <td>short breaks, low hours</td>\n",
              "    </tr>\n",
              "  </tbody>\n",
              "</table>\n",
              "</div>"
            ],
            "text/plain": [
              "                        Company  ...                     Cons\n",
              "0                     Taco Bell  ...                      pay\n",
              "1  United States Postal Service  ...                      NaN\n",
              "2                           KFC  ...                      NaN\n",
              "3                     Taco Bell  ...  short breaks, low hours\n",
              "\n",
              "[4 rows x 13 columns]"
            ]
          },
          "metadata": {
            "tags": []
          },
          "execution_count": 25
        }
      ]
    },
    {
      "cell_type": "code",
      "metadata": {
        "colab": {
          "base_uri": "https://localhost:8080/"
        },
        "id": "tHm3LydZ2Eme",
        "outputId": "d845f1c1-787f-4efd-acd0-7aaa0d0840d1"
      },
      "source": [
        "#Check whether each column contains null value and/or non-values\n",
        "indeed.info()"
      ],
      "execution_count": 26,
      "outputs": [
        {
          "output_type": "stream",
          "text": [
            "<class 'pandas.core.frame.DataFrame'>\n",
            "RangeIndex: 200000 entries, 0 to 199999\n",
            "Data columns (total 13 columns):\n",
            " #   Column                    Non-Null Count   Dtype \n",
            "---  ------                    --------------   ----- \n",
            " 0   Company                   200000 non-null  object\n",
            " 1   Overall                   200000 non-null  int64 \n",
            " 2   Work/life balance         200000 non-null  int64 \n",
            " 3   Compensation/benefits     200000 non-null  int64 \n",
            " 4   Job security/advancement  200000 non-null  int64 \n",
            " 5   Management                200000 non-null  int64 \n",
            " 6   Culture                   200000 non-null  int64 \n",
            " 7   Title                     199671 non-null  object\n",
            " 8   Job                       199929 non-null  object\n",
            " 9   Date                      200000 non-null  object\n",
            " 10  Review                    200000 non-null  object\n",
            " 11  Pros                      112393 non-null  object\n",
            " 12  Cons                      107432 non-null  object\n",
            "dtypes: int64(6), object(7)\n",
            "memory usage: 19.8+ MB\n"
          ],
          "name": "stdout"
        }
      ]
    },
    {
      "cell_type": "code",
      "metadata": {
        "id": "J9igVBWU2PM4",
        "colab": {
          "base_uri": "https://localhost:8080/"
        },
        "outputId": "08273e7f-ad6d-4420-a19f-03a028423030"
      },
      "source": [
        "#Convert Date object into datetime integer\n",
        "#Check whether your Date object converted to dtype('<M8[ns]')\n",
        "indeed[\"Date\"] = pd.to_datetime(indeed[\"Date\"])\n",
        "indeed.info()"
      ],
      "execution_count": 27,
      "outputs": [
        {
          "output_type": "stream",
          "text": [
            "<class 'pandas.core.frame.DataFrame'>\n",
            "RangeIndex: 200000 entries, 0 to 199999\n",
            "Data columns (total 13 columns):\n",
            " #   Column                    Non-Null Count   Dtype         \n",
            "---  ------                    --------------   -----         \n",
            " 0   Company                   200000 non-null  object        \n",
            " 1   Overall                   200000 non-null  int64         \n",
            " 2   Work/life balance         200000 non-null  int64         \n",
            " 3   Compensation/benefits     200000 non-null  int64         \n",
            " 4   Job security/advancement  200000 non-null  int64         \n",
            " 5   Management                200000 non-null  int64         \n",
            " 6   Culture                   200000 non-null  int64         \n",
            " 7   Title                     199671 non-null  object        \n",
            " 8   Job                       199929 non-null  object        \n",
            " 9   Date                      200000 non-null  datetime64[ns]\n",
            " 10  Review                    200000 non-null  object        \n",
            " 11  Pros                      112393 non-null  object        \n",
            " 12  Cons                      107432 non-null  object        \n",
            "dtypes: datetime64[ns](1), int64(6), object(6)\n",
            "memory usage: 19.8+ MB\n"
          ],
          "name": "stdout"
        }
      ]
    },
    {
      "cell_type": "code",
      "metadata": {
        "id": "Ef5KwKNT2eDB"
      },
      "source": [
        "#Create a new column \"Year\" by only extracting the year \n",
        "#information from the \"Date\" column\n",
        "indeed[\"Year\"] = pd.DatetimeIndex(indeed['Date']).year"
      ],
      "execution_count": 28,
      "outputs": []
    },
    {
      "cell_type": "code",
      "metadata": {
        "colab": {
          "base_uri": "https://localhost:8080/",
          "height": 345
        },
        "id": "mW0pxjSg3Mok",
        "outputId": "af697516-e299-48e1-85cd-bcc0e1a73a6c"
      },
      "source": [
        "indeed.head(2)"
      ],
      "execution_count": 29,
      "outputs": [
        {
          "output_type": "execute_result",
          "data": {
            "text/html": [
              "<div>\n",
              "<style scoped>\n",
              "    .dataframe tbody tr th:only-of-type {\n",
              "        vertical-align: middle;\n",
              "    }\n",
              "\n",
              "    .dataframe tbody tr th {\n",
              "        vertical-align: top;\n",
              "    }\n",
              "\n",
              "    .dataframe thead th {\n",
              "        text-align: right;\n",
              "    }\n",
              "</style>\n",
              "<table border=\"1\" class=\"dataframe\">\n",
              "  <thead>\n",
              "    <tr style=\"text-align: right;\">\n",
              "      <th></th>\n",
              "      <th>Company</th>\n",
              "      <th>Overall</th>\n",
              "      <th>Work/life balance</th>\n",
              "      <th>Compensation/benefits</th>\n",
              "      <th>Job security/advancement</th>\n",
              "      <th>Management</th>\n",
              "      <th>Culture</th>\n",
              "      <th>Title</th>\n",
              "      <th>Job</th>\n",
              "      <th>Date</th>\n",
              "      <th>Review</th>\n",
              "      <th>Pros</th>\n",
              "      <th>Cons</th>\n",
              "      <th>Year</th>\n",
              "    </tr>\n",
              "  </thead>\n",
              "  <tbody>\n",
              "    <tr>\n",
              "      <th>0</th>\n",
              "      <td>Taco Bell</td>\n",
              "      <td>3</td>\n",
              "      <td>3</td>\n",
              "      <td>1</td>\n",
              "      <td>3</td>\n",
              "      <td>5</td>\n",
              "      <td>3</td>\n",
              "      <td>Job is a job</td>\n",
              "      <td>Team Trainer</td>\n",
              "      <td>2018-02-10</td>\n",
              "      <td>Nothing special about this job. Regular thankl...</td>\n",
              "      <td>its a job</td>\n",
              "      <td>pay</td>\n",
              "      <td>2018</td>\n",
              "    </tr>\n",
              "    <tr>\n",
              "      <th>1</th>\n",
              "      <td>United States Postal Service</td>\n",
              "      <td>4</td>\n",
              "      <td>5</td>\n",
              "      <td>3</td>\n",
              "      <td>5</td>\n",
              "      <td>5</td>\n",
              "      <td>5</td>\n",
              "      <td>Fun and energentic</td>\n",
              "      <td>letter carrier</td>\n",
              "      <td>2018-02-10</td>\n",
              "      <td>The post office was a fun place to work. We al...</td>\n",
              "      <td>NaN</td>\n",
              "      <td>NaN</td>\n",
              "      <td>2018</td>\n",
              "    </tr>\n",
              "  </tbody>\n",
              "</table>\n",
              "</div>"
            ],
            "text/plain": [
              "                        Company  Overall  ...  Cons  Year\n",
              "0                     Taco Bell        3  ...   pay  2018\n",
              "1  United States Postal Service        4  ...   NaN  2018\n",
              "\n",
              "[2 rows x 14 columns]"
            ]
          },
          "metadata": {
            "tags": []
          },
          "execution_count": 29
        }
      ]
    },
    {
      "cell_type": "code",
      "metadata": {
        "id": "nHebBgssmxXv"
      },
      "source": [
        "#Creating function for polarity and subjectivity\n",
        "def detect_polarity(text):\n",
        "    \n",
        "    #Converts the text into textblob object and then retuns\n",
        "    #the polarity.\n",
        "    blob = TextBlob(text)\n",
        "    \n",
        "    # return the polarity\n",
        "    return blob.sentiment.polarity\n",
        "  \n",
        "\n",
        "def detect_subjectivity(text):\n",
        "    \n",
        "    #Converts the text into textblob object and then retuns\n",
        "    #the polarity.\n",
        "    blob = TextBlob(text)\n",
        "    \n",
        "    # return the polarity\n",
        "    return blob.sentiment.subjectivity\n",
        "\n"
      ],
      "execution_count": 30,
      "outputs": []
    },
    {
      "cell_type": "code",
      "metadata": {
        "id": "0iCcjvR8zOzF"
      },
      "source": [
        "#Run the sentiment anlysis on the text under the \"Review\" column\n",
        "#Create two new columns for \"polarity\" and \"subjectivity\"\n",
        "from textblob import TextBlob\n",
        "\n",
        "# create new columns for polarity and subjectivity of the reviews\n",
        "\n",
        "indeed['polarity'] = indeed.Review.apply(detect_polarity)\n",
        "indeed['subjectivity'] = indeed.Review.apply(detect_subjectivity)"
      ],
      "execution_count": 31,
      "outputs": []
    },
    {
      "cell_type": "code",
      "metadata": {
        "colab": {
          "base_uri": "https://localhost:8080/",
          "height": 198
        },
        "id": "ZwTSxQ89ndl3",
        "outputId": "67750f28-1356-4b79-b0de-9beb624933f1"
      },
      "source": [
        "indeed.head(1)"
      ],
      "execution_count": 32,
      "outputs": [
        {
          "output_type": "execute_result",
          "data": {
            "text/html": [
              "<div>\n",
              "<style scoped>\n",
              "    .dataframe tbody tr th:only-of-type {\n",
              "        vertical-align: middle;\n",
              "    }\n",
              "\n",
              "    .dataframe tbody tr th {\n",
              "        vertical-align: top;\n",
              "    }\n",
              "\n",
              "    .dataframe thead th {\n",
              "        text-align: right;\n",
              "    }\n",
              "</style>\n",
              "<table border=\"1\" class=\"dataframe\">\n",
              "  <thead>\n",
              "    <tr style=\"text-align: right;\">\n",
              "      <th></th>\n",
              "      <th>Company</th>\n",
              "      <th>Overall</th>\n",
              "      <th>Work/life balance</th>\n",
              "      <th>Compensation/benefits</th>\n",
              "      <th>Job security/advancement</th>\n",
              "      <th>Management</th>\n",
              "      <th>Culture</th>\n",
              "      <th>Title</th>\n",
              "      <th>Job</th>\n",
              "      <th>Date</th>\n",
              "      <th>Review</th>\n",
              "      <th>Pros</th>\n",
              "      <th>Cons</th>\n",
              "      <th>Year</th>\n",
              "      <th>polarity</th>\n",
              "      <th>subjectivity</th>\n",
              "    </tr>\n",
              "  </thead>\n",
              "  <tbody>\n",
              "    <tr>\n",
              "      <th>0</th>\n",
              "      <td>Taco Bell</td>\n",
              "      <td>3</td>\n",
              "      <td>3</td>\n",
              "      <td>1</td>\n",
              "      <td>3</td>\n",
              "      <td>5</td>\n",
              "      <td>3</td>\n",
              "      <td>Job is a job</td>\n",
              "      <td>Team Trainer</td>\n",
              "      <td>2018-02-10</td>\n",
              "      <td>Nothing special about this job. Regular thankl...</td>\n",
              "      <td>its a job</td>\n",
              "      <td>pay</td>\n",
              "      <td>2018</td>\n",
              "      <td>0.177056</td>\n",
              "      <td>0.602174</td>\n",
              "    </tr>\n",
              "  </tbody>\n",
              "</table>\n",
              "</div>"
            ],
            "text/plain": [
              "     Company  Overall  Work/life balance  ...  Year  polarity  subjectivity\n",
              "0  Taco Bell        3                  3  ...  2018  0.177056      0.602174\n",
              "\n",
              "[1 rows x 16 columns]"
            ]
          },
          "metadata": {
            "tags": []
          },
          "execution_count": 32
        }
      ]
    },
    {
      "cell_type": "code",
      "metadata": {
        "id": "bEOcBWrW6LCb",
        "colab": {
          "base_uri": "https://localhost:8080/",
          "height": 282
        },
        "outputId": "be8c3f29-1a96-4acb-cc03-41d993aa75dc"
      },
      "source": [
        "#Plot the histogram for displaying the distribution of subjectivity across years\n",
        "yearly = indeed.groupby('Year')['subjectivity'].mean()\n",
        "yearly\n",
        "plt.bar(yearly.index, yearly, color = 'red')"
      ],
      "execution_count": 33,
      "outputs": [
        {
          "output_type": "execute_result",
          "data": {
            "text/plain": [
              "<BarContainer object of 7 artists>"
            ]
          },
          "metadata": {
            "tags": []
          },
          "execution_count": 33
        },
        {
          "output_type": "display_data",
          "data": {
            "image/png": "[encoded data removed]",
            "text/plain": [
              "<Figure size 432x288 with 1 Axes>"
            ]
          },
          "metadata": {
            "tags": [],
            "needs_background": "light"
          }
        }
      ]
    },
    {
      "cell_type": "code",
      "metadata": {
        "colab": {
          "base_uri": "https://localhost:8080/",
          "height": 371
        },
        "id": "j5JxFthV0St5",
        "outputId": "c6042fc6-f482-4706-a26b-0b94c0751d74"
      },
      "source": [
        "#Plot boxplot for polarity grouped by Overall ratings\n",
        "indeed.boxplot('polarity', by='Overall')"
      ],
      "execution_count": 34,
      "outputs": [
        {
          "output_type": "stream",
          "text": [
            "/usr/local/lib/python3.7/dist-packages/numpy/core/_asarray.py:83: VisibleDeprecationWarning: Creating an ndarray from ragged nested sequences (which is a list-or-tuple of lists-or-tuples-or ndarrays with different lengths or shapes) is deprecated. If you meant to do this, you must specify 'dtype=object' when creating the ndarray\n",
            "  return array(a, dtype, copy=False, order=order)\n"
          ],
          "name": "stderr"
        },
        {
          "output_type": "execute_result",
          "data": {
            "text/plain": [
              "<matplotlib.axes._subplots.AxesSubplot at 0x7ff95b286190>"
            ]
          },
          "metadata": {
            "tags": []
          },
          "execution_count": 34
        },
        {
          "output_type": "display_data",
          "data": {
            "image/png": "[encoded data removed]",
            "text/plain": [
              "<Figure size 432x288 with 1 Axes>"
            ]
          },
          "metadata": {
            "tags": [],
            "needs_background": "light"
          }
        }
      ]
    },
    {
      "cell_type": "code",
      "metadata": {
        "id": "BWd3fgXd1alB"
      },
      "source": [
        "# create new columns: 0 for rating 1-3, 1 for rating >3\n",
        "indeed['WLB Review'] = indeed['Work/life balance'].apply(lambda x: 1 if x > 3 else 0)\n",
        "indeed['Comp Review'] = indeed['Compensation/benefits'].apply(lambda x: 1 if x > 3 else 0)\n",
        "indeed['Job Review'] = indeed['Job security/advancement'].apply(lambda x: 1 if x > 3 else 0)\n",
        "indeed['Mgmt Review'] = indeed['Management'].apply(lambda x: 1 if x > 3 else 0)\n",
        "indeed['Cul Review'] = indeed['Culture'].apply(lambda x: 1 if x > 3 else 0)"
      ],
      "execution_count": 35,
      "outputs": []
    },
    {
      "cell_type": "code",
      "metadata": {
        "colab": {
          "base_uri": "https://localhost:8080/",
          "height": 585
        },
        "id": "WxxRginP2x-L",
        "outputId": "8f0cedfd-2b95-4694-cd19-03339923b5b8"
      },
      "source": [
        "indeed.head()"
      ],
      "execution_count": 36,
      "outputs": [
        {
          "output_type": "execute_result",
          "data": {
            "text/html": [
              "<div>\n",
              "<style scoped>\n",
              "    .dataframe tbody tr th:only-of-type {\n",
              "        vertical-align: middle;\n",
              "    }\n",
              "\n",
              "    .dataframe tbody tr th {\n",
              "        vertical-align: top;\n",
              "    }\n",
              "\n",
              "    .dataframe thead th {\n",
              "        text-align: right;\n",
              "    }\n",
              "</style>\n",
              "<table border=\"1\" class=\"dataframe\">\n",
              "  <thead>\n",
              "    <tr style=\"text-align: right;\">\n",
              "      <th></th>\n",
              "      <th>Company</th>\n",
              "      <th>Overall</th>\n",
              "      <th>Work/life balance</th>\n",
              "      <th>Compensation/benefits</th>\n",
              "      <th>Job security/advancement</th>\n",
              "      <th>Management</th>\n",
              "      <th>Culture</th>\n",
              "      <th>Title</th>\n",
              "      <th>Job</th>\n",
              "      <th>Date</th>\n",
              "      <th>Review</th>\n",
              "      <th>Pros</th>\n",
              "      <th>Cons</th>\n",
              "      <th>Year</th>\n",
              "      <th>polarity</th>\n",
              "      <th>subjectivity</th>\n",
              "      <th>WLB Review</th>\n",
              "      <th>Comp Review</th>\n",
              "      <th>Job Review</th>\n",
              "      <th>Mgmt Review</th>\n",
              "      <th>Cul Review</th>\n",
              "    </tr>\n",
              "  </thead>\n",
              "  <tbody>\n",
              "    <tr>\n",
              "      <th>0</th>\n",
              "      <td>Taco Bell</td>\n",
              "      <td>3</td>\n",
              "      <td>3</td>\n",
              "      <td>1</td>\n",
              "      <td>3</td>\n",
              "      <td>5</td>\n",
              "      <td>3</td>\n",
              "      <td>Job is a job</td>\n",
              "      <td>Team Trainer</td>\n",
              "      <td>2018-02-10</td>\n",
              "      <td>Nothing special about this job. Regular thankl...</td>\n",
              "      <td>its a job</td>\n",
              "      <td>pay</td>\n",
              "      <td>2018</td>\n",
              "      <td>0.177056</td>\n",
              "      <td>0.602174</td>\n",
              "      <td>0</td>\n",
              "      <td>0</td>\n",
              "      <td>0</td>\n",
              "      <td>1</td>\n",
              "      <td>0</td>\n",
              "    </tr>\n",
              "    <tr>\n",
              "      <th>1</th>\n",
              "      <td>United States Postal Service</td>\n",
              "      <td>4</td>\n",
              "      <td>5</td>\n",
              "      <td>3</td>\n",
              "      <td>5</td>\n",
              "      <td>5</td>\n",
              "      <td>5</td>\n",
              "      <td>Fun and energentic</td>\n",
              "      <td>letter carrier</td>\n",
              "      <td>2018-02-10</td>\n",
              "      <td>The post office was a fun place to work. We al...</td>\n",
              "      <td>NaN</td>\n",
              "      <td>NaN</td>\n",
              "      <td>2018</td>\n",
              "      <td>0.150000</td>\n",
              "      <td>0.350000</td>\n",
              "      <td>1</td>\n",
              "      <td>0</td>\n",
              "      <td>1</td>\n",
              "      <td>1</td>\n",
              "      <td>1</td>\n",
              "    </tr>\n",
              "    <tr>\n",
              "      <th>2</th>\n",
              "      <td>KFC</td>\n",
              "      <td>5</td>\n",
              "      <td>4</td>\n",
              "      <td>3</td>\n",
              "      <td>4</td>\n",
              "      <td>4</td>\n",
              "      <td>4</td>\n",
              "      <td>General Management</td>\n",
              "      <td>Assistant General Manager</td>\n",
              "      <td>2018-02-10</td>\n",
              "      <td>I always monitor our Store whenever we are on ...</td>\n",
              "      <td>NaN</td>\n",
              "      <td>NaN</td>\n",
              "      <td>2018</td>\n",
              "      <td>0.000000</td>\n",
              "      <td>0.000000</td>\n",
              "      <td>1</td>\n",
              "      <td>0</td>\n",
              "      <td>1</td>\n",
              "      <td>1</td>\n",
              "      <td>1</td>\n",
              "    </tr>\n",
              "    <tr>\n",
              "      <th>3</th>\n",
              "      <td>Taco Bell</td>\n",
              "      <td>4</td>\n",
              "      <td>4</td>\n",
              "      <td>4</td>\n",
              "      <td>4</td>\n",
              "      <td>4</td>\n",
              "      <td>4</td>\n",
              "      <td>very easy</td>\n",
              "      <td>Fast Food Cashier</td>\n",
              "      <td>2018-02-10</td>\n",
              "      <td>i learned how to speak to and handle customers...</td>\n",
              "      <td>sometimes free lunch</td>\n",
              "      <td>short breaks, low hours</td>\n",
              "      <td>2018</td>\n",
              "      <td>0.312500</td>\n",
              "      <td>0.684722</td>\n",
              "      <td>1</td>\n",
              "      <td>1</td>\n",
              "      <td>1</td>\n",
              "      <td>1</td>\n",
              "      <td>1</td>\n",
              "    </tr>\n",
              "    <tr>\n",
              "      <th>4</th>\n",
              "      <td>Iron Mountain</td>\n",
              "      <td>3</td>\n",
              "      <td>3</td>\n",
              "      <td>3</td>\n",
              "      <td>3</td>\n",
              "      <td>2</td>\n",
              "      <td>3</td>\n",
              "      <td>Job Culture</td>\n",
              "      <td>Accounts Receivable Manager</td>\n",
              "      <td>2018-02-10</td>\n",
              "      <td>The job culture was nice. This is a great plac...</td>\n",
              "      <td>NaN</td>\n",
              "      <td>NaN</td>\n",
              "      <td>2018</td>\n",
              "      <td>0.552677</td>\n",
              "      <td>0.770960</td>\n",
              "      <td>0</td>\n",
              "      <td>0</td>\n",
              "      <td>0</td>\n",
              "      <td>0</td>\n",
              "      <td>0</td>\n",
              "    </tr>\n",
              "  </tbody>\n",
              "</table>\n",
              "</div>"
            ],
            "text/plain": [
              "                        Company  Overall  ...  Mgmt Review  Cul Review\n",
              "0                     Taco Bell        3  ...            1           0\n",
              "1  United States Postal Service        4  ...            1           1\n",
              "2                           KFC        5  ...            1           1\n",
              "3                     Taco Bell        4  ...            1           1\n",
              "4                 Iron Mountain        3  ...            0           0\n",
              "\n",
              "[5 rows x 21 columns]"
            ]
          },
          "metadata": {
            "tags": []
          },
          "execution_count": 36
        }
      ]
    },
    {
      "cell_type": "code",
      "metadata": {
        "id": "nEzVk8RY3O26"
      },
      "source": [
        "# divide each type of employee satisfaction/disstatifaction indicators into low and high-rated reviews based on ratings 1s and 0s\n",
        "wlb_pos_df = pd.DataFrame(data = indeed.loc[indeed['WLB Review']== 1, 'Review'])\n",
        "comp_pos_df = pd.DataFrame(data = indeed.loc[indeed['Comp Review']== 1, 'Review'])\n",
        "job_pos_df = pd.DataFrame(data = indeed.loc[indeed['Job Review']== 1, 'Review'])\n",
        "mgmt_pos_df = pd.DataFrame(data = indeed.loc[indeed['Mgmt Review']== 1, 'Review'])\n",
        "cul_pos_df = pd.DataFrame(data = indeed.loc[indeed['Cul Review']== 1, 'Review'])\n",
        "\n",
        "wlb_neg_df = pd.DataFrame(data = indeed.loc[indeed['WLB Review']== 0, 'Review'])\n",
        "comp_neg_df = pd.DataFrame(data = indeed.loc[indeed['Comp Review']== 0, 'Review'])\n",
        "job_neg_df = pd.DataFrame(data = indeed.loc[indeed['Job Review']== 0, 'Review'])\n",
        "mgmt_neg_df = pd.DataFrame(data = indeed.loc[indeed['Mgmt Review']== 0, 'Review'])\n",
        "cul_neg_df = pd.DataFrame(data = indeed.loc[indeed['Cul Review']== 0, 'Review'])"
      ],
      "execution_count": 37,
      "outputs": []
    },
    {
      "cell_type": "code",
      "metadata": {
        "id": "VdK6HV5S5Cxs"
      },
      "source": [
        "#Apply the CountVectorizer and LDA on each type of employee satisfaction/dissatisfaction rewiews\n",
        "from sklearn.feature_extraction.text import CountVectorizer\n",
        "from sklearn.decomposition import LatentDirichletAllocation\n",
        "\n",
        "# this function must return cv, dtm and LDA given a dataset\n",
        "def get_cv_dtm_lda(indeed, num_comp=5):\n",
        "  reviews = indeed['Review']\n",
        "  cv = CountVectorizer(max_df=0.90, min_df=2, stop_words='english')\n",
        "  dtm = cv.fit_transform(reviews)\n",
        "  LDA = LatentDirichletAllocation(n_components= num_comp,random_state=42)\n",
        "  LDA.fit(dtm)\n",
        "  return cv, dtm, LDA\n",
        "\n",
        "# this function must return the top n words in each topic\n",
        "def get_top_words(LDAcomps, cv, ptype, n=15):\n",
        "  m = n-2*n\n",
        "  print(ptype)\n",
        "  for index, topic in enumerate(LDAcomps):\n",
        "    print(f'The top {n} words for topic #{index}')\n",
        "    print([cv.get_feature_names()[index] for index in topic.argsort()[m:]])\n",
        "    print('\\n')"
      ],
      "execution_count": 38,
      "outputs": []
    },
    {
      "cell_type": "code",
      "metadata": {
        "id": "FnocWNMD5aEf"
      },
      "source": [
        "# get cv, dtm and LDA for each type of employee satisfaction/dissatisfaction for high ratings\n",
        "wlb_pos_cv, wlb_pos_dtm, wlb_pos_LDA = get_cv_dtm_lda(wlb_pos_df)\n",
        "comp_pos_cv, comp_pos_dtm, comp_pos_LDA = get_cv_dtm_lda(comp_pos_df)\n",
        "job_pos_cv, job_pos_dtm, job_pos_LDA = get_cv_dtm_lda(job_pos_df)\n",
        "mgmt_pos_cv, mgmt_pos_dtm, mgmt_pos_LDA = get_cv_dtm_lda(mgmt_pos_df)\n",
        "cul_pos_cv, cul_pos_dtm, cul_pos_LDA = get_cv_dtm_lda(cul_pos_df)"
      ],
      "execution_count": 39,
      "outputs": []
    },
    {
      "cell_type": "code",
      "metadata": {
        "id": "YymPzPMPY4tz"
      },
      "source": [
        "# get cv, dtm and LDA for each type of employee satisfaction/dissatisfaction for low ratings\n",
        "wlb_neg_cv, wlb_neg_dtm, wlb_neg_LDA = get_cv_dtm_lda(wlb_neg_df)\n",
        "comp_neg_cv, comp_neg_dtm, comp_neg_LDA = get_cv_dtm_lda(comp_neg_df)\n",
        "job_neg_cv, job_neg_dtm, job_neg_LDA = get_cv_dtm_lda(job_neg_df)\n",
        "mgmt_neg_cv, mgmt_neg_dtm, mgmt_neg_LDA = get_cv_dtm_lda(mgmt_neg_df)\n",
        "cul_neg_cv, cul_neg_dtm, cul_neg_LDA = get_cv_dtm_lda(cul_neg_df)"
      ],
      "execution_count": 40,
      "outputs": []
    },
    {
      "cell_type": "code",
      "metadata": {
        "id": "OIqH_WCd-UC9",
        "colab": {
          "base_uri": "https://localhost:8080/"
        },
        "outputId": "fab40397-7114-4fdd-a095-62b8fded777c"
      },
      "source": [
        "#Get WLB's top 10 words for each topic in reviews with high rating:\n",
        "\n",
        "get_top_words(wlb_pos_LDA.components_, wlb_pos_cv, \"Work-Life-Balance High-Ranked Reviews\")"
      ],
      "execution_count": 41,
      "outputs": [
        {
          "output_type": "stream",
          "text": [
            "Work-Life-Balance High-Ranked Reviews\n",
            "The top 15 words for topic #0\n",
            "['le', 'las', 'muy', 'se', 'una', 'para', 'et', 'empresa', 'es', 'los', 'trabajo', 'el', 'que', 'la', 'en']\n",
            "\n",
            "\n",
            "The top 15 words for topic #1\n",
            "['se', 'na', 'da', 'trabalhar', 'mais', 'um', 'uma', 'os', 'em', 'muito', 'para', 'trabalho', 'que', 'com', 'empresa']\n",
            "\n",
            "\n",
            "The top 15 words for topic #2\n",
            "['experience', 'lot', 'benefits', 'employees', 'environment', 'time', 'management', 'people', 'job', 'working', 'place', 'company', 'good', 'great', 'work']\n",
            "\n",
            "\n",
            "The top 15 words for topic #3\n",
            "['products', 'experience', 'project', 'work', 'support', 'working', 'training', 'customer', 'amp', 'new', 'business', 'sales', 'team', 'management', 'company']\n",
            "\n",
            "\n",
            "The top 15 words for topic #4\n",
            "['team', 'customer', 'workers', 'typical', 'time', 'management', 'people', 'enjoyable', 'customers', 'hardest', 'learned', 'working', 'day', 'work', 'job']\n",
            "\n",
            "\n"
          ],
          "name": "stdout"
        }
      ]
    },
    {
      "cell_type": "code",
      "metadata": {
        "id": "VEeTUOVO_Bzv",
        "colab": {
          "base_uri": "https://localhost:8080/"
        },
        "outputId": "65e348d4-86fe-4e6b-9ac2-9848b5d5f0b8"
      },
      "source": [
        "#WLB's top 10 words for each topic in reviews with low rating:\n",
        "get_top_words(wlb_neg_LDA.components_, wlb_neg_cv, \"Work-Life-Balance Low-Ranked Reviews\")\n"
      ],
      "execution_count": 42,
      "outputs": [
        {
          "output_type": "stream",
          "text": [
            "Work-Life-Balance Low-Ranked Reviews\n",
            "The top 15 words for topic #0\n",
            "['working', 'week', 'benefits', 'long', 'place', 'life', 'days', 'pay', 'day', 'great', 'time', 'good', 'job', 'hours', 'work']\n",
            "\n",
            "\n",
            "The top 15 words for topic #1\n",
            "['day', 'learn', 'environment', 'experience', 'customer', 'culture', 'job', 'new', 'working', 'team', 'management', 'great', 'good', 'company', 'work']\n",
            "\n",
            "\n",
            "The top 15 words for topic #2\n",
            "['les', 'por', 'le', 'trabajo', 'los', 'com', 'et', 'es', 'se', 'el', 'para', 'empresa', 'en', 'la', 'que']\n",
            "\n",
            "\n",
            "The top 15 words for topic #3\n",
            "['lot', 'hardest', 'time', 'workers', 'learned', 'customers', 'place', 'great', 'management', 'day', 'good', 'people', 'working', 'job', 'work']\n",
            "\n",
            "\n",
            "The top 15 words for topic #4\n",
            "['manager', 'years', 'just', 'worked', 'like', 'pay', 'don', 'time', 'people', 'quot', 'job', 'employees', 'work', 'company', 'management']\n",
            "\n",
            "\n"
          ],
          "name": "stdout"
        }
      ]
    },
    {
      "cell_type": "code",
      "metadata": {
        "id": "Jb5UVWtR_eUN",
        "colab": {
          "base_uri": "https://localhost:8080/"
        },
        "outputId": "c8b47490-604f-4f7a-862a-b91262474116"
      },
      "source": [
        "#Compensation's top 10 words for each topic in reviews with high rating:\n",
        "get_top_words(comp_pos_LDA.components_, comp_pos_cv, \"Compensation High-Ranked Reviews\")\n"
      ],
      "execution_count": 43,
      "outputs": [
        {
          "output_type": "stream",
          "text": [
            "Compensation High-Ranked Reviews\n",
            "The top 15 words for topic #0\n",
            "['benefits', 'employees', 'time', 'lot', 'team', 'environment', 'management', 'people', 'place', 'job', 'working', 'company', 'good', 'great', 'work']\n",
            "\n",
            "\n",
            "The top 15 words for topic #1\n",
            "['clients', 'service', 'amp', 'daily', 'working', 'business', 'job', 'work', 'new', 'sales', 'learned', 'customer', 'day', 'management', 'team']\n",
            "\n",
            "\n",
            "The top 15 words for topic #2\n",
            "['em', 'una', 'ambiente', 'trabalho', 'es', 'los', 'trabajo', 'se', 'com', 'el', 'para', 'en', 'la', 'empresa', 'que']\n",
            "\n",
            "\n",
            "The top 15 words for topic #3\n",
            "['quot', 'make', 'good', 'learned', 'typical', 'days', 'working', 'worked', 'management', 'hardest', 'hours', 'time', 'day', 'work', 'job']\n",
            "\n",
            "\n",
            "The top 15 words for topic #4\n",
            "['helping', 'les', 'le', 'des', 'sure', 'guest', 'typical', 'making', 'patients', 'food', 'et', 'service', 'day', 'customer', 'customers']\n",
            "\n",
            "\n"
          ],
          "name": "stdout"
        }
      ]
    },
    {
      "cell_type": "code",
      "metadata": {
        "id": "CX_18wgz_yxJ",
        "colab": {
          "base_uri": "https://localhost:8080/"
        },
        "outputId": "b8f72644-a7de-4fdd-ac08-1eb2bb1b981c"
      },
      "source": [
        "#Compensation's top 10 words for each topic in reviews with low rating:\n",
        "get_top_words(comp_neg_LDA.components_, comp_neg_cv, \"Compensation Low-Ranked Reviews\")\n"
      ],
      "execution_count": 44,
      "outputs": [
        {
          "output_type": "stream",
          "text": [
            "Compensation Low-Ranked Reviews\n",
            "The top 15 words for topic #0\n",
            "['don', 'place', 'just', 'company', 'like', 'worked', 'pay', 'working', 'employees', 'hours', 'people', 'time', 'management', 'job', 'work']\n",
            "\n",
            "\n",
            "The top 15 words for topic #1\n",
            "['des', 'por', 'les', 'le', 'trabajo', 'los', 'et', 'es', 'se', 'para', 'empresa', 'el', 'en', 'la', 'que']\n",
            "\n",
            "\n",
            "The top 15 words for topic #2\n",
            "['people', 'advancement', 'pay', 'environment', 'culture', 'benefits', 'balance', 'career', 'life', 'management', 'place', 'great', 'company', 'good', 'work']\n",
            "\n",
            "\n",
            "The top 15 words for topic #3\n",
            "['lot', 'typical', 'management', 'workers', 'great', 'good', 'enjoyable', 'customers', 'hardest', 'people', 'learned', 'working', 'day', 'job', 'work']\n",
            "\n",
            "\n",
            "The top 15 words for topic #4\n",
            "['job', 'service', 'support', 'day', 'employees', 'training', 'amp', 'customer', 'business', 'new', 'sales', 'work', 'team', 'management', 'company']\n",
            "\n",
            "\n"
          ],
          "name": "stdout"
        }
      ]
    },
    {
      "cell_type": "code",
      "metadata": {
        "id": "VKIF4YDlAMW5",
        "colab": {
          "base_uri": "https://localhost:8080/"
        },
        "outputId": "52e17913-ccfb-424f-a52c-dff0151d6335"
      },
      "source": [
        "#Job Security's top 10 words for each topic in reviews with high rating:\n",
        "get_top_words(job_pos_LDA.components_, job_pos_cv, \"Job Security High-Ranked Reviews\")\n"
      ],
      "execution_count": 45,
      "outputs": [
        {
          "output_type": "stream",
          "text": [
            "Job Security High-Ranked Reviews\n",
            "The top 15 words for topic #0\n",
            "['se', 'na', 'da', 'trabalhar', 'mais', 'um', 'os', 'uma', 'muito', 'em', 'para', 'trabalho', 'que', 'com', 'empresa']\n",
            "\n",
            "\n",
            "The top 15 words for topic #1\n",
            "['make', 'customer', 'people', 'workers', 'typical', 'management', 'enjoyable', 'time', 'customers', 'working', 'learned', 'hardest', 'work', 'day', 'job']\n",
            "\n",
            "\n",
            "The top 15 words for topic #2\n",
            "['experience', 'benefits', 'lot', 'employees', 'time', 'environment', 'management', 'people', 'job', 'working', 'place', 'company', 'good', 'great', 'work']\n",
            "\n",
            "\n",
            "The top 15 words for topic #3\n",
            "['ambiente', 'lo', 'las', 'muy', 'se', 'una', 'para', 'empresa', 'es', 'los', 'trabajo', 'el', 'que', 'la', 'en']\n",
            "\n",
            "\n",
            "The top 15 words for topic #4\n",
            "['customer', 'clients', 'knowledge', 'experience', 'training', 'skills', 'support', 'company', 'sales', 'project', 'new', 'business', 'amp', 'management', 'team']\n",
            "\n",
            "\n"
          ],
          "name": "stdout"
        }
      ]
    },
    {
      "cell_type": "code",
      "metadata": {
        "id": "mVSvx4sfAX85",
        "colab": {
          "base_uri": "https://localhost:8080/"
        },
        "outputId": "6d836ba0-4f1d-4916-932b-ff35d10ee952"
      },
      "source": [
        "#Job Security's top 10 words for each topic in reviews with low rating:\n",
        "get_top_words(job_neg_LDA.components_, job_neg_cv, \"Job Security Low-Ranked Reviews\")\n"
      ],
      "execution_count": 46,
      "outputs": [
        {
          "output_type": "stream",
          "text": [
            "Job Security Low-Ranked Reviews\n",
            "The top 15 words for topic #0\n",
            "['time', 'day', 'learned', 'lot', 'team', 'environment', 'place', 'people', 'management', 'company', 'working', 'job', 'great', 'good', 'work']\n",
            "\n",
            "\n",
            "The top 15 words for topic #1\n",
            "['food', 'making', 'clean', 'sure', 'orders', 'store', 'service', 'enjoyable', 'job', 'learned', 'hardest', 'customer', 'typical', 'customers', 'day']\n",
            "\n",
            "\n",
            "The top 15 words for topic #2\n",
            "['don', 'worked', 'place', 'just', 'employees', 'like', 'working', 'good', 'pay', 'people', 'hours', 'time', 'management', 'job', 'work']\n",
            "\n",
            "\n",
            "The top 15 words for topic #3\n",
            "['amp', 'job', 'worked', 'training', 'team', 'time', 'business', 'new', 'years', 'work', 'sales', 'employees', 'quot', 'management', 'company']\n",
            "\n",
            "\n",
            "The top 15 words for topic #4\n",
            "['muito', 'os', 'em', 'los', 'trabajo', 'trabalho', 'es', 'se', 'com', 'el', 'para', 'la', 'en', 'empresa', 'que']\n",
            "\n",
            "\n"
          ],
          "name": "stdout"
        }
      ]
    },
    {
      "cell_type": "code",
      "metadata": {
        "id": "Q2EFyJycAvEz",
        "colab": {
          "base_uri": "https://localhost:8080/"
        },
        "outputId": "cedc4284-3605-416a-fd76-4caff996b289"
      },
      "source": [
        "#Management's top 10 words for each topic in reviews with high rating:\n",
        "get_top_words(mgmt_pos_LDA.components_, mgmt_pos_cv, \"Management High-Ranked Reviews\")\n"
      ],
      "execution_count": 47,
      "outputs": [
        {
          "output_type": "stream",
          "text": [
            "Management High-Ranked Reviews\n",
            "The top 15 words for topic #0\n",
            "['muy', 'una', 'trabalho', 'ambiente', 'es', 'los', 'trabajo', 'se', 'com', 'el', 'para', 'empresa', 'la', 'en', 'que']\n",
            "\n",
            "\n",
            "The top 15 words for topic #1\n",
            "['opportunity', 'career', 'opportunities', 'life', 'environment', 'people', 'culture', 'employees', 'working', 'place', 'management', 'good', 'great', 'company', 'work']\n",
            "\n",
            "\n",
            "The top 15 words for topic #2\n",
            "['different', 'time', 'workers', 'people', 'management', 'working', 'customer', 'typical', 'enjoyable', 'learned', 'customers', 'hardest', 'work', 'day', 'job']\n",
            "\n",
            "\n",
            "The top 15 words for topic #3\n",
            "['training', 'daily', 'business', 'support', 'sales', 'skills', 'learned', 'job', 'project', 'amp', 'working', 'new', 'management', 'work', 'team']\n",
            "\n",
            "\n",
            "The top 15 words for topic #4\n",
            "['pay', 'nice', 'fun', 'environment', 'hours', 'company', 'management', 'time', 'people', 'place', 'working', 'job', 'good', 'great', 'work']\n",
            "\n",
            "\n"
          ],
          "name": "stdout"
        }
      ]
    },
    {
      "cell_type": "code",
      "metadata": {
        "id": "eLvIOHQxA7uZ",
        "colab": {
          "base_uri": "https://localhost:8080/"
        },
        "outputId": "b75ff1c3-953e-4b57-9432-42aa2ff6ee0d"
      },
      "source": [
        "#Management's top 10 words for each topic in reviews with low rating:\n",
        "get_top_words(mgmt_neg_LDA.components_, mgmt_neg_cv, \"Management Low-Ranked Reviews\")\n"
      ],
      "execution_count": 48,
      "outputs": [
        {
          "output_type": "stream",
          "text": [
            "Management Low-Ranked Reviews\n",
            "The top 15 words for topic #0\n",
            "['place', 'working', 'worked', 'people', 'benefits', 'great', 'employees', 'hours', 'time', 'pay', 'job', 'good', 'management', 'company', 'work']\n",
            "\n",
            "\n",
            "The top 15 words for topic #1\n",
            "['environment', 'lot', 'workers', 'hardest', 'time', 'learned', 'management', 'place', 'people', 'day', 'working', 'great', 'good', 'job', 'work']\n",
            "\n",
            "\n",
            "The top 15 words for topic #2\n",
            "['experience', 'business', 'sales', 'customer', 'day', 'culture', 'job', 'working', 'great', 'new', 'good', 'team', 'management', 'work', 'company']\n",
            "\n",
            "\n",
            "The top 15 words for topic #3\n",
            "['care', 'job', 'did', 'don', 'just', 'make', 'quot', 'people', 'like', 'employees', 'managers', 'customers', 'management', 'store', 'manager']\n",
            "\n",
            "\n",
            "The top 15 words for topic #4\n",
            "['los', 'des', 'les', 'trabalho', 'le', 'com', 'es', 'et', 'se', 'el', 'para', 'empresa', 'la', 'en', 'que']\n",
            "\n",
            "\n"
          ],
          "name": "stdout"
        }
      ]
    },
    {
      "cell_type": "code",
      "metadata": {
        "id": "tMM9fwIPBYfE",
        "colab": {
          "base_uri": "https://localhost:8080/"
        },
        "outputId": "7346a8cb-4119-4361-caef-3e1a178fbd78"
      },
      "source": [
        "#Culture's top 10 words for each topic in reviews with high rating:\n",
        "get_top_words(cul_pos_LDA.components_, cul_pos_cv, \"Culture High-Ranked Reviews\")\n"
      ],
      "execution_count": 49,
      "outputs": [
        {
          "output_type": "stream",
          "text": [
            "Culture High-Ranked Reviews\n",
            "The top 15 words for topic #0\n",
            "['business', 'amp', 'great', 'environment', 'learn', 'experience', 'skills', 'culture', 'working', 'new', 'good', 'management', 'team', 'company', 'work']\n",
            "\n",
            "\n",
            "The top 15 words for topic #1\n",
            "['ik', 'je', 'een', 'van', 'est', 'une', 'trã', 'travail', 'het', 'la', 'des', 'les', 'le', 'en', 'et']\n",
            "\n",
            "\n",
            "The top 15 words for topic #2\n",
            "['make', 'customer', 'people', 'workers', 'typical', 'time', 'management', 'working', 'enjoyable', 'customers', 'learned', 'hardest', 'work', 'day', 'job']\n",
            "\n",
            "\n",
            "The top 15 words for topic #3\n",
            "['em', 'una', 'ambiente', 'trabalho', 'es', 'los', 'trabajo', 'se', 'com', 'el', 'para', 'en', 'la', 'empresa', 'que']\n",
            "\n",
            "\n",
            "The top 15 words for topic #4\n",
            "['pay', 'employees', 'worked', 'benefits', 'environment', 'time', 'management', 'people', 'working', 'job', 'place', 'company', 'good', 'great', 'work']\n",
            "\n",
            "\n"
          ],
          "name": "stdout"
        }
      ]
    },
    {
      "cell_type": "code",
      "metadata": {
        "id": "EN-T20blBjzb",
        "colab": {
          "base_uri": "https://localhost:8080/"
        },
        "outputId": "28cd0875-798f-4f5c-a313-c4ec6f980fdc"
      },
      "source": [
        "#Culture's top 10 words for each topic in reviews with low rating:\n",
        "get_top_words(cul_neg_LDA.components_, cul_neg_cv, \"Culture Low-Ranked Reviews\")\n"
      ],
      "execution_count": 50,
      "outputs": [
        {
          "output_type": "stream",
          "text": [
            "Culture Low-Ranked Reviews\n",
            "The top 15 words for topic #0\n",
            "['just', 'like', 'worked', 'great', 'company', 'place', 'people', 'working', 'pay', 'management', 'hours', 'time', 'good', 'job', 'work']\n",
            "\n",
            "\n",
            "The top 15 words for topic #1\n",
            "['job', 'team', 'lot', 'life', 'working', 'environment', 'culture', 'people', 'place', 'employees', 'great', 'management', 'good', 'company', 'work']\n",
            "\n",
            "\n",
            "The top 15 words for topic #2\n",
            "['store', 'customer', 'time', 'workers', 'people', 'typical', 'enjoyable', 'working', 'management', 'learned', 'hardest', 'customers', 'work', 'day', 'job']\n",
            "\n",
            "\n",
            "The top 15 words for topic #3\n",
            "['daily', 'equipment', 'service', 'training', 'business', 'years', 'customer', 'work', 'support', 'amp', 'office', 'new', 'time', 'worked', 'team']\n",
            "\n",
            "\n",
            "The top 15 words for topic #4\n",
            "['des', 'trabajo', 'los', 'les', 'le', 'es', 'et', 'com', 'se', 'el', 'para', 'empresa', 'en', 'la', 'que']\n",
            "\n",
            "\n"
          ],
          "name": "stdout"
        }
      ]
    },
    {
      "cell_type": "code",
      "metadata": {
        "id": "Z7n058M08yLe"
      },
      "source": [
        "##OPTIONAL CLASS ACTIVITIES:## \n",
        "\n",
        "#Challenge Task #1:\n",
        "#Try to modify the stop-word list or run some regular expressions\n",
        "#to get rid of the foreign-language words that show under any of the \n",
        "#topics you have retrieved from using LDA.\n",
        "\n",
        "#Challenge Task#2:\n",
        "#Apply the Gensim package for retrieving the topics for each type of employee \n",
        "#satisfaction/dissatisfaction indicators. Compare the topics with the topics that\n",
        "#got from using the Sklearn package.\n",
        "\n",
        "#Challenge Task #3:\n",
        "#Apply Word2Vec's Skip-Gram Model to the Employee \"Reviews\" to show the similarity \n",
        "#of the word vectors relevant to each type of the satisfaction indicators. \n",
        "#Compare the LDA's topics/cluster of words that you have retieved for each type of \n",
        "#employee satisfaction/dissatisfaction reviews to the similar word vectors."
      ],
      "execution_count": 51,
      "outputs": []
    }
  ]
}