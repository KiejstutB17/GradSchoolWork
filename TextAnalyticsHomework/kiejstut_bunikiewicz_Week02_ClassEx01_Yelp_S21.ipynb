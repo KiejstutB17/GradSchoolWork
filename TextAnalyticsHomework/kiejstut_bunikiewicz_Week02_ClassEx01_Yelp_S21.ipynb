{
  "nbformat": 4,
  "nbformat_minor": 0,
  "metadata": {
    "colab": {
      "name": "Week02_ClassEx01_Yelp_S21.ipynb",
      "provenance": [],
      "collapsed_sections": []
    },
    "kernelspec": {
      "name": "python3",
      "display_name": "Python 3"
    }
  },
  "cells": [
    {
      "cell_type": "markdown",
      "metadata": {
        "id": "thxOZQbzSG8T"
      },
      "source": [
        "**`yelp.csv`** contains the dataset.\n",
        "- Each observation (row) in this dataset is a review of a particular business by a particular user.\n",
        "- The **stars** column is the number of stars (1 through 5) assigned by the reviewer to the business. (Higher stars is better.) In other words, it is the rating of the business by the person who wrote the review.\n",
        "- The **text** column is the text of the review"
      ]
    },
    {
      "cell_type": "markdown",
      "metadata": {
        "id": "8P2h7zr6SYLJ"
      },
      "source": [
        "**Tip:** After each task, I recommend that you check the shape and the contents of your objects, to confirm that they match your expectations."
      ]
    },
    {
      "cell_type": "markdown",
      "metadata": {
        "id": "QNOp8EvBSlDx"
      },
      "source": [
        "# **Task 1**:\n",
        "\n",
        "Read **`yelp.csv`** into a Pandas DataFrame and examine it."
      ]
    },
    {
      "cell_type": "code",
      "metadata": {
        "id": "2K02ai8rQyOh",
        "colab": {
          "resources": {
            "http://localhost:8080/nbextensions/google.colab/files.js": {
              "data": "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",
              "ok": true,
              "headers": [
                [
                  "content-type",
                  "application/javascript"
                ]
              ],
              "status": 200,
              "status_text": ""
            }
          },
          "base_uri": "https://localhost:8080/",
          "height": 72
        },
        "outputId": "29a6a3e9-5611-4c76-d608-d83b9d9e21d6"
      },
      "source": [
        "from google.colab import files\n",
        "uploaded = files.upload()"
      ],
      "execution_count": 1,
      "outputs": [
        {
          "output_type": "display_data",
          "data": {
            "text/html": [
              "\n",
              "     <input type=\"file\" id=\"files-29cb3253-d2e9-4397-bb31-31b43c26e669\" name=\"files[]\" multiple disabled\n",
              "        style=\"border:none\" />\n",
              "     <output id=\"result-29cb3253-d2e9-4397-bb31-31b43c26e669\">\n",
              "      Upload widget is only available when the cell has been executed in the\n",
              "      current browser session. Please rerun this cell to enable.\n",
              "      </output>\n",
              "      <script src=\"/nbextensions/google.colab/files.js\"></script> "
            ],
            "text/plain": [
              "<IPython.core.display.HTML object>"
            ]
          },
          "metadata": {
            "tags": []
          }
        },
        {
          "output_type": "stream",
          "text": [
            "Saving yelp.csv to yelp.csv\n"
          ],
          "name": "stdout"
        }
      ]
    },
    {
      "cell_type": "code",
      "metadata": {
        "id": "7xr8GDXETdBS"
      },
      "source": [
        "import pandas as pd\n",
        "\n",
        "#Read the week02_yelp.csv into pandas using the csv file\n",
        "yelp = pd.read_csv('yelp.csv')"
      ],
      "execution_count": 2,
      "outputs": []
    },
    {
      "cell_type": "code",
      "metadata": {
        "id": "qw1OSC4rUDKv",
        "colab": {
          "base_uri": "https://localhost:8080/"
        },
        "outputId": "d14236a4-7d7a-492c-c665-daa55fd65cac"
      },
      "source": [
        "#Examine the shape\n",
        "yelp.shape"
      ],
      "execution_count": 3,
      "outputs": [
        {
          "output_type": "execute_result",
          "data": {
            "text/plain": [
              "(10000, 10)"
            ]
          },
          "metadata": {
            "tags": []
          },
          "execution_count": 3
        }
      ]
    },
    {
      "cell_type": "code",
      "metadata": {
        "id": "MmlSso6vUKV-",
        "colab": {
          "base_uri": "https://localhost:8080/",
          "height": 80
        },
        "outputId": "025b069c-7796-4311-b391-d17f69ab198a"
      },
      "source": [
        "#Examine the first row\n",
        "yelp.head(1)"
      ],
      "execution_count": 4,
      "outputs": [
        {
          "output_type": "execute_result",
          "data": {
            "text/html": [
              "<div>\n",
              "<style scoped>\n",
              "    .dataframe tbody tr th:only-of-type {\n",
              "        vertical-align: middle;\n",
              "    }\n",
              "\n",
              "    .dataframe tbody tr th {\n",
              "        vertical-align: top;\n",
              "    }\n",
              "\n",
              "    .dataframe thead th {\n",
              "        text-align: right;\n",
              "    }\n",
              "</style>\n",
              "<table border=\"1\" class=\"dataframe\">\n",
              "  <thead>\n",
              "    <tr style=\"text-align: right;\">\n",
              "      <th></th>\n",
              "      <th>business_id</th>\n",
              "      <th>date</th>\n",
              "      <th>review_id</th>\n",
              "      <th>stars</th>\n",
              "      <th>text</th>\n",
              "      <th>type</th>\n",
              "      <th>user_id</th>\n",
              "      <th>cool</th>\n",
              "      <th>useful</th>\n",
              "      <th>funny</th>\n",
              "    </tr>\n",
              "  </thead>\n",
              "  <tbody>\n",
              "    <tr>\n",
              "      <th>0</th>\n",
              "      <td>9yKzy9PApeiPPOUJEtnvkg</td>\n",
              "      <td>2011-01-26</td>\n",
              "      <td>fWKvX83p0-ka4JS3dc6E5A</td>\n",
              "      <td>5</td>\n",
              "      <td>My wife took me here on my birthday for breakf...</td>\n",
              "      <td>review</td>\n",
              "      <td>rLtl8ZkDX5vH5nAx9C3q5Q</td>\n",
              "      <td>2</td>\n",
              "      <td>5</td>\n",
              "      <td>0</td>\n",
              "    </tr>\n",
              "  </tbody>\n",
              "</table>\n",
              "</div>"
            ],
            "text/plain": [
              "              business_id        date  ... useful  funny\n",
              "0  9yKzy9PApeiPPOUJEtnvkg  2011-01-26  ...      5      0\n",
              "\n",
              "[1 rows x 10 columns]"
            ]
          },
          "metadata": {
            "tags": []
          },
          "execution_count": 4
        }
      ]
    },
    {
      "cell_type": "code",
      "metadata": {
        "id": "DlS5yC0NvE2f",
        "colab": {
          "base_uri": "https://localhost:8080/",
          "height": 173
        },
        "outputId": "9b232c26-6f78-4309-cf63-203e0a41d0d9"
      },
      "source": [
        "#Examine the summary/description of the yelp data\n",
        "yelp.describe(include=['object'])"
      ],
      "execution_count": 6,
      "outputs": [
        {
          "output_type": "execute_result",
          "data": {
            "text/html": [
              "<div>\n",
              "<style scoped>\n",
              "    .dataframe tbody tr th:only-of-type {\n",
              "        vertical-align: middle;\n",
              "    }\n",
              "\n",
              "    .dataframe tbody tr th {\n",
              "        vertical-align: top;\n",
              "    }\n",
              "\n",
              "    .dataframe thead th {\n",
              "        text-align: right;\n",
              "    }\n",
              "</style>\n",
              "<table border=\"1\" class=\"dataframe\">\n",
              "  <thead>\n",
              "    <tr style=\"text-align: right;\">\n",
              "      <th></th>\n",
              "      <th>business_id</th>\n",
              "      <th>date</th>\n",
              "      <th>review_id</th>\n",
              "      <th>text</th>\n",
              "      <th>type</th>\n",
              "      <th>user_id</th>\n",
              "    </tr>\n",
              "  </thead>\n",
              "  <tbody>\n",
              "    <tr>\n",
              "      <th>count</th>\n",
              "      <td>10000</td>\n",
              "      <td>10000</td>\n",
              "      <td>10000</td>\n",
              "      <td>10000</td>\n",
              "      <td>10000</td>\n",
              "      <td>10000</td>\n",
              "    </tr>\n",
              "    <tr>\n",
              "      <th>unique</th>\n",
              "      <td>4174</td>\n",
              "      <td>1995</td>\n",
              "      <td>10000</td>\n",
              "      <td>9998</td>\n",
              "      <td>1</td>\n",
              "      <td>6403</td>\n",
              "    </tr>\n",
              "    <tr>\n",
              "      <th>top</th>\n",
              "      <td>ntN85eu27C04nwyPa8IHtw</td>\n",
              "      <td>2011-03-28</td>\n",
              "      <td>lEN_dM8UMgTwxbOd__A9JQ</td>\n",
              "      <td>This review is for the chain in general. The l...</td>\n",
              "      <td>review</td>\n",
              "      <td>fczQCSmaWF78toLEmb0Zsw</td>\n",
              "    </tr>\n",
              "    <tr>\n",
              "      <th>freq</th>\n",
              "      <td>37</td>\n",
              "      <td>21</td>\n",
              "      <td>1</td>\n",
              "      <td>2</td>\n",
              "      <td>10000</td>\n",
              "      <td>38</td>\n",
              "    </tr>\n",
              "  </tbody>\n",
              "</table>\n",
              "</div>"
            ],
            "text/plain": [
              "                   business_id        date  ...    type                 user_id\n",
              "count                    10000       10000  ...   10000                   10000\n",
              "unique                    4174        1995  ...       1                    6403\n",
              "top     ntN85eu27C04nwyPa8IHtw  2011-03-28  ...  review  fczQCSmaWF78toLEmb0Zsw\n",
              "freq                        37          21  ...   10000                      38\n",
              "\n",
              "[4 rows x 6 columns]"
            ]
          },
          "metadata": {
            "tags": []
          },
          "execution_count": 6
        }
      ]
    },
    {
      "cell_type": "code",
      "metadata": {
        "id": "pCo6xYvuUTHc",
        "colab": {
          "base_uri": "https://localhost:8080/"
        },
        "outputId": "2b5f71ba-31c2-4d4b-c6bf-38bd116b3d8d"
      },
      "source": [
        "#Examine the class (i.e. stars) distribution\n",
        "yelp.stars.value_counts().sort_index"
      ],
      "execution_count": 7,
      "outputs": [
        {
          "output_type": "execute_result",
          "data": {
            "text/plain": [
              "<bound method Series.sort_index of 4    3526\n",
              "5    3337\n",
              "3    1461\n",
              "2     927\n",
              "1     749\n",
              "Name: stars, dtype: int64>"
            ]
          },
          "metadata": {
            "tags": []
          },
          "execution_count": 7
        }
      ]
    },
    {
      "cell_type": "code",
      "metadata": {
        "id": "-l-pVtxceZjz",
        "colab": {
          "base_uri": "https://localhost:8080/",
          "height": 419
        },
        "outputId": "feeae911-dc98-4203-84dd-2d3c661a0a4f"
      },
      "source": [
        "#Examine the reviews by filtering the stars equal to 1\n",
        "yelp[yelp.stars == 1]"
      ],
      "execution_count": 8,
      "outputs": [
        {
          "output_type": "execute_result",
          "data": {
            "text/html": [
              "<div>\n",
              "<style scoped>\n",
              "    .dataframe tbody tr th:only-of-type {\n",
              "        vertical-align: middle;\n",
              "    }\n",
              "\n",
              "    .dataframe tbody tr th {\n",
              "        vertical-align: top;\n",
              "    }\n",
              "\n",
              "    .dataframe thead th {\n",
              "        text-align: right;\n",
              "    }\n",
              "</style>\n",
              "<table border=\"1\" class=\"dataframe\">\n",
              "  <thead>\n",
              "    <tr style=\"text-align: right;\">\n",
              "      <th></th>\n",
              "      <th>business_id</th>\n",
              "      <th>date</th>\n",
              "      <th>review_id</th>\n",
              "      <th>stars</th>\n",
              "      <th>text</th>\n",
              "      <th>type</th>\n",
              "      <th>user_id</th>\n",
              "      <th>cool</th>\n",
              "      <th>useful</th>\n",
              "      <th>funny</th>\n",
              "    </tr>\n",
              "  </thead>\n",
              "  <tbody>\n",
              "    <tr>\n",
              "      <th>23</th>\n",
              "      <td>IJ0o6b8bJFAbG6MjGfBebQ</td>\n",
              "      <td>2010-09-05</td>\n",
              "      <td>Dx9sfFU6Zn0GYOckijom-g</td>\n",
              "      <td>1</td>\n",
              "      <td>U can go there n check the car out. If u wanna...</td>\n",
              "      <td>review</td>\n",
              "      <td>zRlQEDYd_HKp0VS3hnAffA</td>\n",
              "      <td>0</td>\n",
              "      <td>1</td>\n",
              "      <td>1</td>\n",
              "    </tr>\n",
              "    <tr>\n",
              "      <th>31</th>\n",
              "      <td>vvA3fbps4F9nGlAEYKk_sA</td>\n",
              "      <td>2012-05-04</td>\n",
              "      <td>S9OVpXat8k5YwWCn6FAgXg</td>\n",
              "      <td>1</td>\n",
              "      <td>Disgusting!  Had a Groupon so my daughter and ...</td>\n",
              "      <td>review</td>\n",
              "      <td>8AMn6644NmBf96xGO3w6OA</td>\n",
              "      <td>0</td>\n",
              "      <td>1</td>\n",
              "      <td>0</td>\n",
              "    </tr>\n",
              "    <tr>\n",
              "      <th>35</th>\n",
              "      <td>o1GIYYZJjM6nM03fQs_uEQ</td>\n",
              "      <td>2011-11-30</td>\n",
              "      <td>ApKbwpYJdnhhgP4NbjQw2Q</td>\n",
              "      <td>1</td>\n",
              "      <td>I've eaten here many times, but none as bad as...</td>\n",
              "      <td>review</td>\n",
              "      <td>iwUN95LIaEr75TZE_JC6bg</td>\n",
              "      <td>0</td>\n",
              "      <td>4</td>\n",
              "      <td>3</td>\n",
              "    </tr>\n",
              "    <tr>\n",
              "      <th>61</th>\n",
              "      <td>l4vBbCL9QbGiwLuLKwD_bA</td>\n",
              "      <td>2011-11-22</td>\n",
              "      <td>DJVxOfj2Rw9zklC9tU3i1w</td>\n",
              "      <td>1</td>\n",
              "      <td>I have always been a fan of Burlington's deals...</td>\n",
              "      <td>review</td>\n",
              "      <td>EPROVap0M19Y6_4uf3eCmQ</td>\n",
              "      <td>0</td>\n",
              "      <td>0</td>\n",
              "      <td>0</td>\n",
              "    </tr>\n",
              "    <tr>\n",
              "      <th>64</th>\n",
              "      <td>CEswyP-9SsXRNLR9fFGKKw</td>\n",
              "      <td>2012-05-19</td>\n",
              "      <td>GXj4PNAi095-q9ynPYH3kg</td>\n",
              "      <td>1</td>\n",
              "      <td>Another night meeting friends here.  I have to...</td>\n",
              "      <td>review</td>\n",
              "      <td>MjLAe48XNfYlTeFYca5gMw</td>\n",
              "      <td>0</td>\n",
              "      <td>1</td>\n",
              "      <td>2</td>\n",
              "    </tr>\n",
              "    <tr>\n",
              "      <th>...</th>\n",
              "      <td>...</td>\n",
              "      <td>...</td>\n",
              "      <td>...</td>\n",
              "      <td>...</td>\n",
              "      <td>...</td>\n",
              "      <td>...</td>\n",
              "      <td>...</td>\n",
              "      <td>...</td>\n",
              "      <td>...</td>\n",
              "      <td>...</td>\n",
              "    </tr>\n",
              "    <tr>\n",
              "      <th>9924</th>\n",
              "      <td>mhQCxOiqp03qnhGRTtPduw</td>\n",
              "      <td>2012-07-07</td>\n",
              "      <td>PCjnn__E8AzNa2kXFXxTHQ</td>\n",
              "      <td>1</td>\n",
              "      <td>Horrible service.</td>\n",
              "      <td>review</td>\n",
              "      <td>rvaJcf5OIY2So_pkoqDHLQ</td>\n",
              "      <td>0</td>\n",
              "      <td>1</td>\n",
              "      <td>0</td>\n",
              "    </tr>\n",
              "    <tr>\n",
              "      <th>9931</th>\n",
              "      <td>C_eWAEOvkHZ_IZYGwjtpmg</td>\n",
              "      <td>2011-04-25</td>\n",
              "      <td>QfdoE-XqEeCsttJH8g0ugQ</td>\n",
              "      <td>1</td>\n",
              "      <td>I love Saddle Ranch for its casual night time ...</td>\n",
              "      <td>review</td>\n",
              "      <td>yhGfcKunPjcy-v-1ppr6oQ</td>\n",
              "      <td>0</td>\n",
              "      <td>2</td>\n",
              "      <td>0</td>\n",
              "    </tr>\n",
              "    <tr>\n",
              "      <th>9953</th>\n",
              "      <td>QCxXYA13PtkD3wec47_r8Q</td>\n",
              "      <td>2012-03-14</td>\n",
              "      <td>V2N2TCqnaqMYfg7zXGG-Rg</td>\n",
              "      <td>1</td>\n",
              "      <td>\"Hipster,Trendy\" ????-I think NOT !!!! Very di...</td>\n",
              "      <td>review</td>\n",
              "      <td>JEQ6el2-tLtKJU6k_SpE-w</td>\n",
              "      <td>0</td>\n",
              "      <td>2</td>\n",
              "      <td>0</td>\n",
              "    </tr>\n",
              "    <tr>\n",
              "      <th>9984</th>\n",
              "      <td>wepFVY82q_tuDzG6lQjHWw</td>\n",
              "      <td>2012-02-12</td>\n",
              "      <td>spusZYROtBKw_5tv3gYm4Q</td>\n",
              "      <td>1</td>\n",
              "      <td>Went last night to Whore Foods to get basics t...</td>\n",
              "      <td>review</td>\n",
              "      <td>W7zmm1uzlyUkEqpSG7PlBw</td>\n",
              "      <td>0</td>\n",
              "      <td>1</td>\n",
              "      <td>2</td>\n",
              "    </tr>\n",
              "    <tr>\n",
              "      <th>9987</th>\n",
              "      <td>r-a-Cn9hxdEnYTtVTB5bMQ</td>\n",
              "      <td>2012-04-07</td>\n",
              "      <td>j9HwZZoBBmJgOlqDSuJcxg</td>\n",
              "      <td>1</td>\n",
              "      <td>The food is delicious.  The service:  discrimi...</td>\n",
              "      <td>review</td>\n",
              "      <td>toPtsUtYoRB-5-ThrOy2Fg</td>\n",
              "      <td>0</td>\n",
              "      <td>0</td>\n",
              "      <td>0</td>\n",
              "    </tr>\n",
              "  </tbody>\n",
              "</table>\n",
              "<p>749 rows × 10 columns</p>\n",
              "</div>"
            ],
            "text/plain": [
              "                 business_id        date  ... useful  funny\n",
              "23    IJ0o6b8bJFAbG6MjGfBebQ  2010-09-05  ...      1      1\n",
              "31    vvA3fbps4F9nGlAEYKk_sA  2012-05-04  ...      1      0\n",
              "35    o1GIYYZJjM6nM03fQs_uEQ  2011-11-30  ...      4      3\n",
              "61    l4vBbCL9QbGiwLuLKwD_bA  2011-11-22  ...      0      0\n",
              "64    CEswyP-9SsXRNLR9fFGKKw  2012-05-19  ...      1      2\n",
              "...                      ...         ...  ...    ...    ...\n",
              "9924  mhQCxOiqp03qnhGRTtPduw  2012-07-07  ...      1      0\n",
              "9931  C_eWAEOvkHZ_IZYGwjtpmg  2011-04-25  ...      2      0\n",
              "9953  QCxXYA13PtkD3wec47_r8Q  2012-03-14  ...      2      0\n",
              "9984  wepFVY82q_tuDzG6lQjHWw  2012-02-12  ...      1      2\n",
              "9987  r-a-Cn9hxdEnYTtVTB5bMQ  2012-04-07  ...      0      0\n",
              "\n",
              "[749 rows x 10 columns]"
            ]
          },
          "metadata": {
            "tags": []
          },
          "execution_count": 8
        }
      ]
    },
    {
      "cell_type": "code",
      "metadata": {
        "id": "0sDmd-ky218r",
        "colab": {
          "base_uri": "https://localhost:8080/"
        },
        "outputId": "b973ac95-0dc9-4bb4-aff6-4054eb59117b"
      },
      "source": [
        "#analyze reviews by year\n",
        "yelp.dtypes"
      ],
      "execution_count": 9,
      "outputs": [
        {
          "output_type": "execute_result",
          "data": {
            "text/plain": [
              "business_id    object\n",
              "date           object\n",
              "review_id      object\n",
              "stars           int64\n",
              "text           object\n",
              "type           object\n",
              "user_id        object\n",
              "cool            int64\n",
              "useful          int64\n",
              "funny           int64\n",
              "dtype: object"
            ]
          },
          "metadata": {
            "tags": []
          },
          "execution_count": 9
        }
      ]
    },
    {
      "cell_type": "code",
      "metadata": {
        "id": "GpQI4BAn5CY4"
      },
      "source": [
        "# convert date's object to numeric or to integer\n"
      ],
      "execution_count": null,
      "outputs": []
    },
    {
      "cell_type": "code",
      "metadata": {
        "id": "3pTiDJdX6d4O"
      },
      "source": [
        "# Check whether the date converted to integer\n",
        "yelp['date'] = pd.to_datetime(yelp.date)"
      ],
      "execution_count": 10,
      "outputs": []
    },
    {
      "cell_type": "code",
      "metadata": {
        "colab": {
          "base_uri": "https://localhost:8080/"
        },
        "id": "CmHyPYL0mCgy",
        "outputId": "3cdf1610-28d0-4c0e-f459-d1583c9a9bdc"
      },
      "source": [
        "yelp.dtypes"
      ],
      "execution_count": 11,
      "outputs": [
        {
          "output_type": "execute_result",
          "data": {
            "text/plain": [
              "business_id            object\n",
              "date           datetime64[ns]\n",
              "review_id              object\n",
              "stars                   int64\n",
              "text                   object\n",
              "type                   object\n",
              "user_id                object\n",
              "cool                    int64\n",
              "useful                  int64\n",
              "funny                   int64\n",
              "dtype: object"
            ]
          },
          "metadata": {
            "tags": []
          },
          "execution_count": 11
        }
      ]
    },
    {
      "cell_type": "code",
      "metadata": {
        "id": "bLLnC3EI6iVR",
        "colab": {
          "base_uri": "https://localhost:8080/"
        },
        "outputId": "ccb631a6-226c-452a-8caa-1d521e8601a3"
      },
      "source": [
        "# Extract only the years from the date series (date column)\n",
        "# https://pandas.pydata.org/pandas-docs/stable/reference/series.html\n",
        "yelp.date.dt.year"
      ],
      "execution_count": 12,
      "outputs": [
        {
          "output_type": "execute_result",
          "data": {
            "text/plain": [
              "0       2011\n",
              "1       2011\n",
              "2       2012\n",
              "3       2010\n",
              "4       2012\n",
              "        ... \n",
              "9995    2012\n",
              "9996    2012\n",
              "9997    2010\n",
              "9998    2012\n",
              "9999    2010\n",
              "Name: date, Length: 10000, dtype: int64"
            ]
          },
          "metadata": {
            "tags": []
          },
          "execution_count": 12
        }
      ]
    },
    {
      "cell_type": "code",
      "metadata": {
        "id": "opSka5GK7eye",
        "colab": {
          "base_uri": "https://localhost:8080/",
          "height": 80
        },
        "outputId": "1a3d48d2-c17c-4a7a-dd6f-4febddf34d68"
      },
      "source": [
        "#Examine the 1st row of the yelp data\n",
        "yelp.head(1)"
      ],
      "execution_count": 13,
      "outputs": [
        {
          "output_type": "execute_result",
          "data": {
            "text/html": [
              "<div>\n",
              "<style scoped>\n",
              "    .dataframe tbody tr th:only-of-type {\n",
              "        vertical-align: middle;\n",
              "    }\n",
              "\n",
              "    .dataframe tbody tr th {\n",
              "        vertical-align: top;\n",
              "    }\n",
              "\n",
              "    .dataframe thead th {\n",
              "        text-align: right;\n",
              "    }\n",
              "</style>\n",
              "<table border=\"1\" class=\"dataframe\">\n",
              "  <thead>\n",
              "    <tr style=\"text-align: right;\">\n",
              "      <th></th>\n",
              "      <th>business_id</th>\n",
              "      <th>date</th>\n",
              "      <th>review_id</th>\n",
              "      <th>stars</th>\n",
              "      <th>text</th>\n",
              "      <th>type</th>\n",
              "      <th>user_id</th>\n",
              "      <th>cool</th>\n",
              "      <th>useful</th>\n",
              "      <th>funny</th>\n",
              "    </tr>\n",
              "  </thead>\n",
              "  <tbody>\n",
              "    <tr>\n",
              "      <th>0</th>\n",
              "      <td>9yKzy9PApeiPPOUJEtnvkg</td>\n",
              "      <td>2011-01-26</td>\n",
              "      <td>fWKvX83p0-ka4JS3dc6E5A</td>\n",
              "      <td>5</td>\n",
              "      <td>My wife took me here on my birthday for breakf...</td>\n",
              "      <td>review</td>\n",
              "      <td>rLtl8ZkDX5vH5nAx9C3q5Q</td>\n",
              "      <td>2</td>\n",
              "      <td>5</td>\n",
              "      <td>0</td>\n",
              "    </tr>\n",
              "  </tbody>\n",
              "</table>\n",
              "</div>"
            ],
            "text/plain": [
              "              business_id       date  ... useful  funny\n",
              "0  9yKzy9PApeiPPOUJEtnvkg 2011-01-26  ...      5      0\n",
              "\n",
              "[1 rows x 10 columns]"
            ]
          },
          "metadata": {
            "tags": []
          },
          "execution_count": 13
        }
      ]
    },
    {
      "cell_type": "code",
      "metadata": {
        "id": "AfwMWOtV8Q7t",
        "colab": {
          "base_uri": "https://localhost:8080/",
          "height": 282
        },
        "outputId": "aac887c5-f49d-4b2e-a705-ed71e9796029"
      },
      "source": [
        "#Show the distribution of yelp reviews by year on a graph\n",
        "%matplotlib inline\n",
        "#add one column: year in the dataframe\n",
        "yelp['year'] = yelp.date.dt.year\n",
        "yelp.head(1)\n",
        "yelp.year.value_counts().sort_index().plot()"
      ],
      "execution_count": 16,
      "outputs": [
        {
          "output_type": "execute_result",
          "data": {
            "text/plain": [
              "<matplotlib.axes._subplots.AxesSubplot at 0x7fdfc96fb3c8>"
            ]
          },
          "metadata": {
            "tags": []
          },
          "execution_count": 16
        },
        {
          "output_type": "display_data",
          "data": {
            "image/png": "[encoded data removed]",
            "text/plain": [
              "<Figure size 432x288 with 1 Axes>"
            ]
          },
          "metadata": {
            "tags": [],
            "needs_background": "light"
          }
        }
      ]
    },
    {
      "cell_type": "code",
      "metadata": {
        "id": "AQuEJge3smik",
        "colab": {
          "base_uri": "https://localhost:8080/"
        },
        "outputId": "6e86f8ba-5aa6-434b-a159-632189b3841a"
      },
      "source": [
        "#Examine the average star ratigs only by year\n",
        "yelp.stars.mean()"
      ],
      "execution_count": 17,
      "outputs": [
        {
          "output_type": "execute_result",
          "data": {
            "text/plain": [
              "3.7775"
            ]
          },
          "metadata": {
            "tags": []
          },
          "execution_count": 17
        }
      ]
    },
    {
      "cell_type": "code",
      "metadata": {
        "id": "eNvBEO5ussgJ",
        "colab": {
          "base_uri": "https://localhost:8080/"
        },
        "outputId": "1500e22e-a454-48d4-dd70-1f9dc924c350"
      },
      "source": [
        "#Examine the years with mean stars by using groupby\n",
        "yelp.groupby('year').stars.mean()"
      ],
      "execution_count": 18,
      "outputs": [
        {
          "output_type": "execute_result",
          "data": {
            "text/plain": [
              "year\n",
              "2005    3.250000\n",
              "2006    3.709091\n",
              "2007    3.835088\n",
              "2008    3.743791\n",
              "2009    3.754056\n",
              "2010    3.796436\n",
              "2011    3.787173\n",
              "2012    3.766942\n",
              "2013    4.019231\n",
              "Name: stars, dtype: float64"
            ]
          },
          "metadata": {
            "tags": []
          },
          "execution_count": 18
        }
      ]
    },
    {
      "cell_type": "code",
      "metadata": {
        "id": "llRsc-cABhft",
        "colab": {
          "base_uri": "https://localhost:8080/",
          "height": 566
        },
        "outputId": "b5ae84fa-2f15-4ab6-894f-b5d58aa4b8f2"
      },
      "source": [
        "#visualize the relationship between features (cool,useful,funny) and the \n",
        "#response stars using scatterplots\n",
        "import seaborn as sns #conventional way to import seaborn\n",
        "\n",
        "sns.pairplot(yelp, x_vars=['cool','useful','funny'], y_vars='stars', size=7, aspect=0.7)"
      ],
      "execution_count": 19,
      "outputs": [
        {
          "output_type": "stream",
          "text": [
            "/usr/local/lib/python3.6/dist-packages/seaborn/axisgrid.py:1969: UserWarning: The `size` parameter has been renamed to `height`; please update your code.\n",
            "  warnings.warn(msg, UserWarning)\n"
          ],
          "name": "stderr"
        },
        {
          "output_type": "execute_result",
          "data": {
            "text/plain": [
              "<seaborn.axisgrid.PairGrid at 0x7fdfbae0fe48>"
            ]
          },
          "metadata": {
            "tags": []
          },
          "execution_count": 19
        },
        {
          "output_type": "display_data",
          "data": {
            "image/png": "[encoded data removed]",
            "text/plain": [
              "<Figure size 1058.4x504 with 3 Axes>"
            ]
          },
          "metadata": {
            "tags": [],
            "needs_background": "light"
          }
        }
      ]
    },
    {
      "cell_type": "code",
      "metadata": {
        "colab": {
          "base_uri": "https://localhost:8080/"
        },
        "id": "K6HejBp7fHYg",
        "outputId": "07b71ede-0a67-4976-ed22-7db1e7d22c4f"
      },
      "source": [
        "True | False\n",
        "#only True if any one of the sides is True"
      ],
      "execution_count": null,
      "outputs": [
        {
          "output_type": "execute_result",
          "data": {
            "text/plain": [
              "True"
            ]
          },
          "metadata": {
            "tags": []
          },
          "execution_count": 20
        }
      ]
    },
    {
      "cell_type": "code",
      "metadata": {
        "colab": {
          "base_uri": "https://localhost:8080/"
        },
        "id": "1JJOiI2FfQGj",
        "outputId": "ce749292-6d23-4946-96fa-c261ad8fffd5"
      },
      "source": [
        "False | True"
      ],
      "execution_count": null,
      "outputs": [
        {
          "output_type": "execute_result",
          "data": {
            "text/plain": [
              "True"
            ]
          },
          "metadata": {
            "tags": []
          },
          "execution_count": 21
        }
      ]
    },
    {
      "cell_type": "code",
      "metadata": {
        "colab": {
          "base_uri": "https://localhost:8080/"
        },
        "id": "NMh5gxTKfT60",
        "outputId": "e4d2af0a-fcee-47d1-8c03-cfc23d5597e8"
      },
      "source": [
        "False | False"
      ],
      "execution_count": null,
      "outputs": [
        {
          "output_type": "execute_result",
          "data": {
            "text/plain": [
              "False"
            ]
          },
          "metadata": {
            "tags": []
          },
          "execution_count": 22
        }
      ]
    },
    {
      "cell_type": "code",
      "metadata": {
        "colab": {
          "base_uri": "https://localhost:8080/"
        },
        "id": "Cw2CXCz7fbeI",
        "outputId": "c7ab9049-afcf-437b-ebfb-afde7d71ce8f"
      },
      "source": [
        "True & False\n",
        "#only True if both sides are True"
      ],
      "execution_count": null,
      "outputs": [
        {
          "output_type": "execute_result",
          "data": {
            "text/plain": [
              "False"
            ]
          },
          "metadata": {
            "tags": []
          },
          "execution_count": 23
        }
      ]
    },
    {
      "cell_type": "code",
      "metadata": {
        "colab": {
          "base_uri": "https://localhost:8080/"
        },
        "id": "T04rjIXAf8tp",
        "outputId": "37864d10-0f27-4815-b0e5-7370905f0898"
      },
      "source": [
        "False & False"
      ],
      "execution_count": null,
      "outputs": [
        {
          "output_type": "execute_result",
          "data": {
            "text/plain": [
              "False"
            ]
          },
          "metadata": {
            "tags": []
          },
          "execution_count": 24
        }
      ]
    },
    {
      "cell_type": "code",
      "metadata": {
        "colab": {
          "base_uri": "https://localhost:8080/"
        },
        "id": "raQK89xWgA16",
        "outputId": "ec61863c-f65f-4541-80ed-9ea47a8f956b"
      },
      "source": [
        "True & True"
      ],
      "execution_count": null,
      "outputs": [
        {
          "output_type": "execute_result",
          "data": {
            "text/plain": [
              "True"
            ]
          },
          "metadata": {
            "tags": []
          },
          "execution_count": 25
        }
      ]
    },
    {
      "cell_type": "code",
      "metadata": {
        "id": "IwlcbfH9gK_b",
        "colab": {
          "base_uri": "https://localhost:8080/",
          "height": 576
        },
        "outputId": "119c9e4c-2665-4f74-f500-f172b9d865ec"
      },
      "source": [
        "#Look for reviews with stars equal to 1 & funny equals to 4\n",
        "#add parantheses for pandas to know about the evaluation order\n",
        "#pandas needs to know in what order to evaluate all these separate statements\n",
        "yelp[(yelp.stars == 1) & (yelp.funny == 4)]"
      ],
      "execution_count": 20,
      "outputs": [
        {
          "output_type": "execute_result",
          "data": {
            "text/html": [
              "<div>\n",
              "<style scoped>\n",
              "    .dataframe tbody tr th:only-of-type {\n",
              "        vertical-align: middle;\n",
              "    }\n",
              "\n",
              "    .dataframe tbody tr th {\n",
              "        vertical-align: top;\n",
              "    }\n",
              "\n",
              "    .dataframe thead th {\n",
              "        text-align: right;\n",
              "    }\n",
              "</style>\n",
              "<table border=\"1\" class=\"dataframe\">\n",
              "  <thead>\n",
              "    <tr style=\"text-align: right;\">\n",
              "      <th></th>\n",
              "      <th>business_id</th>\n",
              "      <th>date</th>\n",
              "      <th>review_id</th>\n",
              "      <th>stars</th>\n",
              "      <th>text</th>\n",
              "      <th>type</th>\n",
              "      <th>user_id</th>\n",
              "      <th>cool</th>\n",
              "      <th>useful</th>\n",
              "      <th>funny</th>\n",
              "      <th>year</th>\n",
              "    </tr>\n",
              "  </thead>\n",
              "  <tbody>\n",
              "    <tr>\n",
              "      <th>575</th>\n",
              "      <td>nfyqtEoufkhjv97IueK7Ow</td>\n",
              "      <td>2011-03-04</td>\n",
              "      <td>6-Bd6EH7f4iOClnPi3R5pg</td>\n",
              "      <td>1</td>\n",
              "      <td>Here's the 1. 2. 3...\\n\\n1. Great Food. I love...</td>\n",
              "      <td>review</td>\n",
              "      <td>zzmRKNph-pBHDL2qwGv9Fw</td>\n",
              "      <td>1</td>\n",
              "      <td>4</td>\n",
              "      <td>4</td>\n",
              "      <td>2011</td>\n",
              "    </tr>\n",
              "    <tr>\n",
              "      <th>842</th>\n",
              "      <td>Rx9WPIaYCBquFBC563RjYg</td>\n",
              "      <td>2009-04-19</td>\n",
              "      <td>ukSAApxk4-vjK1Jt6NXRgg</td>\n",
              "      <td>1</td>\n",
              "      <td>Boy is the name a temptation.Seriously :)  I'l...</td>\n",
              "      <td>review</td>\n",
              "      <td>N3L6SDymSRkYQtTiSDmXSg</td>\n",
              "      <td>1</td>\n",
              "      <td>3</td>\n",
              "      <td>4</td>\n",
              "      <td>2009</td>\n",
              "    </tr>\n",
              "    <tr>\n",
              "      <th>1021</th>\n",
              "      <td>2qbajPD8M7PJlWWaHSRR5Q</td>\n",
              "      <td>2008-11-19</td>\n",
              "      <td>WxVChik_0ZMOceJWxukG6w</td>\n",
              "      <td>1</td>\n",
              "      <td>Glad this place has new ownership... I should ...</td>\n",
              "      <td>review</td>\n",
              "      <td>VBKbZD9X4zruXYORIhJhhg</td>\n",
              "      <td>3</td>\n",
              "      <td>6</td>\n",
              "      <td>4</td>\n",
              "      <td>2008</td>\n",
              "    </tr>\n",
              "    <tr>\n",
              "      <th>2822</th>\n",
              "      <td>tdcjXyFLMKAsvRhURNOkCg</td>\n",
              "      <td>2010-07-12</td>\n",
              "      <td>CCw0OX1RwsyxFYUwzMxS8g</td>\n",
              "      <td>1</td>\n",
              "      <td>Bad music, slow service, disgusting overpriced...</td>\n",
              "      <td>review</td>\n",
              "      <td>OMqlb9paqHOSOPGiVeL6Qg</td>\n",
              "      <td>0</td>\n",
              "      <td>2</td>\n",
              "      <td>4</td>\n",
              "      <td>2010</td>\n",
              "    </tr>\n",
              "    <tr>\n",
              "      <th>3647</th>\n",
              "      <td>lBRCMN7wNn-BKUsaOXJRow</td>\n",
              "      <td>2008-08-12</td>\n",
              "      <td>qmkpZSuY2zvAQwn4fQqfIw</td>\n",
              "      <td>1</td>\n",
              "      <td>I went in once looking for Canidae.  Which acc...</td>\n",
              "      <td>review</td>\n",
              "      <td>WpOXBiNf7vmRxZf1oTDncg</td>\n",
              "      <td>0</td>\n",
              "      <td>0</td>\n",
              "      <td>4</td>\n",
              "      <td>2008</td>\n",
              "    </tr>\n",
              "    <tr>\n",
              "      <th>4252</th>\n",
              "      <td>i41M_To0DAxuzZIGvU1wyg</td>\n",
              "      <td>2008-01-24</td>\n",
              "      <td>r7KI7dCOCdeQA8D2yKuwCA</td>\n",
              "      <td>1</td>\n",
              "      <td>Bitzee Mama's isn't my mama! My mama wouldn't ...</td>\n",
              "      <td>review</td>\n",
              "      <td>lPaYMDmJbAnv_3pmZH_inw</td>\n",
              "      <td>3</td>\n",
              "      <td>5</td>\n",
              "      <td>4</td>\n",
              "      <td>2008</td>\n",
              "    </tr>\n",
              "    <tr>\n",
              "      <th>4463</th>\n",
              "      <td>R7SVavAsjzN3wy825PiOEg</td>\n",
              "      <td>2011-04-18</td>\n",
              "      <td>qcf2bIRTGrkCOxeud5xMaw</td>\n",
              "      <td>1</td>\n",
              "      <td>I wouldn't write a review on a franchise unles...</td>\n",
              "      <td>review</td>\n",
              "      <td>jdeNI5TTTuM6mj3HTgstRA</td>\n",
              "      <td>3</td>\n",
              "      <td>10</td>\n",
              "      <td>4</td>\n",
              "      <td>2011</td>\n",
              "    </tr>\n",
              "    <tr>\n",
              "      <th>5492</th>\n",
              "      <td>zxjMiqlfUuIQRltSuj9FpQ</td>\n",
              "      <td>2011-08-05</td>\n",
              "      <td>HmfF4Bbrt757h2uXv8op2Q</td>\n",
              "      <td>1</td>\n",
              "      <td>Sadly, I'm giving this place one star and an e...</td>\n",
              "      <td>review</td>\n",
              "      <td>KgnQz4WFT892AXmimnP4jg</td>\n",
              "      <td>2</td>\n",
              "      <td>1</td>\n",
              "      <td>4</td>\n",
              "      <td>2011</td>\n",
              "    </tr>\n",
              "    <tr>\n",
              "      <th>5742</th>\n",
              "      <td>X5QTGpPfqXFtmtizsGAksw</td>\n",
              "      <td>2011-09-09</td>\n",
              "      <td>oAH1svCcQNDk3-n8LYEgOA</td>\n",
              "      <td>1</td>\n",
              "      <td>Oh boy.. I usually LOVE LOVE Mucho Gusto.. but...</td>\n",
              "      <td>review</td>\n",
              "      <td>Nh1-RLlCU5i0MCH7so6_-g</td>\n",
              "      <td>2</td>\n",
              "      <td>3</td>\n",
              "      <td>4</td>\n",
              "      <td>2011</td>\n",
              "    </tr>\n",
              "    <tr>\n",
              "      <th>5955</th>\n",
              "      <td>NH67MdKaFGNcP-dlu56pyw</td>\n",
              "      <td>2008-11-16</td>\n",
              "      <td>_sBjoWMQk-XavBoj6mSJlA</td>\n",
              "      <td>1</td>\n",
              "      <td>I've now tried Thai Elephant three times.  My ...</td>\n",
              "      <td>review</td>\n",
              "      <td>Y2-KtEL3k8Ai5gLzeIRX9w</td>\n",
              "      <td>5</td>\n",
              "      <td>4</td>\n",
              "      <td>4</td>\n",
              "      <td>2008</td>\n",
              "    </tr>\n",
              "    <tr>\n",
              "      <th>5986</th>\n",
              "      <td>Yiw1ml0XVBDIQBTLXHNGmQ</td>\n",
              "      <td>2009-04-23</td>\n",
              "      <td>Un0SU5J4GyIm9cJ3twT42g</td>\n",
              "      <td>1</td>\n",
              "      <td>After a day full of meetings, I gathered the h...</td>\n",
              "      <td>review</td>\n",
              "      <td>H5Awp19K54wIct2Oyp170w</td>\n",
              "      <td>1</td>\n",
              "      <td>2</td>\n",
              "      <td>4</td>\n",
              "      <td>2009</td>\n",
              "    </tr>\n",
              "    <tr>\n",
              "      <th>6702</th>\n",
              "      <td>77oW-QeIXbUoTbUbrdD2aA</td>\n",
              "      <td>2012-01-05</td>\n",
              "      <td>oVYk9Gxa3TY63FAeoeCEzg</td>\n",
              "      <td>1</td>\n",
              "      <td>Most livable city my eye!\\nPlastic yuppies aro...</td>\n",
              "      <td>review</td>\n",
              "      <td>ek4GWXatDshMorJwGC2JAw</td>\n",
              "      <td>1</td>\n",
              "      <td>2</td>\n",
              "      <td>4</td>\n",
              "      <td>2012</td>\n",
              "    </tr>\n",
              "    <tr>\n",
              "      <th>7170</th>\n",
              "      <td>8_wUsDlOE8Guecq5RZZjDg</td>\n",
              "      <td>2006-01-08</td>\n",
              "      <td>7ZujDqlte3aoLmFsa4P3oQ</td>\n",
              "      <td>1</td>\n",
              "      <td>I went here because all my friends were peeing...</td>\n",
              "      <td>review</td>\n",
              "      <td>wJp8U2qXl_jYUgyW9thjGA</td>\n",
              "      <td>0</td>\n",
              "      <td>1</td>\n",
              "      <td>4</td>\n",
              "      <td>2006</td>\n",
              "    </tr>\n",
              "    <tr>\n",
              "      <th>7377</th>\n",
              "      <td>zMa6YoEekpABg1HZnnTZdg</td>\n",
              "      <td>2012-09-02</td>\n",
              "      <td>WI4PbBLUGvL6PXrsPoyPgw</td>\n",
              "      <td>1</td>\n",
              "      <td>IF YOU HAVE KIDS YOU MUST READ!!!\\nMy husband ...</td>\n",
              "      <td>review</td>\n",
              "      <td>LF4zOXPFVdq7Xglb5yVcYw</td>\n",
              "      <td>0</td>\n",
              "      <td>7</td>\n",
              "      <td>4</td>\n",
              "      <td>2012</td>\n",
              "    </tr>\n",
              "    <tr>\n",
              "      <th>7831</th>\n",
              "      <td>E3RjJH45EX6rHYDs0TYSRA</td>\n",
              "      <td>2012-07-18</td>\n",
              "      <td>APMAhHLI3EQ09qmWxA4ZKg</td>\n",
              "      <td>1</td>\n",
              "      <td>Absolutely gross-  I'm just going to be bluntl...</td>\n",
              "      <td>review</td>\n",
              "      <td>LSf-IajkL99JQBZ3PzXnjQ</td>\n",
              "      <td>1</td>\n",
              "      <td>5</td>\n",
              "      <td>4</td>\n",
              "      <td>2012</td>\n",
              "    </tr>\n",
              "    <tr>\n",
              "      <th>8000</th>\n",
              "      <td>JhupPnWfNlMJivnWB5druA</td>\n",
              "      <td>2012-12-20</td>\n",
              "      <td>5-OpMBN0GGKmZjmBY0sZXA</td>\n",
              "      <td>1</td>\n",
              "      <td>Still a place that is unacceptable in my book-...</td>\n",
              "      <td>review</td>\n",
              "      <td>j2Zx2PYK7TdxtEPlvRmD1w</td>\n",
              "      <td>0</td>\n",
              "      <td>0</td>\n",
              "      <td>4</td>\n",
              "      <td>2012</td>\n",
              "    </tr>\n",
              "    <tr>\n",
              "      <th>8934</th>\n",
              "      <td>y75baZnoI51J8WS7NK9FHQ</td>\n",
              "      <td>2009-09-15</td>\n",
              "      <td>Vu_JoqKTjQTaopeFK0V00A</td>\n",
              "      <td>1</td>\n",
              "      <td>Wow. I'm not even going to wait until I'm done...</td>\n",
              "      <td>review</td>\n",
              "      <td>TDbKPzfPclw3MxrpBISVcA</td>\n",
              "      <td>4</td>\n",
              "      <td>2</td>\n",
              "      <td>4</td>\n",
              "      <td>2009</td>\n",
              "    </tr>\n",
              "  </tbody>\n",
              "</table>\n",
              "</div>"
            ],
            "text/plain": [
              "                 business_id       date  ... funny  year\n",
              "575   nfyqtEoufkhjv97IueK7Ow 2011-03-04  ...     4  2011\n",
              "842   Rx9WPIaYCBquFBC563RjYg 2009-04-19  ...     4  2009\n",
              "1021  2qbajPD8M7PJlWWaHSRR5Q 2008-11-19  ...     4  2008\n",
              "2822  tdcjXyFLMKAsvRhURNOkCg 2010-07-12  ...     4  2010\n",
              "3647  lBRCMN7wNn-BKUsaOXJRow 2008-08-12  ...     4  2008\n",
              "4252  i41M_To0DAxuzZIGvU1wyg 2008-01-24  ...     4  2008\n",
              "4463  R7SVavAsjzN3wy825PiOEg 2011-04-18  ...     4  2011\n",
              "5492  zxjMiqlfUuIQRltSuj9FpQ 2011-08-05  ...     4  2011\n",
              "5742  X5QTGpPfqXFtmtizsGAksw 2011-09-09  ...     4  2011\n",
              "5955  NH67MdKaFGNcP-dlu56pyw 2008-11-16  ...     4  2008\n",
              "5986  Yiw1ml0XVBDIQBTLXHNGmQ 2009-04-23  ...     4  2009\n",
              "6702  77oW-QeIXbUoTbUbrdD2aA 2012-01-05  ...     4  2012\n",
              "7170  8_wUsDlOE8Guecq5RZZjDg 2006-01-08  ...     4  2006\n",
              "7377  zMa6YoEekpABg1HZnnTZdg 2012-09-02  ...     4  2012\n",
              "7831  E3RjJH45EX6rHYDs0TYSRA 2012-07-18  ...     4  2012\n",
              "8000  JhupPnWfNlMJivnWB5druA 2012-12-20  ...     4  2012\n",
              "8934  y75baZnoI51J8WS7NK9FHQ 2009-09-15  ...     4  2009\n",
              "\n",
              "[17 rows x 11 columns]"
            ]
          },
          "metadata": {
            "tags": []
          },
          "execution_count": 20
        }
      ]
    },
    {
      "cell_type": "code",
      "metadata": {
        "id": "fNcylan0k94s",
        "colab": {
          "base_uri": "https://localhost:8080/",
          "height": 419
        },
        "outputId": "ab900c48-e552-4145-af32-d420a2f82bfa"
      },
      "source": [
        "#Look for reviews that are either funny rated as 8 or 9 or 10\n",
        "yelp[(yelp.funny == 8)|(yelp.funny == 9)|(yelp.funny == 10)]"
      ],
      "execution_count": 23,
      "outputs": [
        {
          "output_type": "execute_result",
          "data": {
            "text/html": [
              "<div>\n",
              "<style scoped>\n",
              "    .dataframe tbody tr th:only-of-type {\n",
              "        vertical-align: middle;\n",
              "    }\n",
              "\n",
              "    .dataframe tbody tr th {\n",
              "        vertical-align: top;\n",
              "    }\n",
              "\n",
              "    .dataframe thead th {\n",
              "        text-align: right;\n",
              "    }\n",
              "</style>\n",
              "<table border=\"1\" class=\"dataframe\">\n",
              "  <thead>\n",
              "    <tr style=\"text-align: right;\">\n",
              "      <th></th>\n",
              "      <th>business_id</th>\n",
              "      <th>date</th>\n",
              "      <th>review_id</th>\n",
              "      <th>stars</th>\n",
              "      <th>text</th>\n",
              "      <th>type</th>\n",
              "      <th>user_id</th>\n",
              "      <th>cool</th>\n",
              "      <th>useful</th>\n",
              "      <th>funny</th>\n",
              "      <th>year</th>\n",
              "    </tr>\n",
              "  </thead>\n",
              "  <tbody>\n",
              "    <tr>\n",
              "      <th>82</th>\n",
              "      <td>d7_jkx0VPx3uHsUl18iHMQ</td>\n",
              "      <td>2009-06-16</td>\n",
              "      <td>xE2MKvzes5Twg-jfAe8s4Q</td>\n",
              "      <td>5</td>\n",
              "      <td>Beer...or Yoga?\\n\\nLocated in a small center j...</td>\n",
              "      <td>review</td>\n",
              "      <td>mfvezpz6ohS0NQk3DZdvqQ</td>\n",
              "      <td>11</td>\n",
              "      <td>16</td>\n",
              "      <td>8</td>\n",
              "      <td>2009</td>\n",
              "    </tr>\n",
              "    <tr>\n",
              "      <th>90</th>\n",
              "      <td>hW0Ne_HTHEAgGF1rAdmR-g</td>\n",
              "      <td>2010-07-06</td>\n",
              "      <td>6iEP6dvHIefVMMnjeDRNcQ</td>\n",
              "      <td>1</td>\n",
              "      <td>The beach paradise of Ixtapa-Zihuatenejo await...</td>\n",
              "      <td>review</td>\n",
              "      <td>8tbXmjYGsYFZXk6ppuwRWQ</td>\n",
              "      <td>7</td>\n",
              "      <td>7</td>\n",
              "      <td>9</td>\n",
              "      <td>2010</td>\n",
              "    </tr>\n",
              "    <tr>\n",
              "      <th>144</th>\n",
              "      <td>zp713qNhx8d9KCJJnrw1xA</td>\n",
              "      <td>2010-02-02</td>\n",
              "      <td>qyzPbUwY_QgqdEputNWk6g</td>\n",
              "      <td>5</td>\n",
              "      <td>Perhaps it was foolish for me to give La Conde...</td>\n",
              "      <td>review</td>\n",
              "      <td>dQO0tQISZyb9L4d5ASnXyQ</td>\n",
              "      <td>16</td>\n",
              "      <td>17</td>\n",
              "      <td>9</td>\n",
              "      <td>2010</td>\n",
              "    </tr>\n",
              "    <tr>\n",
              "      <th>163</th>\n",
              "      <td>HGOsJ1-GXCk5_8RmwKxomA</td>\n",
              "      <td>2009-06-14</td>\n",
              "      <td>RSwZ_b5xV9ovGXTX3mux_w</td>\n",
              "      <td>2</td>\n",
              "      <td>eewh! yuck and wtf!?\\n\\nThis Barnes &amp; Noble Bo...</td>\n",
              "      <td>review</td>\n",
              "      <td>nZ9XFVETN4hxdK4qPb-T3Q</td>\n",
              "      <td>4</td>\n",
              "      <td>5</td>\n",
              "      <td>8</td>\n",
              "      <td>2009</td>\n",
              "    </tr>\n",
              "    <tr>\n",
              "      <th>220</th>\n",
              "      <td>dSQh1Hx2BiSrYog4ad740A</td>\n",
              "      <td>2007-01-23</td>\n",
              "      <td>4YSQvTgbGy5DraaXM4DGRQ</td>\n",
              "      <td>4</td>\n",
              "      <td>You may think this is a cop out... writing a r...</td>\n",
              "      <td>review</td>\n",
              "      <td>DJIwm4UCnM-SOxXbARjPsQ</td>\n",
              "      <td>2</td>\n",
              "      <td>2</td>\n",
              "      <td>8</td>\n",
              "      <td>2007</td>\n",
              "    </tr>\n",
              "    <tr>\n",
              "      <th>...</th>\n",
              "      <td>...</td>\n",
              "      <td>...</td>\n",
              "      <td>...</td>\n",
              "      <td>...</td>\n",
              "      <td>...</td>\n",
              "      <td>...</td>\n",
              "      <td>...</td>\n",
              "      <td>...</td>\n",
              "      <td>...</td>\n",
              "      <td>...</td>\n",
              "      <td>...</td>\n",
              "    </tr>\n",
              "    <tr>\n",
              "      <th>9287</th>\n",
              "      <td>cLojUtqkFpVIHFEvA_5Atw</td>\n",
              "      <td>2010-07-02</td>\n",
              "      <td>BhxmTjAN9MybthTa_0hYAQ</td>\n",
              "      <td>1</td>\n",
              "      <td>I don't intend to return, but based on the way...</td>\n",
              "      <td>review</td>\n",
              "      <td>vsXP832M0kOxKpfduD7dWw</td>\n",
              "      <td>10</td>\n",
              "      <td>13</td>\n",
              "      <td>10</td>\n",
              "      <td>2010</td>\n",
              "    </tr>\n",
              "    <tr>\n",
              "      <th>9303</th>\n",
              "      <td>bzXDUQ-5Odzx5WZNoSoANg</td>\n",
              "      <td>2012-01-18</td>\n",
              "      <td>TZCONpt5xdDDJMGqavtfmA</td>\n",
              "      <td>5</td>\n",
              "      <td>When people feel a cold coming, they pop a zin...</td>\n",
              "      <td>review</td>\n",
              "      <td>m7vtKWpZ9wdEQ95wJxrMrg</td>\n",
              "      <td>10</td>\n",
              "      <td>10</td>\n",
              "      <td>8</td>\n",
              "      <td>2012</td>\n",
              "    </tr>\n",
              "    <tr>\n",
              "      <th>9311</th>\n",
              "      <td>AtoMSHZ-lO7kxHRBdioMtA</td>\n",
              "      <td>2009-08-02</td>\n",
              "      <td>xFVs_Ya2YLejW9tKgIvdbw</td>\n",
              "      <td>5</td>\n",
              "      <td>I was given a $100 gift card to use at Willow ...</td>\n",
              "      <td>review</td>\n",
              "      <td>fczQCSmaWF78toLEmb0Zsw</td>\n",
              "      <td>10</td>\n",
              "      <td>10</td>\n",
              "      <td>8</td>\n",
              "      <td>2009</td>\n",
              "    </tr>\n",
              "    <tr>\n",
              "      <th>9489</th>\n",
              "      <td>zmFc8M-hS4uuyY0hklIpoQ</td>\n",
              "      <td>2009-02-19</td>\n",
              "      <td>kWilrefFxn6DLRqyT8-uPA</td>\n",
              "      <td>5</td>\n",
              "      <td>Mmm dirty hipster bars.  Let me count the ways...</td>\n",
              "      <td>review</td>\n",
              "      <td>o33IBagNFxdJhIrRTl691Q</td>\n",
              "      <td>4</td>\n",
              "      <td>5</td>\n",
              "      <td>8</td>\n",
              "      <td>2009</td>\n",
              "    </tr>\n",
              "    <tr>\n",
              "      <th>9820</th>\n",
              "      <td>7_zL7NX_rDFwhbLp98PwZg</td>\n",
              "      <td>2010-01-03</td>\n",
              "      <td>MNFvGY1zUVGQlImzqvMFQw</td>\n",
              "      <td>1</td>\n",
              "      <td>10:30pm on a Saturday night.  My friend and I ...</td>\n",
              "      <td>review</td>\n",
              "      <td>rjlb-7-JcmM6fR64ZpyTug</td>\n",
              "      <td>4</td>\n",
              "      <td>9</td>\n",
              "      <td>10</td>\n",
              "      <td>2010</td>\n",
              "    </tr>\n",
              "  </tbody>\n",
              "</table>\n",
              "<p>64 rows × 11 columns</p>\n",
              "</div>"
            ],
            "text/plain": [
              "                 business_id       date  ... funny  year\n",
              "82    d7_jkx0VPx3uHsUl18iHMQ 2009-06-16  ...     8  2009\n",
              "90    hW0Ne_HTHEAgGF1rAdmR-g 2010-07-06  ...     9  2010\n",
              "144   zp713qNhx8d9KCJJnrw1xA 2010-02-02  ...     9  2010\n",
              "163   HGOsJ1-GXCk5_8RmwKxomA 2009-06-14  ...     8  2009\n",
              "220   dSQh1Hx2BiSrYog4ad740A 2007-01-23  ...     8  2007\n",
              "...                      ...        ...  ...   ...   ...\n",
              "9287  cLojUtqkFpVIHFEvA_5Atw 2010-07-02  ...    10  2010\n",
              "9303  bzXDUQ-5Odzx5WZNoSoANg 2012-01-18  ...     8  2012\n",
              "9311  AtoMSHZ-lO7kxHRBdioMtA 2009-08-02  ...     8  2009\n",
              "9489  zmFc8M-hS4uuyY0hklIpoQ 2009-02-19  ...     8  2009\n",
              "9820  7_zL7NX_rDFwhbLp98PwZg 2010-01-03  ...    10  2010\n",
              "\n",
              "[64 rows x 11 columns]"
            ]
          },
          "metadata": {
            "tags": []
          },
          "execution_count": 23
        }
      ]
    },
    {
      "cell_type": "code",
      "metadata": {
        "id": "uf1Ao5pjl4ib",
        "colab": {
          "base_uri": "https://localhost:8080/",
          "height": 419
        },
        "outputId": "dc1cb898-950f-4832-df55-53ee52b0d376"
      },
      "source": [
        "#To be more efficient with our coding, we can use a series method, \"isin\" to\n",
        "#Look for reviews that are either funny rated as 8 or 9 or 10\n",
        "yelp[yelp.funny.isin([8,9,10])]"
      ],
      "execution_count": 24,
      "outputs": [
        {
          "output_type": "execute_result",
          "data": {
            "text/html": [
              "<div>\n",
              "<style scoped>\n",
              "    .dataframe tbody tr th:only-of-type {\n",
              "        vertical-align: middle;\n",
              "    }\n",
              "\n",
              "    .dataframe tbody tr th {\n",
              "        vertical-align: top;\n",
              "    }\n",
              "\n",
              "    .dataframe thead th {\n",
              "        text-align: right;\n",
              "    }\n",
              "</style>\n",
              "<table border=\"1\" class=\"dataframe\">\n",
              "  <thead>\n",
              "    <tr style=\"text-align: right;\">\n",
              "      <th></th>\n",
              "      <th>business_id</th>\n",
              "      <th>date</th>\n",
              "      <th>review_id</th>\n",
              "      <th>stars</th>\n",
              "      <th>text</th>\n",
              "      <th>type</th>\n",
              "      <th>user_id</th>\n",
              "      <th>cool</th>\n",
              "      <th>useful</th>\n",
              "      <th>funny</th>\n",
              "      <th>year</th>\n",
              "    </tr>\n",
              "  </thead>\n",
              "  <tbody>\n",
              "    <tr>\n",
              "      <th>82</th>\n",
              "      <td>d7_jkx0VPx3uHsUl18iHMQ</td>\n",
              "      <td>2009-06-16</td>\n",
              "      <td>xE2MKvzes5Twg-jfAe8s4Q</td>\n",
              "      <td>5</td>\n",
              "      <td>Beer...or Yoga?\\n\\nLocated in a small center j...</td>\n",
              "      <td>review</td>\n",
              "      <td>mfvezpz6ohS0NQk3DZdvqQ</td>\n",
              "      <td>11</td>\n",
              "      <td>16</td>\n",
              "      <td>8</td>\n",
              "      <td>2009</td>\n",
              "    </tr>\n",
              "    <tr>\n",
              "      <th>90</th>\n",
              "      <td>hW0Ne_HTHEAgGF1rAdmR-g</td>\n",
              "      <td>2010-07-06</td>\n",
              "      <td>6iEP6dvHIefVMMnjeDRNcQ</td>\n",
              "      <td>1</td>\n",
              "      <td>The beach paradise of Ixtapa-Zihuatenejo await...</td>\n",
              "      <td>review</td>\n",
              "      <td>8tbXmjYGsYFZXk6ppuwRWQ</td>\n",
              "      <td>7</td>\n",
              "      <td>7</td>\n",
              "      <td>9</td>\n",
              "      <td>2010</td>\n",
              "    </tr>\n",
              "    <tr>\n",
              "      <th>144</th>\n",
              "      <td>zp713qNhx8d9KCJJnrw1xA</td>\n",
              "      <td>2010-02-02</td>\n",
              "      <td>qyzPbUwY_QgqdEputNWk6g</td>\n",
              "      <td>5</td>\n",
              "      <td>Perhaps it was foolish for me to give La Conde...</td>\n",
              "      <td>review</td>\n",
              "      <td>dQO0tQISZyb9L4d5ASnXyQ</td>\n",
              "      <td>16</td>\n",
              "      <td>17</td>\n",
              "      <td>9</td>\n",
              "      <td>2010</td>\n",
              "    </tr>\n",
              "    <tr>\n",
              "      <th>163</th>\n",
              "      <td>HGOsJ1-GXCk5_8RmwKxomA</td>\n",
              "      <td>2009-06-14</td>\n",
              "      <td>RSwZ_b5xV9ovGXTX3mux_w</td>\n",
              "      <td>2</td>\n",
              "      <td>eewh! yuck and wtf!?\\n\\nThis Barnes &amp; Noble Bo...</td>\n",
              "      <td>review</td>\n",
              "      <td>nZ9XFVETN4hxdK4qPb-T3Q</td>\n",
              "      <td>4</td>\n",
              "      <td>5</td>\n",
              "      <td>8</td>\n",
              "      <td>2009</td>\n",
              "    </tr>\n",
              "    <tr>\n",
              "      <th>220</th>\n",
              "      <td>dSQh1Hx2BiSrYog4ad740A</td>\n",
              "      <td>2007-01-23</td>\n",
              "      <td>4YSQvTgbGy5DraaXM4DGRQ</td>\n",
              "      <td>4</td>\n",
              "      <td>You may think this is a cop out... writing a r...</td>\n",
              "      <td>review</td>\n",
              "      <td>DJIwm4UCnM-SOxXbARjPsQ</td>\n",
              "      <td>2</td>\n",
              "      <td>2</td>\n",
              "      <td>8</td>\n",
              "      <td>2007</td>\n",
              "    </tr>\n",
              "    <tr>\n",
              "      <th>...</th>\n",
              "      <td>...</td>\n",
              "      <td>...</td>\n",
              "      <td>...</td>\n",
              "      <td>...</td>\n",
              "      <td>...</td>\n",
              "      <td>...</td>\n",
              "      <td>...</td>\n",
              "      <td>...</td>\n",
              "      <td>...</td>\n",
              "      <td>...</td>\n",
              "      <td>...</td>\n",
              "    </tr>\n",
              "    <tr>\n",
              "      <th>9287</th>\n",
              "      <td>cLojUtqkFpVIHFEvA_5Atw</td>\n",
              "      <td>2010-07-02</td>\n",
              "      <td>BhxmTjAN9MybthTa_0hYAQ</td>\n",
              "      <td>1</td>\n",
              "      <td>I don't intend to return, but based on the way...</td>\n",
              "      <td>review</td>\n",
              "      <td>vsXP832M0kOxKpfduD7dWw</td>\n",
              "      <td>10</td>\n",
              "      <td>13</td>\n",
              "      <td>10</td>\n",
              "      <td>2010</td>\n",
              "    </tr>\n",
              "    <tr>\n",
              "      <th>9303</th>\n",
              "      <td>bzXDUQ-5Odzx5WZNoSoANg</td>\n",
              "      <td>2012-01-18</td>\n",
              "      <td>TZCONpt5xdDDJMGqavtfmA</td>\n",
              "      <td>5</td>\n",
              "      <td>When people feel a cold coming, they pop a zin...</td>\n",
              "      <td>review</td>\n",
              "      <td>m7vtKWpZ9wdEQ95wJxrMrg</td>\n",
              "      <td>10</td>\n",
              "      <td>10</td>\n",
              "      <td>8</td>\n",
              "      <td>2012</td>\n",
              "    </tr>\n",
              "    <tr>\n",
              "      <th>9311</th>\n",
              "      <td>AtoMSHZ-lO7kxHRBdioMtA</td>\n",
              "      <td>2009-08-02</td>\n",
              "      <td>xFVs_Ya2YLejW9tKgIvdbw</td>\n",
              "      <td>5</td>\n",
              "      <td>I was given a $100 gift card to use at Willow ...</td>\n",
              "      <td>review</td>\n",
              "      <td>fczQCSmaWF78toLEmb0Zsw</td>\n",
              "      <td>10</td>\n",
              "      <td>10</td>\n",
              "      <td>8</td>\n",
              "      <td>2009</td>\n",
              "    </tr>\n",
              "    <tr>\n",
              "      <th>9489</th>\n",
              "      <td>zmFc8M-hS4uuyY0hklIpoQ</td>\n",
              "      <td>2009-02-19</td>\n",
              "      <td>kWilrefFxn6DLRqyT8-uPA</td>\n",
              "      <td>5</td>\n",
              "      <td>Mmm dirty hipster bars.  Let me count the ways...</td>\n",
              "      <td>review</td>\n",
              "      <td>o33IBagNFxdJhIrRTl691Q</td>\n",
              "      <td>4</td>\n",
              "      <td>5</td>\n",
              "      <td>8</td>\n",
              "      <td>2009</td>\n",
              "    </tr>\n",
              "    <tr>\n",
              "      <th>9820</th>\n",
              "      <td>7_zL7NX_rDFwhbLp98PwZg</td>\n",
              "      <td>2010-01-03</td>\n",
              "      <td>MNFvGY1zUVGQlImzqvMFQw</td>\n",
              "      <td>1</td>\n",
              "      <td>10:30pm on a Saturday night.  My friend and I ...</td>\n",
              "      <td>review</td>\n",
              "      <td>rjlb-7-JcmM6fR64ZpyTug</td>\n",
              "      <td>4</td>\n",
              "      <td>9</td>\n",
              "      <td>10</td>\n",
              "      <td>2010</td>\n",
              "    </tr>\n",
              "  </tbody>\n",
              "</table>\n",
              "<p>64 rows × 11 columns</p>\n",
              "</div>"
            ],
            "text/plain": [
              "                 business_id       date  ... funny  year\n",
              "82    d7_jkx0VPx3uHsUl18iHMQ 2009-06-16  ...     8  2009\n",
              "90    hW0Ne_HTHEAgGF1rAdmR-g 2010-07-06  ...     9  2010\n",
              "144   zp713qNhx8d9KCJJnrw1xA 2010-02-02  ...     9  2010\n",
              "163   HGOsJ1-GXCk5_8RmwKxomA 2009-06-14  ...     8  2009\n",
              "220   dSQh1Hx2BiSrYog4ad740A 2007-01-23  ...     8  2007\n",
              "...                      ...        ...  ...   ...   ...\n",
              "9287  cLojUtqkFpVIHFEvA_5Atw 2010-07-02  ...    10  2010\n",
              "9303  bzXDUQ-5Odzx5WZNoSoANg 2012-01-18  ...     8  2012\n",
              "9311  AtoMSHZ-lO7kxHRBdioMtA 2009-08-02  ...     8  2009\n",
              "9489  zmFc8M-hS4uuyY0hklIpoQ 2009-02-19  ...     8  2009\n",
              "9820  7_zL7NX_rDFwhbLp98PwZg 2010-01-03  ...    10  2010\n",
              "\n",
              "[64 rows x 11 columns]"
            ]
          },
          "metadata": {
            "tags": []
          },
          "execution_count": 24
        }
      ]
    },
    {
      "cell_type": "code",
      "metadata": {
        "id": "Ct8mln4emqIB",
        "colab": {
          "base_uri": "https://localhost:8080/",
          "height": 419
        },
        "outputId": "e558930e-f89f-423a-f44a-1198bd780b04"
      },
      "source": [
        "#Look for reviews that have only 1 and 5 stars\n",
        "yelp[yelp.stars.isin([1,5])]"
      ],
      "execution_count": 26,
      "outputs": [
        {
          "output_type": "execute_result",
          "data": {
            "text/html": [
              "<div>\n",
              "<style scoped>\n",
              "    .dataframe tbody tr th:only-of-type {\n",
              "        vertical-align: middle;\n",
              "    }\n",
              "\n",
              "    .dataframe tbody tr th {\n",
              "        vertical-align: top;\n",
              "    }\n",
              "\n",
              "    .dataframe thead th {\n",
              "        text-align: right;\n",
              "    }\n",
              "</style>\n",
              "<table border=\"1\" class=\"dataframe\">\n",
              "  <thead>\n",
              "    <tr style=\"text-align: right;\">\n",
              "      <th></th>\n",
              "      <th>business_id</th>\n",
              "      <th>date</th>\n",
              "      <th>review_id</th>\n",
              "      <th>stars</th>\n",
              "      <th>text</th>\n",
              "      <th>type</th>\n",
              "      <th>user_id</th>\n",
              "      <th>cool</th>\n",
              "      <th>useful</th>\n",
              "      <th>funny</th>\n",
              "      <th>year</th>\n",
              "    </tr>\n",
              "  </thead>\n",
              "  <tbody>\n",
              "    <tr>\n",
              "      <th>0</th>\n",
              "      <td>9yKzy9PApeiPPOUJEtnvkg</td>\n",
              "      <td>2011-01-26</td>\n",
              "      <td>fWKvX83p0-ka4JS3dc6E5A</td>\n",
              "      <td>5</td>\n",
              "      <td>My wife took me here on my birthday for breakf...</td>\n",
              "      <td>review</td>\n",
              "      <td>rLtl8ZkDX5vH5nAx9C3q5Q</td>\n",
              "      <td>2</td>\n",
              "      <td>5</td>\n",
              "      <td>0</td>\n",
              "      <td>2011</td>\n",
              "    </tr>\n",
              "    <tr>\n",
              "      <th>1</th>\n",
              "      <td>ZRJwVLyzEJq1VAihDhYiow</td>\n",
              "      <td>2011-07-27</td>\n",
              "      <td>IjZ33sJrzXqU-0X6U8NwyA</td>\n",
              "      <td>5</td>\n",
              "      <td>I have no idea why some people give bad review...</td>\n",
              "      <td>review</td>\n",
              "      <td>0a2KyEL0d3Yb1V6aivbIuQ</td>\n",
              "      <td>0</td>\n",
              "      <td>0</td>\n",
              "      <td>0</td>\n",
              "      <td>2011</td>\n",
              "    </tr>\n",
              "    <tr>\n",
              "      <th>3</th>\n",
              "      <td>_1QQZuf4zZOyFCvXc0o6Vg</td>\n",
              "      <td>2010-05-27</td>\n",
              "      <td>G-WvGaISbqqaMHlNnByodA</td>\n",
              "      <td>5</td>\n",
              "      <td>Rosie, Dakota, and I LOVE Chaparral Dog Park!!...</td>\n",
              "      <td>review</td>\n",
              "      <td>uZetl9T0NcROGOyFfughhg</td>\n",
              "      <td>1</td>\n",
              "      <td>2</td>\n",
              "      <td>0</td>\n",
              "      <td>2010</td>\n",
              "    </tr>\n",
              "    <tr>\n",
              "      <th>4</th>\n",
              "      <td>6ozycU1RpktNG2-1BroVtw</td>\n",
              "      <td>2012-01-05</td>\n",
              "      <td>1uJFq2r5QfJG_6ExMRCaGw</td>\n",
              "      <td>5</td>\n",
              "      <td>General Manager Scott Petello is a good egg!!!...</td>\n",
              "      <td>review</td>\n",
              "      <td>vYmM4KTsC8ZfQBg-j5MWkw</td>\n",
              "      <td>0</td>\n",
              "      <td>0</td>\n",
              "      <td>0</td>\n",
              "      <td>2012</td>\n",
              "    </tr>\n",
              "    <tr>\n",
              "      <th>6</th>\n",
              "      <td>zp713qNhx8d9KCJJnrw1xA</td>\n",
              "      <td>2010-02-12</td>\n",
              "      <td>riFQ3vxNpP4rWLk_CSri2A</td>\n",
              "      <td>5</td>\n",
              "      <td>Drop what you're doing and drive here. After I...</td>\n",
              "      <td>review</td>\n",
              "      <td>wFweIWhv2fREZV_dYkz_1g</td>\n",
              "      <td>7</td>\n",
              "      <td>7</td>\n",
              "      <td>4</td>\n",
              "      <td>2010</td>\n",
              "    </tr>\n",
              "    <tr>\n",
              "      <th>...</th>\n",
              "      <td>...</td>\n",
              "      <td>...</td>\n",
              "      <td>...</td>\n",
              "      <td>...</td>\n",
              "      <td>...</td>\n",
              "      <td>...</td>\n",
              "      <td>...</td>\n",
              "      <td>...</td>\n",
              "      <td>...</td>\n",
              "      <td>...</td>\n",
              "      <td>...</td>\n",
              "    </tr>\n",
              "    <tr>\n",
              "      <th>9990</th>\n",
              "      <td>R8VwdLyvsp9iybNqRvm94g</td>\n",
              "      <td>2011-10-03</td>\n",
              "      <td>pcEeHdAJPoFNF23es0kKWg</td>\n",
              "      <td>5</td>\n",
              "      <td>Yes I do rock the hipster joints.  I dig this ...</td>\n",
              "      <td>review</td>\n",
              "      <td>b92Y3tyWTQQZ5FLifex62Q</td>\n",
              "      <td>1</td>\n",
              "      <td>1</td>\n",
              "      <td>1</td>\n",
              "      <td>2011</td>\n",
              "    </tr>\n",
              "    <tr>\n",
              "      <th>9991</th>\n",
              "      <td>WJ5mq4EiWYAA4Vif0xDfdg</td>\n",
              "      <td>2011-12-05</td>\n",
              "      <td>EuHX-39FR7tyyG1ElvN1Jw</td>\n",
              "      <td>5</td>\n",
              "      <td>Only 4 stars? \\n\\n(A few notes: The folks that...</td>\n",
              "      <td>review</td>\n",
              "      <td>hTau-iNZFwoNsPCaiIUTEA</td>\n",
              "      <td>1</td>\n",
              "      <td>1</td>\n",
              "      <td>0</td>\n",
              "      <td>2011</td>\n",
              "    </tr>\n",
              "    <tr>\n",
              "      <th>9992</th>\n",
              "      <td>f96lWMIAUhYIYy9gOktivQ</td>\n",
              "      <td>2009-03-10</td>\n",
              "      <td>YF17z7HWlMj6aezZc-pVEw</td>\n",
              "      <td>5</td>\n",
              "      <td>I'm not normally one to jump at reviewing a ch...</td>\n",
              "      <td>review</td>\n",
              "      <td>W_QXYA7A0IhMrvbckz7eVg</td>\n",
              "      <td>2</td>\n",
              "      <td>3</td>\n",
              "      <td>2</td>\n",
              "      <td>2009</td>\n",
              "    </tr>\n",
              "    <tr>\n",
              "      <th>9994</th>\n",
              "      <td>L3BSpFvxcNf3T_teitgt6A</td>\n",
              "      <td>2012-03-19</td>\n",
              "      <td>0nxb1gIGFgk3WbC5zwhKZg</td>\n",
              "      <td>5</td>\n",
              "      <td>Let's see...what is there NOT to like about Su...</td>\n",
              "      <td>review</td>\n",
              "      <td>OzOZv-Knlw3oz9K5Kh5S6A</td>\n",
              "      <td>1</td>\n",
              "      <td>2</td>\n",
              "      <td>1</td>\n",
              "      <td>2012</td>\n",
              "    </tr>\n",
              "    <tr>\n",
              "      <th>9999</th>\n",
              "      <td>pF7uRzygyZsltbmVpjIyvw</td>\n",
              "      <td>2010-10-16</td>\n",
              "      <td>vWSmOhg2ID1MNZHaWapGbA</td>\n",
              "      <td>5</td>\n",
              "      <td>4-5 locations.. all 4.5 star average.. I think...</td>\n",
              "      <td>review</td>\n",
              "      <td>KSBFytcdjPKZgXKQnYQdkA</td>\n",
              "      <td>0</td>\n",
              "      <td>0</td>\n",
              "      <td>0</td>\n",
              "      <td>2010</td>\n",
              "    </tr>\n",
              "  </tbody>\n",
              "</table>\n",
              "<p>4086 rows × 11 columns</p>\n",
              "</div>"
            ],
            "text/plain": [
              "                 business_id       date  ... funny  year\n",
              "0     9yKzy9PApeiPPOUJEtnvkg 2011-01-26  ...     0  2011\n",
              "1     ZRJwVLyzEJq1VAihDhYiow 2011-07-27  ...     0  2011\n",
              "3     _1QQZuf4zZOyFCvXc0o6Vg 2010-05-27  ...     0  2010\n",
              "4     6ozycU1RpktNG2-1BroVtw 2012-01-05  ...     0  2012\n",
              "6     zp713qNhx8d9KCJJnrw1xA 2010-02-12  ...     4  2010\n",
              "...                      ...        ...  ...   ...   ...\n",
              "9990  R8VwdLyvsp9iybNqRvm94g 2011-10-03  ...     1  2011\n",
              "9991  WJ5mq4EiWYAA4Vif0xDfdg 2011-12-05  ...     0  2011\n",
              "9992  f96lWMIAUhYIYy9gOktivQ 2009-03-10  ...     2  2009\n",
              "9994  L3BSpFvxcNf3T_teitgt6A 2012-03-19  ...     1  2012\n",
              "9999  pF7uRzygyZsltbmVpjIyvw 2010-10-16  ...     0  2010\n",
              "\n",
              "[4086 rows x 11 columns]"
            ]
          },
          "metadata": {
            "tags": []
          },
          "execution_count": 26
        }
      ]
    },
    {
      "cell_type": "markdown",
      "metadata": {
        "id": "N6jz0EDXcRks"
      },
      "source": [
        "# **Task 2**\n",
        " \n",
        "Create a new DataFrame that only contains the **5-star** and **1-star** reviews."
      ]
    },
    {
      "cell_type": "code",
      "metadata": {
        "id": "pMqxAxP7cjrl"
      },
      "source": [
        "#Filter the DataFrame using an OR condition\n",
        "yelp_best_worst = yelp[(yelp.stars== 5)|(yelp.stars ==1)]"
      ],
      "execution_count": 28,
      "outputs": []
    },
    {
      "cell_type": "code",
      "metadata": {
        "id": "hRw28TE-o0k_"
      },
      "source": [
        "# alternatively, use the 'loc' accessor to accomplish the same thing\n",
        "yelp_best_worst2 = yelp.loc[(yelp.stars== 5)|(yelp.stars ==1), :]"
      ],
      "execution_count": 39,
      "outputs": []
    },
    {
      "cell_type": "code",
      "metadata": {
        "id": "iOFdYBO8o_EB",
        "colab": {
          "base_uri": "https://localhost:8080/"
        },
        "outputId": "ad605fb6-1c9f-4fdf-fb3f-fecfae751f79"
      },
      "source": [
        "# examine the shape\n",
        "yelp_best_worst.shape\n",
        "yelp_best_worst2.shape"
      ],
      "execution_count": 40,
      "outputs": [
        {
          "output_type": "execute_result",
          "data": {
            "text/plain": [
              "(4086, 11)"
            ]
          },
          "metadata": {
            "tags": []
          },
          "execution_count": 40
        }
      ]
    },
    {
      "cell_type": "markdown",
      "metadata": {
        "id": "HQkvINWypDPJ"
      },
      "source": [
        "# **Task 3**\n",
        "\n",
        "Define X and y from the new DataFrame, and then split X and y into training and testing sets, using the **review text** as the only feature and the **star rating** as the response.\n",
        "\n",
        "**Hint:** Keep in mind that X should be a Pandas Series (not a DataFrame), since we will pass it to CountVectorizer in the **task**."
      ]
    },
    {
      "cell_type": "code",
      "metadata": {
        "id": "O-EPCZAqpWXK"
      },
      "source": [
        "# define X and y\n",
        "X = yelp_best_worst.text\n",
        "y = yelp_best_worst.stars"
      ],
      "execution_count": 33,
      "outputs": []
    },
    {
      "cell_type": "code",
      "metadata": {
        "id": "Zl3nwDIipste"
      },
      "source": [
        "# split X and y into training and testing sets\n",
        "from sklearn.model_selection import train_test_split\n",
        "X_train, X_test, y_train, y_test = train_test_split(X,y,random_state = 1)"
      ],
      "execution_count": 34,
      "outputs": []
    },
    {
      "cell_type": "code",
      "metadata": {
        "id": "cSQwkDUXpygz",
        "colab": {
          "base_uri": "https://localhost:8080/"
        },
        "outputId": "3de9b562-affc-4abc-92bd-f6f9afbafd02"
      },
      "source": [
        "# examine the object shapes\n",
        "print(X_train.shape)\n",
        "print(X_test.shape)\n",
        "print(y_train.shape)\n",
        "print(y_test.shape)"
      ],
      "execution_count": 35,
      "outputs": [
        {
          "output_type": "stream",
          "text": [
            "(3064,)\n",
            "(1022,)\n",
            "(3064,)\n",
            "(1022,)\n"
          ],
          "name": "stdout"
        }
      ]
    },
    {
      "cell_type": "markdown",
      "metadata": {
        "id": "AsLaDXwUp9_1"
      },
      "source": [
        "# **Task 4**\n",
        "\n",
        "Use CountVectorizer to create **document-term matrices** from X_train and X_test."
      ]
    },
    {
      "cell_type": "code",
      "metadata": {
        "id": "QwegMH3PqI2B"
      },
      "source": [
        "# import and instantiate CountVectorizer\n",
        "from sklearn.feature_extraction.text import CountVectorizer\n",
        "vect = CountVectorizer()"
      ],
      "execution_count": 36,
      "outputs": []
    },
    {
      "cell_type": "code",
      "metadata": {
        "id": "i5nAm2JOrHh7",
        "colab": {
          "base_uri": "https://localhost:8080/"
        },
        "outputId": "6494fb13-0bfc-4bd9-f800-051884e8b34e"
      },
      "source": [
        "# fit and transform X_train into X_train_dtm\n",
        "X_train_dtm = vect.fit_transform(X_train)\n",
        "X_train_dtm.shape"
      ],
      "execution_count": 37,
      "outputs": [
        {
          "output_type": "execute_result",
          "data": {
            "text/plain": [
              "(3064, 16825)"
            ]
          },
          "metadata": {
            "tags": []
          },
          "execution_count": 37
        }
      ]
    },
    {
      "cell_type": "code",
      "metadata": {
        "id": "Ezo60SwprLwP",
        "colab": {
          "base_uri": "https://localhost:8080/"
        },
        "outputId": "740d0404-e9cb-4cea-ac12-0ddb08ca9d57"
      },
      "source": [
        "# transform X_test into X_test_dtm\n",
        "X_test_dtm = vect.transform(X_test)\n",
        "X_test_dtm.shape"
      ],
      "execution_count": 38,
      "outputs": [
        {
          "output_type": "execute_result",
          "data": {
            "text/plain": [
              "(1022, 16825)"
            ]
          },
          "metadata": {
            "tags": []
          },
          "execution_count": 38
        }
      ]
    },
    {
      "cell_type": "markdown",
      "metadata": {
        "id": "XQpbzAyRGUCK"
      },
      "source": [
        "# **Task 5**\n",
        "\n",
        "Use Multinomial Naive Bayes to **predict the star rating** for the reviews in the testing set, and then **calculate the accuracy**"
      ]
    },
    {
      "cell_type": "code",
      "metadata": {
        "id": "6p102Sj0GlI5"
      },
      "source": [
        "# import and instantiate MultinomialNB\n",
        "from sklearn.naive_bayes import MultinomialNB\n"
      ],
      "execution_count": null,
      "outputs": []
    },
    {
      "cell_type": "code",
      "metadata": {
        "id": "KiWHQtJvGruE"
      },
      "source": [
        "# train the model using X_train_dtm\n"
      ],
      "execution_count": null,
      "outputs": []
    },
    {
      "cell_type": "code",
      "metadata": {
        "id": "FoZnEWI4Gv3S"
      },
      "source": [
        "# make class predictions for X_test_dtm\n"
      ],
      "execution_count": null,
      "outputs": []
    },
    {
      "cell_type": "markdown",
      "metadata": {
        "id": "zFPrbBFDWXp5"
      },
      "source": [
        "From [Scikit-learn documentation](https://scikit-learn.org/stable/modules/generated/sklearn.metrics.accuracy_score.html#sklearn.metrics.accuracy_score):\n",
        "\n",
        "> The **accuracy score** function computes the accuracy, the **fraction of correct predictions**."
      ]
    },
    {
      "cell_type": "code",
      "metadata": {
        "id": "U5cFcTjnGz2q"
      },
      "source": [
        "\n",
        "# calculate accuracy score of class predictions\n",
        "from sklearn import metrics\n"
      ],
      "execution_count": null,
      "outputs": []
    }
  ]
}