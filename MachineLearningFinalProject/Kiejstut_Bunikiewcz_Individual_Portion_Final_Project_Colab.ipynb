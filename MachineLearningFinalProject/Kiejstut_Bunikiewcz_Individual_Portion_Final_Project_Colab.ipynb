{
  "nbformat": 4,
  "nbformat_minor": 0,
  "metadata": {
    "colab": {
      "name": "Kiejstut_Bunikiewcz_Individual_Portion_Final_Project_Colab.ipynb",
      "provenance": [],
      "collapsed_sections": []
    },
    "kernelspec": {
      "display_name": "Python 3",
      "name": "python3"
    },
    "language_info": {
      "name": "python"
    }
  },
  "cells": [
    {
      "cell_type": "markdown",
      "metadata": {
        "id": "AjlRC_uog4Cl"
      },
      "source": [
        "#Individual Portion Final Project: Climate Change Prediction\n",
        "Kiejstut Bunikiewicz"
      ]
    },
    {
      "cell_type": "markdown",
      "metadata": {
        "id": "7r4ejblnuhNb"
      },
      "source": [
        "The Package Importing and Data Reading and Cleaning Sections are from the Group Project Colab\n",
        "\n",
        "The Gradient Boosting Model Development is My Individual Work"
      ]
    },
    {
      "cell_type": "markdown",
      "metadata": {
        "id": "OiosIoh5hGe1"
      },
      "source": [
        "#Importing Packages"
      ]
    },
    {
      "cell_type": "code",
      "metadata": {
        "id": "04D86F1yAtNX"
      },
      "source": [
        "import pandas as pd\n",
        "import numpy as np\n",
        "import numpy as np\n",
        "import matplotlib.pyplot as plt\n",
        "from sklearn.inspection import permutation_importance\n",
        "from sklearn.preprocessing import StandardScaler\n",
        "from sklearn.model_selection import train_test_split\n",
        "from sklearn.pipeline import make_pipeline\n",
        "from sklearn.ensemble import GradientBoostingRegressor\n",
        "from sklearn.decomposition import PCA\n",
        "from sklearn.metrics import mean_squared_error\n",
        "from sklearn.metrics import classification_report\n",
        "from sklearn.ensemble import GradientBoostingClassifier\n",
        "from sklearn.ensemble import GradientBoostingRegressor\n",
        "import matplotlib.pyplot as plt\n",
        "import numpy as np\n",
        "from sklearn.inspection import permutation_importance\n",
        "from sklearn.metrics import mean_squared_error\n",
        "from sklearn.model_selection import train_test_split\n",
        "from sklearn.metrics import roc_auc_score\n",
        "from sklearn.metrics import accuracy_score"
      ],
      "execution_count": 125,
      "outputs": []
    },
    {
      "cell_type": "markdown",
      "metadata": {
        "id": "LmE8RG-3hCI2"
      },
      "source": [
        "#Reading Data\n",
        "\n",
        "#### Data Dictionary\n",
        "Coal_Cons: 10 year average Coal consumption in ExaJoules growth rate %\n",
        "\n",
        "Coal_Prod: 10 year average Coal Production in ExaJoules growth rate %\n",
        "\n",
        "Nuke_Cons: 10 year average Nuclear consumption in Terawatt-Hours growth rate %\n",
        "\n",
        "Nuke_Prod: 10 year average Nuclear production in Terawatt-Hours growth rate %\n",
        "\n",
        "Natgas_Cons:  10 year average Natgas consumption in ExaJoules growth rate %\n",
        "\n",
        "Natgas_Prod:10 year average Natgas production in ExaJoules growth rate %\n",
        "\n",
        "Hydro_Cons: 10 year average Hydro consumption in Terawatt-Hours growth rate %\n",
        "\n",
        "Hydro_Prod: 10 year average Hydro production in Terawatt-Hours growth rate %\n",
        "\n",
        "Oil_Cons: 10 year average Oil consumption in 1000s daily barrels growth rate %\n",
        "\n",
        "Oil_Prod: 10 year average Oil production in 1000s daily barrels growth rate %\n",
        "\n",
        "Sol_Cons: 10 year average Solar consumption in Terawatt-Hours growth rate %\n",
        "\n",
        "Sol_Prod: 10 year average Solar Production in Terawatt-Hours growth rate %\n",
        "\n",
        "Wind_Cons: 10 year average Wind consumption in Terawatt-Hours growth rate %\n",
        "\n",
        "Wind_Prod: 10 year average Wind Production in Terawatt-Hours growth rate %\n",
        "\n",
        "Co2: 10 year average millions of tons of Co2 Emissions growth rate %\n",
        "\n",
        "GDP: 10 Year average gdp growth rate\n"
      ]
    },
    {
      "cell_type": "code",
      "metadata": {
        "id": "nTYLV_9EBEk_"
      },
      "source": [
        "coal_cons = pd.read_csv('https://raw.githubusercontent.com/koamahuna/ML_Final_Data/main/Coal_Consumption_EJ.csv')\n",
        "coal_prod = pd.read_csv('https://raw.githubusercontent.com/koamahuna/ML_Final_Data/main/Coal_Production_EJ.csv')\n",
        "\n",
        "nuke_cons = pd.read_csv('https://raw.githubusercontent.com/koamahuna/ML_Final_Data/main/Nuclear_Consumption_Exa.csv', encoding = 'unicode_escape')\n",
        "nuke_prod = pd.read_csv('https://raw.githubusercontent.com/koamahuna/ML_Final_Data/main/Nuclear_Production_Exa.csv', encoding = 'unicode_escape')\n",
        "\n",
        "natgas_cons = pd.read_csv('https://raw.githubusercontent.com/koamahuna/ML_Final_Data/main/Natural_Gas_Consumption_Exa.csv',encoding = 'unicode_escape')\n",
        "natgas_prod = pd.read_csv('https://raw.githubusercontent.com/koamahuna/ML_Final_Data/main/Natural_Gas__Production_Exa.csv',encoding = 'unicode_escape')\n",
        "\n",
        "hydro_cons = pd.read_csv('https://raw.githubusercontent.com/koamahuna/ML_Final_Data/main/Hydro_Consumption_Exa.csv')\n",
        "hydro_prod = pd.read_csv('https://raw.githubusercontent.com/koamahuna/ML_Final_Data/main/Hydro_Production_Exa.csv')\n",
        "\n",
        "oil_cons = pd.read_csv('https://raw.githubusercontent.com/koamahuna/ML_Final_Data/main/Oil_Consumption_Barrels_Daily.csv')\n",
        "oil_prod = pd.read_csv('https://raw.githubusercontent.com/koamahuna/ML_Final_Data/main/Oil_Prod_barrels_daily.csv')\n",
        "\n",
        "sol_cons = pd.read_csv('https://raw.githubusercontent.com/koamahuna/ML_Final_Data/main/Solar_Consumption_Exa.csv', encoding = 'unicode_escape')\n",
        "sol_prod = pd.read_csv('https://raw.githubusercontent.com/koamahuna/ML_Final_Data/main/Solar_Production_Exa.csv', encoding = 'unicode_escape')\n",
        "\n",
        "wind_cons = pd.read_csv('https://raw.githubusercontent.com/koamahuna/ML_Final_Data/main/Wind_Consumption_Exa.csv', encoding = 'unicode_escape')\n",
        "wind_prod = pd.read_csv('https://raw.githubusercontent.com/koamahuna/ML_Final_Data/main/Wind_Production_Exa.csv', encoding = 'unicode_escape')\n",
        "\n",
        "co2 = pd.read_csv('https://raw.githubusercontent.com/koamahuna/ML_Final_Data/main/CO2_Emissions.csv')\n",
        "\n",
        "gdp = pd.read_csv('https://raw.githubusercontent.com/koamahuna/ML_Final_Data/main/GDP_Growth_Rate.csv')\n",
        "\n",
        "pop = pd.read_csv('https://raw.githubusercontent.com/koamahuna/ML_Final_Data/main/Population_Growth_Rate.csv')\n",
        "\n",
        "warming = pd.read_excel('https://raw.githubusercontent.com/koamahuna/ML_Final_Data/main/Warming_data%20(3).xlsx')\n",
        "\n",
        "elevation = pd.read_excel('https://raw.githubusercontent.com/koamahuna/ML_Final_Data/main/Elevation_by_country%20(1).xlsx')"
      ],
      "execution_count": 126,
      "outputs": []
    },
    {
      "cell_type": "code",
      "metadata": {
        "id": "6KJeHCBSgpam"
      },
      "source": [
        "# Manually Reading in the Three Datasets\n",
        "new_data = pd.read_csv('https://raw.githubusercontent.com/koamahuna/ML_Final_Data/main/countries_of_the_world.csv')\n",
        "emissions = pd.read_csv('https://raw.githubusercontent.com/koamahuna/ML_Final_Data/main/PERCAP.csv')"
      ],
      "execution_count": 127,
      "outputs": []
    },
    {
      "cell_type": "code",
      "metadata": {
        "id": "H0oZdK-LSuBX"
      },
      "source": [
        "coal_prod.rename(columns={'Exajoules':'Country'}, inplace=True)\n",
        "coal_prod.set_index('Country', inplace=True)\n",
        "coal_prod = coal_prod['2008-18']\n",
        "\n",
        "coal_cons.rename(columns={'Exajoules':'Country'}, inplace=True)\n",
        "coal_cons.set_index('Country', inplace=True)\n",
        "coal_cons = coal_cons['2008-18']"
      ],
      "execution_count": 128,
      "outputs": []
    },
    {
      "cell_type": "code",
      "metadata": {
        "id": "3UuNwUqcVyEa"
      },
      "source": [
        "nuke_prod.rename(columns={'Terawatt-hours':'Country'}, inplace=True)\n",
        "nuke_prod.set_index('Country', inplace=True)\n",
        "nuke_prod = nuke_prod['2008-18']\n",
        "\n",
        "nuke_cons.rename(columns={'Exajoules (input-equivalent)':'Country'}, inplace=True)\n",
        "nuke_cons.set_index('Country', inplace=True)\n",
        "nuke_cons = nuke_cons['2008-18']"
      ],
      "execution_count": 129,
      "outputs": []
    },
    {
      "cell_type": "code",
      "metadata": {
        "id": "O9gM5Cg_gGMw"
      },
      "source": [
        "natgas_cons.rename(columns={'Exajoules':'Country'}, inplace=True)\n",
        "natgas_cons.set_index('Country', inplace=True)\n",
        "natgas_cons = natgas_cons['2008-18']\n",
        "\n",
        "natgas_prod.rename(columns={'Exajoules':'Country'}, inplace=True)\n",
        "natgas_prod.set_index('Country', inplace=True)\n",
        "natgas_prod = natgas_prod['2008-18']"
      ],
      "execution_count": 130,
      "outputs": []
    },
    {
      "cell_type": "code",
      "metadata": {
        "id": "KZtRFdp1gxsp"
      },
      "source": [
        "hydro_cons.rename(columns={'Exajoules':'Country'}, inplace=True)\n",
        "hydro_cons.set_index('Country', inplace=True)\n",
        "hydro_cons = hydro_cons['2008-18']\n",
        "\n",
        "hydro_prod.rename(columns={'Terawatt-hours':'Country'}, inplace=True)\n",
        "hydro_prod.set_index('Country', inplace=True)\n",
        "hydro_prod = hydro_prod['2008-18']"
      ],
      "execution_count": 131,
      "outputs": []
    },
    {
      "cell_type": "code",
      "metadata": {
        "id": "cIz_jyaGh8t3"
      },
      "source": [
        "oil_cons.rename(columns={'Thousand barrels daily':'Country'}, inplace=True)\n",
        "oil_cons.set_index('Country', inplace=True)\n",
        "oil_cons = oil_cons['2008-18']\n",
        "\n",
        "oil_prod.rename(columns={'Thousand barrels daily':'Country'}, inplace=True)\n",
        "oil_prod.set_index('Country', inplace=True)\n",
        "oil_prod = oil_prod['2008-18']"
      ],
      "execution_count": 132,
      "outputs": []
    },
    {
      "cell_type": "code",
      "metadata": {
        "id": "R9mwFfb0iWRq"
      },
      "source": [
        "sol_cons.rename(columns={'Exajoules (input-equivalent)':'Country'}, inplace=True)\n",
        "sol_cons.set_index('Country', inplace=True)\n",
        "sol_cons = sol_cons['2008-18']\n",
        "\n",
        "sol_prod.rename(columns={'Terawatt-hours':'Country'}, inplace=True)\n",
        "sol_prod.set_index('Country', inplace=True)\n",
        "sol_prod = sol_prod['2008-18']"
      ],
      "execution_count": 133,
      "outputs": []
    },
    {
      "cell_type": "code",
      "metadata": {
        "id": "SN8MX6F9jTu0"
      },
      "source": [
        "wind_cons.rename(columns={'Exajoules (input-equivalent)':'Country'}, inplace=True)\n",
        "wind_cons.set_index('Country', inplace=True)\n",
        "wind_cons = wind_cons['2008-18']\n",
        "\n",
        "wind_prod.rename(columns={'Terawatt-hours':'Country'}, inplace=True)\n",
        "wind_prod.set_index('Country', inplace=True)\n",
        "wind_prod = wind_prod['2008-18']"
      ],
      "execution_count": 134,
      "outputs": []
    },
    {
      "cell_type": "code",
      "metadata": {
        "id": "LzvHYqKwtPgC"
      },
      "source": [
        "co2.rename(columns={'Million tonnes of carbon dioxide':'Country'}, inplace=True)\n",
        "co2.set_index('Country', inplace=True)\n",
        "co2 = co2['2008-18']"
      ],
      "execution_count": 135,
      "outputs": []
    },
    {
      "cell_type": "code",
      "metadata": {
        "id": "LaWVA-4_vK2f"
      },
      "source": [
        "gdp.rename(columns={'Country Name':'Country'}, inplace=True)\n",
        "gdp.set_index('Country', inplace=True)\n",
        "gdp['gdp'] = gdp.mean(axis=1)\n",
        "gdp = gdp['gdp']"
      ],
      "execution_count": 136,
      "outputs": []
    },
    {
      "cell_type": "code",
      "metadata": {
        "id": "Zmx0x39Lv1ak"
      },
      "source": [
        "pop.rename(columns={'Country Name':'Country'}, inplace=True)\n",
        "pop.set_index('Country', inplace=True)\n",
        "pop['pop'] = pop.mean(axis=1)\n",
        "pop = pop['pop']"
      ],
      "execution_count": 137,
      "outputs": []
    },
    {
      "cell_type": "code",
      "metadata": {
        "id": "weNZNKyFecHB"
      },
      "source": [
        "elevation['Country'] = elevation['Country'].str.lstrip()\n",
        "elevation.set_index('Country', inplace=True)\n",
        "elevation = elevation['Average Elevation (meters)'].str.strip()"
      ],
      "execution_count": 138,
      "outputs": []
    },
    {
      "cell_type": "code",
      "metadata": {
        "id": "r7B263M-vdi-"
      },
      "source": [
        "elevation = elevation.astype('float')"
      ],
      "execution_count": 139,
      "outputs": []
    },
    {
      "cell_type": "code",
      "metadata": {
        "id": "PQ4wpcDMRgU7"
      },
      "source": [
        "warming = pd.read_excel('https://raw.githubusercontent.com/koamahuna/ML_Final_Data/main/Warming_data%20(3).xlsx')"
      ],
      "execution_count": 140,
      "outputs": []
    },
    {
      "cell_type": "code",
      "metadata": {
        "id": "fmbbMCSywR7k"
      },
      "source": [
        "warming.set_index('Country', inplace=True)\n",
        "warming = warming['Temperature clean']/58"
      ],
      "execution_count": 141,
      "outputs": []
    },
    {
      "cell_type": "code",
      "metadata": {
        "id": "ar15IVLXhVqU"
      },
      "source": [
        "index_list = ['Coal Production', \n",
        "              'Coal Consumption', \n",
        "              'Nuclear Production', \n",
        "              'Nuclear Consumption', \n",
        "              'Natural Gas Production', \n",
        "              'Natural Gas Consumption', \n",
        "              'Hydroelectric Production', \n",
        "              'Hydroelectric Consumption', \n",
        "              'Oil Production', \n",
        "              'Oil Consumption', \n",
        "              'Solar Production', \n",
        "              'Solar Consumption', \n",
        "              'Wind Production', \n",
        "              'Wind Consumption',\n",
        "              'Carbon Dioxide Emissions',\n",
        "              'GDP Growth Rate',\n",
        "              'Population Growth Rate',\n",
        "              'Elevation',\n",
        "              'Annual Warming Rate']"
      ],
      "execution_count": 142,
      "outputs": []
    },
    {
      "cell_type": "code",
      "metadata": {
        "id": "Pw9pBtCyVYvd"
      },
      "source": [
        "energy_df = pd.DataFrame([coal_prod, coal_cons, nuke_prod, nuke_cons, natgas_prod, natgas_cons, hydro_prod, hydro_cons, oil_prod, oil_cons, sol_prod, sol_cons, wind_prod, wind_cons, co2, gdp, pop, elevation, warming], index=index_list).replace('?', np.nan).T"
      ],
      "execution_count": 143,
      "outputs": []
    },
    {
      "cell_type": "code",
      "metadata": {
        "colab": {
          "base_uri": "https://localhost:8080/"
        },
        "id": "12wVbxq0QC0_",
        "outputId": "b0bc3e41-94f3-4924-cb38-35b962e5d37a"
      },
      "source": [
        "energy_df.info()"
      ],
      "execution_count": 144,
      "outputs": [
        {
          "output_type": "stream",
          "text": [
            "<class 'pandas.core.frame.DataFrame'>\n",
            "Index: 350 entries, Canada to Virgin Islands\n",
            "Data columns (total 19 columns):\n",
            " #   Column                     Non-Null Count  Dtype \n",
            "---  ------                     --------------  ----- \n",
            " 0   Coal Production            46 non-null     object\n",
            " 1   Coal Consumption           91 non-null     object\n",
            " 2   Nuclear Production         36 non-null     object\n",
            " 3   Nuclear Consumption        36 non-null     object\n",
            " 4   Natural Gas Production     61 non-null     object\n",
            " 5   Natural Gas Consumption    93 non-null     object\n",
            " 6   Hydroelectric Production   87 non-null     object\n",
            " 7   Hydroelectric Consumption  86 non-null     object\n",
            " 8   Oil Production             60 non-null     object\n",
            " 9   Oil Consumption            97 non-null     object\n",
            " 10  Solar Production           63 non-null     object\n",
            " 11  Solar Consumption          63 non-null     object\n",
            " 12  Wind Production            78 non-null     object\n",
            " 13  Wind Consumption           78 non-null     object\n",
            " 14  Carbon Dioxide Emissions   97 non-null     object\n",
            " 15  GDP Growth Rate            253 non-null    object\n",
            " 16  Population Growth Rate     263 non-null    object\n",
            " 17  Elevation                  159 non-null    object\n",
            " 18  Annual Warming Rate        237 non-null    object\n",
            "dtypes: object(19)\n",
            "memory usage: 54.7+ KB\n"
          ],
          "name": "stdout"
        }
      ]
    },
    {
      "cell_type": "code",
      "metadata": {
        "id": "5_2371sJRGDb"
      },
      "source": [
        "convert_cols = ['Coal Production', 'Coal Consumption', 'Nuclear Production',\n",
        "       'Nuclear Consumption', 'Natural Gas Production',\n",
        "       'Natural Gas Consumption', 'Hydroelectric Production',\n",
        "       'Hydroelectric Consumption', 'Oil Production', 'Oil Consumption',\n",
        "       'Solar Production', 'Solar Consumption', 'Wind Production',\n",
        "       'Wind Consumption', 'Carbon Dioxide Emissions']\n",
        "\n",
        "for i in convert_cols:\n",
        "  energy_df[i] = energy_df[i].str.replace(r'%', '').astype('float')"
      ],
      "execution_count": 145,
      "outputs": []
    },
    {
      "cell_type": "code",
      "metadata": {
        "colab": {
          "base_uri": "https://localhost:8080/"
        },
        "id": "klWMFwLnRIot",
        "outputId": "f8b17a8a-4817-4305-87dc-a46bcbccdd8a"
      },
      "source": [
        "energy_df.info()"
      ],
      "execution_count": 146,
      "outputs": [
        {
          "output_type": "stream",
          "text": [
            "<class 'pandas.core.frame.DataFrame'>\n",
            "Index: 350 entries, Canada to Virgin Islands\n",
            "Data columns (total 19 columns):\n",
            " #   Column                     Non-Null Count  Dtype  \n",
            "---  ------                     --------------  -----  \n",
            " 0   Coal Production            46 non-null     float64\n",
            " 1   Coal Consumption           91 non-null     float64\n",
            " 2   Nuclear Production         36 non-null     float64\n",
            " 3   Nuclear Consumption        36 non-null     float64\n",
            " 4   Natural Gas Production     61 non-null     float64\n",
            " 5   Natural Gas Consumption    93 non-null     float64\n",
            " 6   Hydroelectric Production   87 non-null     float64\n",
            " 7   Hydroelectric Consumption  86 non-null     float64\n",
            " 8   Oil Production             60 non-null     float64\n",
            " 9   Oil Consumption            97 non-null     float64\n",
            " 10  Solar Production           63 non-null     float64\n",
            " 11  Solar Consumption          63 non-null     float64\n",
            " 12  Wind Production            78 non-null     float64\n",
            " 13  Wind Consumption           78 non-null     float64\n",
            " 14  Carbon Dioxide Emissions   97 non-null     float64\n",
            " 15  GDP Growth Rate            253 non-null    object \n",
            " 16  Population Growth Rate     263 non-null    object \n",
            " 17  Elevation                  159 non-null    object \n",
            " 18  Annual Warming Rate        237 non-null    object \n",
            "dtypes: float64(15), object(4)\n",
            "memory usage: 54.7+ KB\n"
          ],
          "name": "stdout"
        }
      ]
    },
    {
      "cell_type": "code",
      "metadata": {
        "colab": {
          "base_uri": "https://localhost:8080/"
        },
        "id": "QpvwDUT6U5FA",
        "outputId": "f661c880-5033-4ecb-e65b-9f2ebfa84bd3"
      },
      "source": [
        "null_slice = energy_df[energy_df.isnull().sum(axis=1)/18 <= .4]\n",
        "null_slice.fillna(null_slice.mean(), inplace=True)"
      ],
      "execution_count": 147,
      "outputs": [
        {
          "output_type": "stream",
          "text": [
            "/usr/local/lib/python3.7/dist-packages/pandas/core/series.py:4536: SettingWithCopyWarning: \n",
            "A value is trying to be set on a copy of a slice from a DataFrame\n",
            "\n",
            "See the caveats in the documentation: https://pandas.pydata.org/pandas-docs/stable/user_guide/indexing.html#returning-a-view-versus-a-copy\n",
            "  downcast=downcast,\n"
          ],
          "name": "stderr"
        }
      ]
    },
    {
      "cell_type": "code",
      "metadata": {
        "colab": {
          "base_uri": "https://localhost:8080/"
        },
        "id": "q30bMzo3VApe",
        "outputId": "c57533b7-5097-47df-bb3a-e91af1a5484e"
      },
      "source": [
        "null_slice['paris_accord'] = ((energy_df['Annual Warming Rate'] >0.03444492943401715).astype(int))"
      ],
      "execution_count": 148,
      "outputs": [
        {
          "output_type": "stream",
          "text": [
            "/usr/local/lib/python3.7/dist-packages/ipykernel_launcher.py:1: SettingWithCopyWarning: \n",
            "A value is trying to be set on a copy of a slice from a DataFrame.\n",
            "Try using .loc[row_indexer,col_indexer] = value instead\n",
            "\n",
            "See the caveats in the documentation: https://pandas.pydata.org/pandas-docs/stable/user_guide/indexing.html#returning-a-view-versus-a-copy\n",
            "  \"\"\"Entry point for launching an IPython kernel.\n"
          ],
          "name": "stderr"
        }
      ]
    },
    {
      "cell_type": "code",
      "metadata": {
        "id": "mbuv6BgsU8K_"
      },
      "source": [
        "X_cols = ['Coal Production', 'Coal Consumption', 'Nuclear Production',\n",
        "       'Nuclear Consumption', 'Natural Gas Production',\n",
        "       'Natural Gas Consumption', 'Hydroelectric Production',\n",
        "       'Hydroelectric Consumption', 'Oil Production', 'Oil Consumption',\n",
        "       'Solar Production', 'Solar Consumption', 'Wind Production',\n",
        "       'Wind Consumption', 'Carbon Dioxide Emissions', 'GDP Growth Rate',\n",
        "       'Population Growth Rate', 'Elevation']\n",
        "\n",
        "y_cols = 'paris_accord'"
      ],
      "execution_count": 149,
      "outputs": []
    },
    {
      "cell_type": "markdown",
      "metadata": {
        "id": "rrfwnfVnhXVr"
      },
      "source": [
        "#Data Quality Analysis"
      ]
    },
    {
      "cell_type": "code",
      "metadata": {
        "id": "SPxzocFKIwic"
      },
      "source": [
        "new_data['Country'] = new_data['Country'].map(lambda x:x.strip())"
      ],
      "execution_count": 150,
      "outputs": []
    },
    {
      "cell_type": "code",
      "metadata": {
        "id": "Ka8D0KayI1ei"
      },
      "source": [
        "new_data_slice = new_data.set_index('Country')[['Population', 'Area (sq. mi.)',\n",
        "       'Pop. Density (per sq. mi.)', 'Coastline (coast/area ratio)',\n",
        "       'Net migration', 'Infant mortality (per 1000 births)',\n",
        "       'GDP ($ per capita)', 'Literacy (%)', 'Phones (per 1000)', 'Arable (%)',\n",
        "       'Crops (%)', 'Other (%)', 'Climate', 'Birthrate', 'Deathrate',\n",
        "       'Agriculture', 'Industry', 'Service']]"
      ],
      "execution_count": 151,
      "outputs": []
    },
    {
      "cell_type": "code",
      "metadata": {
        "id": "EYmlA5ghAvqC",
        "colab": {
          "base_uri": "https://localhost:8080/",
          "height": 402
        },
        "outputId": "356b07dc-555f-41b0-9bf0-361909e6fd46"
      },
      "source": [
        "emissions"
      ],
      "execution_count": 152,
      "outputs": [
        {
          "output_type": "execute_result",
          "data": {
            "text/html": [
              "<div>\n",
              "<style scoped>\n",
              "    .dataframe tbody tr th:only-of-type {\n",
              "        vertical-align: middle;\n",
              "    }\n",
              "\n",
              "    .dataframe tbody tr th {\n",
              "        vertical-align: top;\n",
              "    }\n",
              "\n",
              "    .dataframe thead th {\n",
              "        text-align: right;\n",
              "    }\n",
              "</style>\n",
              "<table border=\"1\" class=\"dataframe\">\n",
              "  <thead>\n",
              "    <tr style=\"text-align: right;\">\n",
              "      <th></th>\n",
              "      <th>Country Name</th>\n",
              "      <th>Emissions</th>\n",
              "    </tr>\n",
              "  </thead>\n",
              "  <tbody>\n",
              "    <tr>\n",
              "      <th>0</th>\n",
              "      <td>Afghanistan</td>\n",
              "      <td>0.28</td>\n",
              "    </tr>\n",
              "    <tr>\n",
              "      <th>1</th>\n",
              "      <td>Albania</td>\n",
              "      <td>1.80</td>\n",
              "    </tr>\n",
              "    <tr>\n",
              "      <th>2</th>\n",
              "      <td>Algeria</td>\n",
              "      <td>3.85</td>\n",
              "    </tr>\n",
              "    <tr>\n",
              "      <th>3</th>\n",
              "      <td>Angola</td>\n",
              "      <td>1.06</td>\n",
              "    </tr>\n",
              "    <tr>\n",
              "      <th>4</th>\n",
              "      <td>Anguilla</td>\n",
              "      <td>2.10</td>\n",
              "    </tr>\n",
              "    <tr>\n",
              "      <th>...</th>\n",
              "      <td>...</td>\n",
              "      <td>...</td>\n",
              "    </tr>\n",
              "    <tr>\n",
              "      <th>204</th>\n",
              "      <td>Vietnam</td>\n",
              "      <td>2.20</td>\n",
              "    </tr>\n",
              "    <tr>\n",
              "      <th>205</th>\n",
              "      <td>Western Sahara</td>\n",
              "      <td>0.39</td>\n",
              "    </tr>\n",
              "    <tr>\n",
              "      <th>206</th>\n",
              "      <td>Yemen</td>\n",
              "      <td>0.94</td>\n",
              "    </tr>\n",
              "    <tr>\n",
              "      <th>207</th>\n",
              "      <td>Zambia</td>\n",
              "      <td>0.26</td>\n",
              "    </tr>\n",
              "    <tr>\n",
              "      <th>208</th>\n",
              "      <td>Zimbabwe</td>\n",
              "      <td>0.72</td>\n",
              "    </tr>\n",
              "  </tbody>\n",
              "</table>\n",
              "<p>209 rows × 2 columns</p>\n",
              "</div>"
            ],
            "text/plain": [
              "       Country Name  Emissions\n",
              "0       Afghanistan       0.28\n",
              "1           Albania       1.80\n",
              "2           Algeria       3.85\n",
              "3            Angola       1.06\n",
              "4          Anguilla       2.10\n",
              "..              ...        ...\n",
              "204         Vietnam       2.20\n",
              "205  Western Sahara       0.39\n",
              "206           Yemen       0.94\n",
              "207          Zambia       0.26\n",
              "208        Zimbabwe       0.72\n",
              "\n",
              "[209 rows x 2 columns]"
            ]
          },
          "metadata": {
            "tags": []
          },
          "execution_count": 152
        }
      ]
    },
    {
      "cell_type": "code",
      "metadata": {
        "colab": {
          "base_uri": "https://localhost:8080/"
        },
        "id": "kex6iek4Hlto",
        "outputId": "a26a9082-f7e3-478b-93b5-98817e2f6d66"
      },
      "source": [
        "emissions_data = emissions.set_index('Country Name')['Emissions']\n",
        "emissions_data"
      ],
      "execution_count": 153,
      "outputs": [
        {
          "output_type": "execute_result",
          "data": {
            "text/plain": [
              "Country Name\n",
              "Afghanistan       0.28\n",
              "Albania           1.80\n",
              "Algeria           3.85\n",
              "Angola            1.06\n",
              "Anguilla          2.10\n",
              "                  ... \n",
              "Vietnam           2.20\n",
              "Western Sahara    0.39\n",
              "Yemen             0.94\n",
              "Zambia            0.26\n",
              "Zimbabwe          0.72\n",
              "Name: Emissions, Length: 209, dtype: float64"
            ]
          },
          "metadata": {
            "tags": []
          },
          "execution_count": 153
        }
      ]
    },
    {
      "cell_type": "code",
      "metadata": {
        "id": "-uEBy2L_HnUU"
      },
      "source": [
        "final_df = new_data_slice.join(emissions_data, how='inner')"
      ],
      "execution_count": 154,
      "outputs": []
    },
    {
      "cell_type": "code",
      "metadata": {
        "colab": {
          "base_uri": "https://localhost:8080/"
        },
        "id": "0JcImmqgQcLR",
        "outputId": "0052d0a1-72cb-49fd-f5c0-d1e3a99a3296"
      },
      "source": [
        "final_df.info()"
      ],
      "execution_count": 155,
      "outputs": [
        {
          "output_type": "stream",
          "text": [
            "<class 'pandas.core.frame.DataFrame'>\n",
            "Index: 182 entries, Afghanistan to Zimbabwe\n",
            "Data columns (total 19 columns):\n",
            " #   Column                              Non-Null Count  Dtype  \n",
            "---  ------                              --------------  -----  \n",
            " 0   Population                          182 non-null    int64  \n",
            " 1   Area (sq. mi.)                      182 non-null    int64  \n",
            " 2   Pop. Density (per sq. mi.)          182 non-null    float64\n",
            " 3   Coastline (coast/area ratio)        182 non-null    float64\n",
            " 4   Net migration                       180 non-null    float64\n",
            " 5   Infant mortality (per 1000 births)  180 non-null    float64\n",
            " 6   GDP ($ per capita)                  181 non-null    float64\n",
            " 7   Literacy (%)                        176 non-null    float64\n",
            " 8   Phones (per 1000)                   180 non-null    float64\n",
            " 9   Arable (%)                          182 non-null    float64\n",
            " 10  Crops (%)                           182 non-null    float64\n",
            " 11  Other (%)                           182 non-null    float64\n",
            " 12  Climate                             164 non-null    float64\n",
            " 13  Birthrate                           180 non-null    float64\n",
            " 14  Deathrate                           179 non-null    float64\n",
            " 15  Agriculture                         178 non-null    float64\n",
            " 16  Industry                            178 non-null    float64\n",
            " 17  Service                             179 non-null    float64\n",
            " 18  Emissions                           182 non-null    float64\n",
            "dtypes: float64(17), int64(2)\n",
            "memory usage: 28.4+ KB\n"
          ],
          "name": "stdout"
        }
      ]
    },
    {
      "cell_type": "code",
      "metadata": {
        "colab": {
          "base_uri": "https://localhost:8080/",
          "height": 506
        },
        "id": "_YZhY0b-P5_Q",
        "outputId": "33ac8af3-eb20-4fdb-c29d-e1c997ebab79"
      },
      "source": [
        "final_df"
      ],
      "execution_count": 156,
      "outputs": [
        {
          "output_type": "execute_result",
          "data": {
            "text/html": [
              "<div>\n",
              "<style scoped>\n",
              "    .dataframe tbody tr th:only-of-type {\n",
              "        vertical-align: middle;\n",
              "    }\n",
              "\n",
              "    .dataframe tbody tr th {\n",
              "        vertical-align: top;\n",
              "    }\n",
              "\n",
              "    .dataframe thead th {\n",
              "        text-align: right;\n",
              "    }\n",
              "</style>\n",
              "<table border=\"1\" class=\"dataframe\">\n",
              "  <thead>\n",
              "    <tr style=\"text-align: right;\">\n",
              "      <th></th>\n",
              "      <th>Population</th>\n",
              "      <th>Area (sq. mi.)</th>\n",
              "      <th>Pop. Density (per sq. mi.)</th>\n",
              "      <th>Coastline (coast/area ratio)</th>\n",
              "      <th>Net migration</th>\n",
              "      <th>Infant mortality (per 1000 births)</th>\n",
              "      <th>GDP ($ per capita)</th>\n",
              "      <th>Literacy (%)</th>\n",
              "      <th>Phones (per 1000)</th>\n",
              "      <th>Arable (%)</th>\n",
              "      <th>Crops (%)</th>\n",
              "      <th>Other (%)</th>\n",
              "      <th>Climate</th>\n",
              "      <th>Birthrate</th>\n",
              "      <th>Deathrate</th>\n",
              "      <th>Agriculture</th>\n",
              "      <th>Industry</th>\n",
              "      <th>Service</th>\n",
              "      <th>Emissions</th>\n",
              "    </tr>\n",
              "  </thead>\n",
              "  <tbody>\n",
              "    <tr>\n",
              "      <th>Afghanistan</th>\n",
              "      <td>31056997</td>\n",
              "      <td>647500</td>\n",
              "      <td>48.0</td>\n",
              "      <td>0.00</td>\n",
              "      <td>23.06</td>\n",
              "      <td>163.07</td>\n",
              "      <td>700.0</td>\n",
              "      <td>36.0</td>\n",
              "      <td>3.2</td>\n",
              "      <td>12.13</td>\n",
              "      <td>0.22</td>\n",
              "      <td>87.65</td>\n",
              "      <td>1.0</td>\n",
              "      <td>46.60</td>\n",
              "      <td>20.34</td>\n",
              "      <td>0.380</td>\n",
              "      <td>0.240</td>\n",
              "      <td>0.380</td>\n",
              "      <td>0.28</td>\n",
              "    </tr>\n",
              "    <tr>\n",
              "      <th>Albania</th>\n",
              "      <td>3581655</td>\n",
              "      <td>28748</td>\n",
              "      <td>124.6</td>\n",
              "      <td>1.26</td>\n",
              "      <td>-4.93</td>\n",
              "      <td>21.52</td>\n",
              "      <td>4500.0</td>\n",
              "      <td>86.5</td>\n",
              "      <td>71.2</td>\n",
              "      <td>21.09</td>\n",
              "      <td>4.42</td>\n",
              "      <td>74.49</td>\n",
              "      <td>3.0</td>\n",
              "      <td>15.11</td>\n",
              "      <td>5.22</td>\n",
              "      <td>0.232</td>\n",
              "      <td>0.188</td>\n",
              "      <td>0.579</td>\n",
              "      <td>1.80</td>\n",
              "    </tr>\n",
              "    <tr>\n",
              "      <th>Algeria</th>\n",
              "      <td>32930091</td>\n",
              "      <td>2381740</td>\n",
              "      <td>13.8</td>\n",
              "      <td>0.04</td>\n",
              "      <td>-0.39</td>\n",
              "      <td>31.00</td>\n",
              "      <td>6000.0</td>\n",
              "      <td>70.0</td>\n",
              "      <td>78.1</td>\n",
              "      <td>3.22</td>\n",
              "      <td>0.25</td>\n",
              "      <td>96.53</td>\n",
              "      <td>1.0</td>\n",
              "      <td>17.14</td>\n",
              "      <td>4.61</td>\n",
              "      <td>0.101</td>\n",
              "      <td>0.600</td>\n",
              "      <td>0.298</td>\n",
              "      <td>3.85</td>\n",
              "    </tr>\n",
              "    <tr>\n",
              "      <th>Angola</th>\n",
              "      <td>12127071</td>\n",
              "      <td>1246700</td>\n",
              "      <td>9.7</td>\n",
              "      <td>0.13</td>\n",
              "      <td>0.00</td>\n",
              "      <td>191.19</td>\n",
              "      <td>1900.0</td>\n",
              "      <td>42.0</td>\n",
              "      <td>7.8</td>\n",
              "      <td>2.41</td>\n",
              "      <td>0.24</td>\n",
              "      <td>97.35</td>\n",
              "      <td>NaN</td>\n",
              "      <td>45.11</td>\n",
              "      <td>24.20</td>\n",
              "      <td>0.096</td>\n",
              "      <td>0.658</td>\n",
              "      <td>0.246</td>\n",
              "      <td>1.06</td>\n",
              "    </tr>\n",
              "    <tr>\n",
              "      <th>Anguilla</th>\n",
              "      <td>13477</td>\n",
              "      <td>102</td>\n",
              "      <td>132.1</td>\n",
              "      <td>59.80</td>\n",
              "      <td>10.76</td>\n",
              "      <td>21.03</td>\n",
              "      <td>8600.0</td>\n",
              "      <td>95.0</td>\n",
              "      <td>460.0</td>\n",
              "      <td>0.00</td>\n",
              "      <td>0.00</td>\n",
              "      <td>100.00</td>\n",
              "      <td>2.0</td>\n",
              "      <td>14.17</td>\n",
              "      <td>5.34</td>\n",
              "      <td>0.040</td>\n",
              "      <td>0.180</td>\n",
              "      <td>0.780</td>\n",
              "      <td>2.10</td>\n",
              "    </tr>\n",
              "    <tr>\n",
              "      <th>...</th>\n",
              "      <td>...</td>\n",
              "      <td>...</td>\n",
              "      <td>...</td>\n",
              "      <td>...</td>\n",
              "      <td>...</td>\n",
              "      <td>...</td>\n",
              "      <td>...</td>\n",
              "      <td>...</td>\n",
              "      <td>...</td>\n",
              "      <td>...</td>\n",
              "      <td>...</td>\n",
              "      <td>...</td>\n",
              "      <td>...</td>\n",
              "      <td>...</td>\n",
              "      <td>...</td>\n",
              "      <td>...</td>\n",
              "      <td>...</td>\n",
              "      <td>...</td>\n",
              "      <td>...</td>\n",
              "    </tr>\n",
              "    <tr>\n",
              "      <th>Vietnam</th>\n",
              "      <td>84402966</td>\n",
              "      <td>329560</td>\n",
              "      <td>256.1</td>\n",
              "      <td>1.05</td>\n",
              "      <td>-0.45</td>\n",
              "      <td>25.95</td>\n",
              "      <td>2500.0</td>\n",
              "      <td>90.3</td>\n",
              "      <td>187.7</td>\n",
              "      <td>19.97</td>\n",
              "      <td>5.95</td>\n",
              "      <td>74.08</td>\n",
              "      <td>2.0</td>\n",
              "      <td>16.86</td>\n",
              "      <td>6.22</td>\n",
              "      <td>0.209</td>\n",
              "      <td>0.410</td>\n",
              "      <td>0.381</td>\n",
              "      <td>2.20</td>\n",
              "    </tr>\n",
              "    <tr>\n",
              "      <th>Western Sahara</th>\n",
              "      <td>273008</td>\n",
              "      <td>266000</td>\n",
              "      <td>1.0</td>\n",
              "      <td>0.42</td>\n",
              "      <td>NaN</td>\n",
              "      <td>NaN</td>\n",
              "      <td>NaN</td>\n",
              "      <td>NaN</td>\n",
              "      <td>NaN</td>\n",
              "      <td>0.02</td>\n",
              "      <td>0.00</td>\n",
              "      <td>99.98</td>\n",
              "      <td>1.0</td>\n",
              "      <td>NaN</td>\n",
              "      <td>NaN</td>\n",
              "      <td>NaN</td>\n",
              "      <td>NaN</td>\n",
              "      <td>0.400</td>\n",
              "      <td>0.39</td>\n",
              "    </tr>\n",
              "    <tr>\n",
              "      <th>Yemen</th>\n",
              "      <td>21456188</td>\n",
              "      <td>527970</td>\n",
              "      <td>40.6</td>\n",
              "      <td>0.36</td>\n",
              "      <td>0.00</td>\n",
              "      <td>61.50</td>\n",
              "      <td>800.0</td>\n",
              "      <td>50.2</td>\n",
              "      <td>37.2</td>\n",
              "      <td>2.78</td>\n",
              "      <td>0.24</td>\n",
              "      <td>96.98</td>\n",
              "      <td>1.0</td>\n",
              "      <td>42.89</td>\n",
              "      <td>8.30</td>\n",
              "      <td>0.135</td>\n",
              "      <td>0.472</td>\n",
              "      <td>0.393</td>\n",
              "      <td>0.94</td>\n",
              "    </tr>\n",
              "    <tr>\n",
              "      <th>Zambia</th>\n",
              "      <td>11502010</td>\n",
              "      <td>752614</td>\n",
              "      <td>15.3</td>\n",
              "      <td>0.00</td>\n",
              "      <td>0.00</td>\n",
              "      <td>88.29</td>\n",
              "      <td>800.0</td>\n",
              "      <td>80.6</td>\n",
              "      <td>8.2</td>\n",
              "      <td>7.08</td>\n",
              "      <td>0.03</td>\n",
              "      <td>92.90</td>\n",
              "      <td>2.0</td>\n",
              "      <td>41.00</td>\n",
              "      <td>19.93</td>\n",
              "      <td>0.220</td>\n",
              "      <td>0.290</td>\n",
              "      <td>0.489</td>\n",
              "      <td>0.26</td>\n",
              "    </tr>\n",
              "    <tr>\n",
              "      <th>Zimbabwe</th>\n",
              "      <td>12236805</td>\n",
              "      <td>390580</td>\n",
              "      <td>31.3</td>\n",
              "      <td>0.00</td>\n",
              "      <td>0.00</td>\n",
              "      <td>67.69</td>\n",
              "      <td>1900.0</td>\n",
              "      <td>90.7</td>\n",
              "      <td>26.8</td>\n",
              "      <td>8.32</td>\n",
              "      <td>0.34</td>\n",
              "      <td>91.34</td>\n",
              "      <td>2.0</td>\n",
              "      <td>28.01</td>\n",
              "      <td>21.84</td>\n",
              "      <td>0.179</td>\n",
              "      <td>0.243</td>\n",
              "      <td>0.579</td>\n",
              "      <td>0.72</td>\n",
              "    </tr>\n",
              "  </tbody>\n",
              "</table>\n",
              "<p>182 rows × 19 columns</p>\n",
              "</div>"
            ],
            "text/plain": [
              "                Population  Area (sq. mi.)  ...  Service  Emissions\n",
              "Afghanistan       31056997          647500  ...    0.380       0.28\n",
              "Albania            3581655           28748  ...    0.579       1.80\n",
              "Algeria           32930091         2381740  ...    0.298       3.85\n",
              "Angola            12127071         1246700  ...    0.246       1.06\n",
              "Anguilla             13477             102  ...    0.780       2.10\n",
              "...                    ...             ...  ...      ...        ...\n",
              "Vietnam           84402966          329560  ...    0.381       2.20\n",
              "Western Sahara      273008          266000  ...    0.400       0.39\n",
              "Yemen             21456188          527970  ...    0.393       0.94\n",
              "Zambia            11502010          752614  ...    0.489       0.26\n",
              "Zimbabwe          12236805          390580  ...    0.579       0.72\n",
              "\n",
              "[182 rows x 19 columns]"
            ]
          },
          "metadata": {
            "tags": []
          },
          "execution_count": 156
        }
      ]
    },
    {
      "cell_type": "code",
      "metadata": {
        "colab": {
          "base_uri": "https://localhost:8080/"
        },
        "id": "4R3fag2KQk-t",
        "outputId": "a924a1ea-66c0-46cc-8a11-cfab9fbec6c0"
      },
      "source": [
        "final_df.isnull().sum()"
      ],
      "execution_count": 157,
      "outputs": [
        {
          "output_type": "execute_result",
          "data": {
            "text/plain": [
              "Population                             0\n",
              "Area (sq. mi.)                         0\n",
              "Pop. Density (per sq. mi.)             0\n",
              "Coastline (coast/area ratio)           0\n",
              "Net migration                          2\n",
              "Infant mortality (per 1000 births)     2\n",
              "GDP ($ per capita)                     1\n",
              "Literacy (%)                           6\n",
              "Phones (per 1000)                      2\n",
              "Arable (%)                             0\n",
              "Crops (%)                              0\n",
              "Other (%)                              0\n",
              "Climate                               18\n",
              "Birthrate                              2\n",
              "Deathrate                              3\n",
              "Agriculture                            4\n",
              "Industry                               4\n",
              "Service                                3\n",
              "Emissions                              0\n",
              "dtype: int64"
            ]
          },
          "metadata": {
            "tags": []
          },
          "execution_count": 157
        }
      ]
    },
    {
      "cell_type": "code",
      "metadata": {
        "colab": {
          "base_uri": "https://localhost:8080/"
        },
        "id": "iL4CnmRkQfV5",
        "outputId": "92fc070c-e6cd-4b95-daeb-fe71e647e2e0"
      },
      "source": [
        "final_df.fillna(final_df.median(), inplace=True)\n",
        "final_df.isnull().sum()"
      ],
      "execution_count": 158,
      "outputs": [
        {
          "output_type": "execute_result",
          "data": {
            "text/plain": [
              "Population                            0\n",
              "Area (sq. mi.)                        0\n",
              "Pop. Density (per sq. mi.)            0\n",
              "Coastline (coast/area ratio)          0\n",
              "Net migration                         0\n",
              "Infant mortality (per 1000 births)    0\n",
              "GDP ($ per capita)                    0\n",
              "Literacy (%)                          0\n",
              "Phones (per 1000)                     0\n",
              "Arable (%)                            0\n",
              "Crops (%)                             0\n",
              "Other (%)                             0\n",
              "Climate                               0\n",
              "Birthrate                             0\n",
              "Deathrate                             0\n",
              "Agriculture                           0\n",
              "Industry                              0\n",
              "Service                               0\n",
              "Emissions                             0\n",
              "dtype: int64"
            ]
          },
          "metadata": {
            "tags": []
          },
          "execution_count": 158
        }
      ]
    },
    {
      "cell_type": "code",
      "metadata": {
        "colab": {
          "base_uri": "https://localhost:8080/",
          "height": 354
        },
        "id": "I-A3j_Lw9L0t",
        "outputId": "7ec27938-66cf-4336-afed-6b9072928af7"
      },
      "source": [
        "final_df.describe()"
      ],
      "execution_count": 159,
      "outputs": [
        {
          "output_type": "execute_result",
          "data": {
            "text/html": [
              "<div>\n",
              "<style scoped>\n",
              "    .dataframe tbody tr th:only-of-type {\n",
              "        vertical-align: middle;\n",
              "    }\n",
              "\n",
              "    .dataframe tbody tr th {\n",
              "        vertical-align: top;\n",
              "    }\n",
              "\n",
              "    .dataframe thead th {\n",
              "        text-align: right;\n",
              "    }\n",
              "</style>\n",
              "<table border=\"1\" class=\"dataframe\">\n",
              "  <thead>\n",
              "    <tr style=\"text-align: right;\">\n",
              "      <th></th>\n",
              "      <th>Population</th>\n",
              "      <th>Area (sq. mi.)</th>\n",
              "      <th>Pop. Density (per sq. mi.)</th>\n",
              "      <th>Coastline (coast/area ratio)</th>\n",
              "      <th>Net migration</th>\n",
              "      <th>Infant mortality (per 1000 births)</th>\n",
              "      <th>GDP ($ per capita)</th>\n",
              "      <th>Literacy (%)</th>\n",
              "      <th>Phones (per 1000)</th>\n",
              "      <th>Arable (%)</th>\n",
              "      <th>Crops (%)</th>\n",
              "      <th>Other (%)</th>\n",
              "      <th>Climate</th>\n",
              "      <th>Birthrate</th>\n",
              "      <th>Deathrate</th>\n",
              "      <th>Agriculture</th>\n",
              "      <th>Industry</th>\n",
              "      <th>Service</th>\n",
              "      <th>Emissions</th>\n",
              "    </tr>\n",
              "  </thead>\n",
              "  <tbody>\n",
              "    <tr>\n",
              "      <th>count</th>\n",
              "      <td>1.820000e+02</td>\n",
              "      <td>1.820000e+02</td>\n",
              "      <td>182.000000</td>\n",
              "      <td>182.000000</td>\n",
              "      <td>182.000000</td>\n",
              "      <td>182.000000</td>\n",
              "      <td>182.000000</td>\n",
              "      <td>182.000000</td>\n",
              "      <td>182.000000</td>\n",
              "      <td>182.000000</td>\n",
              "      <td>182.000000</td>\n",
              "      <td>182.000000</td>\n",
              "      <td>182.000000</td>\n",
              "      <td>182.000000</td>\n",
              "      <td>182.000000</td>\n",
              "      <td>182.000000</td>\n",
              "      <td>182.000000</td>\n",
              "      <td>182.000000</td>\n",
              "      <td>182.000000</td>\n",
              "    </tr>\n",
              "    <tr>\n",
              "      <th>mean</th>\n",
              "      <td>3.454444e+07</td>\n",
              "      <td>7.198589e+05</td>\n",
              "      <td>224.134066</td>\n",
              "      <td>12.095989</td>\n",
              "      <td>0.104121</td>\n",
              "      <td>37.569011</td>\n",
              "      <td>9623.076923</td>\n",
              "      <td>82.423626</td>\n",
              "      <td>214.131868</td>\n",
              "      <td>14.323242</td>\n",
              "      <td>4.222637</td>\n",
              "      <td>81.453681</td>\n",
              "      <td>2.071429</td>\n",
              "      <td>22.528791</td>\n",
              "      <td>9.460110</td>\n",
              "      <td>0.150209</td>\n",
              "      <td>0.291665</td>\n",
              "      <td>0.555451</td>\n",
              "      <td>4.598956</td>\n",
              "    </tr>\n",
              "    <tr>\n",
              "      <th>std</th>\n",
              "      <td>1.309078e+08</td>\n",
              "      <td>1.973128e+06</td>\n",
              "      <td>744.448656</td>\n",
              "      <td>38.328430</td>\n",
              "      <td>4.228166</td>\n",
              "      <td>36.500253</td>\n",
              "      <td>10278.912350</td>\n",
              "      <td>19.797479</td>\n",
              "      <td>211.982211</td>\n",
              "      <td>13.772079</td>\n",
              "      <td>7.743945</td>\n",
              "      <td>16.469134</td>\n",
              "      <td>0.679500</td>\n",
              "      <td>11.256431</td>\n",
              "      <td>4.996305</td>\n",
              "      <td>0.142852</td>\n",
              "      <td>0.134082</td>\n",
              "      <td>0.158138</td>\n",
              "      <td>5.470965</td>\n",
              "    </tr>\n",
              "    <tr>\n",
              "      <th>min</th>\n",
              "      <td>7.502000e+03</td>\n",
              "      <td>7.000000e+00</td>\n",
              "      <td>0.000000</td>\n",
              "      <td>0.000000</td>\n",
              "      <td>-13.920000</td>\n",
              "      <td>2.290000</td>\n",
              "      <td>500.000000</td>\n",
              "      <td>17.600000</td>\n",
              "      <td>1.300000</td>\n",
              "      <td>0.000000</td>\n",
              "      <td>0.000000</td>\n",
              "      <td>33.330000</td>\n",
              "      <td>1.000000</td>\n",
              "      <td>7.290000</td>\n",
              "      <td>2.410000</td>\n",
              "      <td>0.000000</td>\n",
              "      <td>0.032000</td>\n",
              "      <td>0.062000</td>\n",
              "      <td>0.030000</td>\n",
              "    </tr>\n",
              "    <tr>\n",
              "      <th>25%</th>\n",
              "      <td>1.491480e+06</td>\n",
              "      <td>2.777000e+04</td>\n",
              "      <td>22.725000</td>\n",
              "      <td>0.100000</td>\n",
              "      <td>-0.890000</td>\n",
              "      <td>8.650000</td>\n",
              "      <td>1900.000000</td>\n",
              "      <td>70.450000</td>\n",
              "      <td>32.825000</td>\n",
              "      <td>3.562500</td>\n",
              "      <td>0.222500</td>\n",
              "      <td>70.440000</td>\n",
              "      <td>2.000000</td>\n",
              "      <td>12.747500</td>\n",
              "      <td>6.172500</td>\n",
              "      <td>0.040000</td>\n",
              "      <td>0.204000</td>\n",
              "      <td>0.427750</td>\n",
              "      <td>0.847500</td>\n",
              "    </tr>\n",
              "    <tr>\n",
              "      <th>50%</th>\n",
              "      <td>7.130624e+06</td>\n",
              "      <td>1.307170e+05</td>\n",
              "      <td>66.600000</td>\n",
              "      <td>0.495000</td>\n",
              "      <td>0.000000</td>\n",
              "      <td>23.395000</td>\n",
              "      <td>5400.000000</td>\n",
              "      <td>91.650000</td>\n",
              "      <td>141.500000</td>\n",
              "      <td>10.475000</td>\n",
              "      <td>1.100000</td>\n",
              "      <td>86.980000</td>\n",
              "      <td>2.000000</td>\n",
              "      <td>20.010000</td>\n",
              "      <td>8.230000</td>\n",
              "      <td>0.100000</td>\n",
              "      <td>0.276000</td>\n",
              "      <td>0.569000</td>\n",
              "      <td>2.645000</td>\n",
              "    </tr>\n",
              "    <tr>\n",
              "      <th>75%</th>\n",
              "      <td>2.209171e+07</td>\n",
              "      <td>5.244775e+05</td>\n",
              "      <td>141.250000</td>\n",
              "      <td>4.710000</td>\n",
              "      <td>0.585000</td>\n",
              "      <td>60.232500</td>\n",
              "      <td>13750.000000</td>\n",
              "      <td>97.875000</td>\n",
              "      <td>331.750000</td>\n",
              "      <td>21.175000</td>\n",
              "      <td>4.427500</td>\n",
              "      <td>95.020000</td>\n",
              "      <td>2.000000</td>\n",
              "      <td>29.977500</td>\n",
              "      <td>11.077500</td>\n",
              "      <td>0.216750</td>\n",
              "      <td>0.342750</td>\n",
              "      <td>0.670750</td>\n",
              "      <td>6.342500</td>\n",
              "    </tr>\n",
              "    <tr>\n",
              "      <th>max</th>\n",
              "      <td>1.313974e+09</td>\n",
              "      <td>1.707520e+07</td>\n",
              "      <td>6482.200000</td>\n",
              "      <td>331.660000</td>\n",
              "      <td>23.060000</td>\n",
              "      <td>191.190000</td>\n",
              "      <td>55100.000000</td>\n",
              "      <td>100.000000</td>\n",
              "      <td>898.000000</td>\n",
              "      <td>62.110000</td>\n",
              "      <td>50.680000</td>\n",
              "      <td>100.000000</td>\n",
              "      <td>4.000000</td>\n",
              "      <td>50.730000</td>\n",
              "      <td>29.500000</td>\n",
              "      <td>0.769000</td>\n",
              "      <td>0.906000</td>\n",
              "      <td>0.954000</td>\n",
              "      <td>37.290000</td>\n",
              "    </tr>\n",
              "  </tbody>\n",
              "</table>\n",
              "</div>"
            ],
            "text/plain": [
              "         Population  Area (sq. mi.)  ...     Service   Emissions\n",
              "count  1.820000e+02    1.820000e+02  ...  182.000000  182.000000\n",
              "mean   3.454444e+07    7.198589e+05  ...    0.555451    4.598956\n",
              "std    1.309078e+08    1.973128e+06  ...    0.158138    5.470965\n",
              "min    7.502000e+03    7.000000e+00  ...    0.062000    0.030000\n",
              "25%    1.491480e+06    2.777000e+04  ...    0.427750    0.847500\n",
              "50%    7.130624e+06    1.307170e+05  ...    0.569000    2.645000\n",
              "75%    2.209171e+07    5.244775e+05  ...    0.670750    6.342500\n",
              "max    1.313974e+09    1.707520e+07  ...    0.954000   37.290000\n",
              "\n",
              "[8 rows x 19 columns]"
            ]
          },
          "metadata": {
            "tags": []
          },
          "execution_count": 159
        }
      ]
    },
    {
      "cell_type": "code",
      "metadata": {
        "colab": {
          "base_uri": "https://localhost:8080/"
        },
        "id": "WgjFfUQQ_X3L",
        "outputId": "f95f01b2-5dee-4a46-93c0-4c2eba6d9937"
      },
      "source": [
        "final_df.info()"
      ],
      "execution_count": 160,
      "outputs": [
        {
          "output_type": "stream",
          "text": [
            "<class 'pandas.core.frame.DataFrame'>\n",
            "Index: 182 entries, Afghanistan to Zimbabwe\n",
            "Data columns (total 19 columns):\n",
            " #   Column                              Non-Null Count  Dtype  \n",
            "---  ------                              --------------  -----  \n",
            " 0   Population                          182 non-null    int64  \n",
            " 1   Area (sq. mi.)                      182 non-null    int64  \n",
            " 2   Pop. Density (per sq. mi.)          182 non-null    float64\n",
            " 3   Coastline (coast/area ratio)        182 non-null    float64\n",
            " 4   Net migration                       182 non-null    float64\n",
            " 5   Infant mortality (per 1000 births)  182 non-null    float64\n",
            " 6   GDP ($ per capita)                  182 non-null    float64\n",
            " 7   Literacy (%)                        182 non-null    float64\n",
            " 8   Phones (per 1000)                   182 non-null    float64\n",
            " 9   Arable (%)                          182 non-null    float64\n",
            " 10  Crops (%)                           182 non-null    float64\n",
            " 11  Other (%)                           182 non-null    float64\n",
            " 12  Climate                             182 non-null    float64\n",
            " 13  Birthrate                           182 non-null    float64\n",
            " 14  Deathrate                           182 non-null    float64\n",
            " 15  Agriculture                         182 non-null    float64\n",
            " 16  Industry                            182 non-null    float64\n",
            " 17  Service                             182 non-null    float64\n",
            " 18  Emissions                           182 non-null    float64\n",
            "dtypes: float64(17), int64(2)\n",
            "memory usage: 28.4+ KB\n"
          ],
          "name": "stdout"
        }
      ]
    },
    {
      "cell_type": "markdown",
      "metadata": {
        "id": "xvcdeWnehiX9"
      },
      "source": [
        "# Model Implementation and Performance Tuning"
      ]
    },
    {
      "cell_type": "code",
      "metadata": {
        "id": "zWpDh2qNSeby"
      },
      "source": [
        "#Set data for the following models\n",
        "X = final_df[['Population', 'Area (sq. mi.)', 'Pop. Density (per sq. mi.)',\n",
        "       'Coastline (coast/area ratio)', 'Net migration',\n",
        "       'Infant mortality (per 1000 births)', 'GDP ($ per capita)',\n",
        "       'Literacy (%)', 'Phones (per 1000)', 'Arable (%)', 'Crops (%)',\n",
        "       'Other (%)', 'Climate', 'Birthrate', 'Deathrate', 'Agriculture',\n",
        "       'Industry', 'Service']]\n",
        "\n",
        "y = final_df['Emissions']"
      ],
      "execution_count": 161,
      "outputs": []
    },
    {
      "cell_type": "code",
      "metadata": {
        "colab": {
          "base_uri": "https://localhost:8080/"
        },
        "id": "klmZyxZQS0tm",
        "outputId": "27523e5a-8137-4743-bc32-4fb575bbfb2c"
      },
      "source": [
        "X.info()"
      ],
      "execution_count": 162,
      "outputs": [
        {
          "output_type": "stream",
          "text": [
            "<class 'pandas.core.frame.DataFrame'>\n",
            "Index: 182 entries, Afghanistan to Zimbabwe\n",
            "Data columns (total 18 columns):\n",
            " #   Column                              Non-Null Count  Dtype  \n",
            "---  ------                              --------------  -----  \n",
            " 0   Population                          182 non-null    int64  \n",
            " 1   Area (sq. mi.)                      182 non-null    int64  \n",
            " 2   Pop. Density (per sq. mi.)          182 non-null    float64\n",
            " 3   Coastline (coast/area ratio)        182 non-null    float64\n",
            " 4   Net migration                       182 non-null    float64\n",
            " 5   Infant mortality (per 1000 births)  182 non-null    float64\n",
            " 6   GDP ($ per capita)                  182 non-null    float64\n",
            " 7   Literacy (%)                        182 non-null    float64\n",
            " 8   Phones (per 1000)                   182 non-null    float64\n",
            " 9   Arable (%)                          182 non-null    float64\n",
            " 10  Crops (%)                           182 non-null    float64\n",
            " 11  Other (%)                           182 non-null    float64\n",
            " 12  Climate                             182 non-null    float64\n",
            " 13  Birthrate                           182 non-null    float64\n",
            " 14  Deathrate                           182 non-null    float64\n",
            " 15  Agriculture                         182 non-null    float64\n",
            " 16  Industry                            182 non-null    float64\n",
            " 17  Service                             182 non-null    float64\n",
            "dtypes: float64(16), int64(2)\n",
            "memory usage: 27.0+ KB\n"
          ],
          "name": "stdout"
        }
      ]
    },
    {
      "cell_type": "code",
      "metadata": {
        "colab": {
          "base_uri": "https://localhost:8080/",
          "height": 354
        },
        "id": "G45nMrnDXXOr",
        "outputId": "f563c3a3-db23-4344-f948-a9aa5e109058"
      },
      "source": [
        "X.describe()"
      ],
      "execution_count": 163,
      "outputs": [
        {
          "output_type": "execute_result",
          "data": {
            "text/html": [
              "<div>\n",
              "<style scoped>\n",
              "    .dataframe tbody tr th:only-of-type {\n",
              "        vertical-align: middle;\n",
              "    }\n",
              "\n",
              "    .dataframe tbody tr th {\n",
              "        vertical-align: top;\n",
              "    }\n",
              "\n",
              "    .dataframe thead th {\n",
              "        text-align: right;\n",
              "    }\n",
              "</style>\n",
              "<table border=\"1\" class=\"dataframe\">\n",
              "  <thead>\n",
              "    <tr style=\"text-align: right;\">\n",
              "      <th></th>\n",
              "      <th>Population</th>\n",
              "      <th>Area (sq. mi.)</th>\n",
              "      <th>Pop. Density (per sq. mi.)</th>\n",
              "      <th>Coastline (coast/area ratio)</th>\n",
              "      <th>Net migration</th>\n",
              "      <th>Infant mortality (per 1000 births)</th>\n",
              "      <th>GDP ($ per capita)</th>\n",
              "      <th>Literacy (%)</th>\n",
              "      <th>Phones (per 1000)</th>\n",
              "      <th>Arable (%)</th>\n",
              "      <th>Crops (%)</th>\n",
              "      <th>Other (%)</th>\n",
              "      <th>Climate</th>\n",
              "      <th>Birthrate</th>\n",
              "      <th>Deathrate</th>\n",
              "      <th>Agriculture</th>\n",
              "      <th>Industry</th>\n",
              "      <th>Service</th>\n",
              "    </tr>\n",
              "  </thead>\n",
              "  <tbody>\n",
              "    <tr>\n",
              "      <th>count</th>\n",
              "      <td>1.820000e+02</td>\n",
              "      <td>1.820000e+02</td>\n",
              "      <td>182.000000</td>\n",
              "      <td>182.000000</td>\n",
              "      <td>182.000000</td>\n",
              "      <td>182.000000</td>\n",
              "      <td>182.000000</td>\n",
              "      <td>182.000000</td>\n",
              "      <td>182.000000</td>\n",
              "      <td>182.000000</td>\n",
              "      <td>182.000000</td>\n",
              "      <td>182.000000</td>\n",
              "      <td>182.000000</td>\n",
              "      <td>182.000000</td>\n",
              "      <td>182.000000</td>\n",
              "      <td>182.000000</td>\n",
              "      <td>182.000000</td>\n",
              "      <td>182.000000</td>\n",
              "    </tr>\n",
              "    <tr>\n",
              "      <th>mean</th>\n",
              "      <td>3.454444e+07</td>\n",
              "      <td>7.198589e+05</td>\n",
              "      <td>224.134066</td>\n",
              "      <td>12.095989</td>\n",
              "      <td>0.104121</td>\n",
              "      <td>37.569011</td>\n",
              "      <td>9623.076923</td>\n",
              "      <td>82.423626</td>\n",
              "      <td>214.131868</td>\n",
              "      <td>14.323242</td>\n",
              "      <td>4.222637</td>\n",
              "      <td>81.453681</td>\n",
              "      <td>2.071429</td>\n",
              "      <td>22.528791</td>\n",
              "      <td>9.460110</td>\n",
              "      <td>0.150209</td>\n",
              "      <td>0.291665</td>\n",
              "      <td>0.555451</td>\n",
              "    </tr>\n",
              "    <tr>\n",
              "      <th>std</th>\n",
              "      <td>1.309078e+08</td>\n",
              "      <td>1.973128e+06</td>\n",
              "      <td>744.448656</td>\n",
              "      <td>38.328430</td>\n",
              "      <td>4.228166</td>\n",
              "      <td>36.500253</td>\n",
              "      <td>10278.912350</td>\n",
              "      <td>19.797479</td>\n",
              "      <td>211.982211</td>\n",
              "      <td>13.772079</td>\n",
              "      <td>7.743945</td>\n",
              "      <td>16.469134</td>\n",
              "      <td>0.679500</td>\n",
              "      <td>11.256431</td>\n",
              "      <td>4.996305</td>\n",
              "      <td>0.142852</td>\n",
              "      <td>0.134082</td>\n",
              "      <td>0.158138</td>\n",
              "    </tr>\n",
              "    <tr>\n",
              "      <th>min</th>\n",
              "      <td>7.502000e+03</td>\n",
              "      <td>7.000000e+00</td>\n",
              "      <td>0.000000</td>\n",
              "      <td>0.000000</td>\n",
              "      <td>-13.920000</td>\n",
              "      <td>2.290000</td>\n",
              "      <td>500.000000</td>\n",
              "      <td>17.600000</td>\n",
              "      <td>1.300000</td>\n",
              "      <td>0.000000</td>\n",
              "      <td>0.000000</td>\n",
              "      <td>33.330000</td>\n",
              "      <td>1.000000</td>\n",
              "      <td>7.290000</td>\n",
              "      <td>2.410000</td>\n",
              "      <td>0.000000</td>\n",
              "      <td>0.032000</td>\n",
              "      <td>0.062000</td>\n",
              "    </tr>\n",
              "    <tr>\n",
              "      <th>25%</th>\n",
              "      <td>1.491480e+06</td>\n",
              "      <td>2.777000e+04</td>\n",
              "      <td>22.725000</td>\n",
              "      <td>0.100000</td>\n",
              "      <td>-0.890000</td>\n",
              "      <td>8.650000</td>\n",
              "      <td>1900.000000</td>\n",
              "      <td>70.450000</td>\n",
              "      <td>32.825000</td>\n",
              "      <td>3.562500</td>\n",
              "      <td>0.222500</td>\n",
              "      <td>70.440000</td>\n",
              "      <td>2.000000</td>\n",
              "      <td>12.747500</td>\n",
              "      <td>6.172500</td>\n",
              "      <td>0.040000</td>\n",
              "      <td>0.204000</td>\n",
              "      <td>0.427750</td>\n",
              "    </tr>\n",
              "    <tr>\n",
              "      <th>50%</th>\n",
              "      <td>7.130624e+06</td>\n",
              "      <td>1.307170e+05</td>\n",
              "      <td>66.600000</td>\n",
              "      <td>0.495000</td>\n",
              "      <td>0.000000</td>\n",
              "      <td>23.395000</td>\n",
              "      <td>5400.000000</td>\n",
              "      <td>91.650000</td>\n",
              "      <td>141.500000</td>\n",
              "      <td>10.475000</td>\n",
              "      <td>1.100000</td>\n",
              "      <td>86.980000</td>\n",
              "      <td>2.000000</td>\n",
              "      <td>20.010000</td>\n",
              "      <td>8.230000</td>\n",
              "      <td>0.100000</td>\n",
              "      <td>0.276000</td>\n",
              "      <td>0.569000</td>\n",
              "    </tr>\n",
              "    <tr>\n",
              "      <th>75%</th>\n",
              "      <td>2.209171e+07</td>\n",
              "      <td>5.244775e+05</td>\n",
              "      <td>141.250000</td>\n",
              "      <td>4.710000</td>\n",
              "      <td>0.585000</td>\n",
              "      <td>60.232500</td>\n",
              "      <td>13750.000000</td>\n",
              "      <td>97.875000</td>\n",
              "      <td>331.750000</td>\n",
              "      <td>21.175000</td>\n",
              "      <td>4.427500</td>\n",
              "      <td>95.020000</td>\n",
              "      <td>2.000000</td>\n",
              "      <td>29.977500</td>\n",
              "      <td>11.077500</td>\n",
              "      <td>0.216750</td>\n",
              "      <td>0.342750</td>\n",
              "      <td>0.670750</td>\n",
              "    </tr>\n",
              "    <tr>\n",
              "      <th>max</th>\n",
              "      <td>1.313974e+09</td>\n",
              "      <td>1.707520e+07</td>\n",
              "      <td>6482.200000</td>\n",
              "      <td>331.660000</td>\n",
              "      <td>23.060000</td>\n",
              "      <td>191.190000</td>\n",
              "      <td>55100.000000</td>\n",
              "      <td>100.000000</td>\n",
              "      <td>898.000000</td>\n",
              "      <td>62.110000</td>\n",
              "      <td>50.680000</td>\n",
              "      <td>100.000000</td>\n",
              "      <td>4.000000</td>\n",
              "      <td>50.730000</td>\n",
              "      <td>29.500000</td>\n",
              "      <td>0.769000</td>\n",
              "      <td>0.906000</td>\n",
              "      <td>0.954000</td>\n",
              "    </tr>\n",
              "  </tbody>\n",
              "</table>\n",
              "</div>"
            ],
            "text/plain": [
              "         Population  Area (sq. mi.)  ...    Industry     Service\n",
              "count  1.820000e+02    1.820000e+02  ...  182.000000  182.000000\n",
              "mean   3.454444e+07    7.198589e+05  ...    0.291665    0.555451\n",
              "std    1.309078e+08    1.973128e+06  ...    0.134082    0.158138\n",
              "min    7.502000e+03    7.000000e+00  ...    0.032000    0.062000\n",
              "25%    1.491480e+06    2.777000e+04  ...    0.204000    0.427750\n",
              "50%    7.130624e+06    1.307170e+05  ...    0.276000    0.569000\n",
              "75%    2.209171e+07    5.244775e+05  ...    0.342750    0.670750\n",
              "max    1.313974e+09    1.707520e+07  ...    0.906000    0.954000\n",
              "\n",
              "[8 rows x 18 columns]"
            ]
          },
          "metadata": {
            "tags": []
          },
          "execution_count": 163
        }
      ]
    },
    {
      "cell_type": "code",
      "metadata": {
        "colab": {
          "base_uri": "https://localhost:8080/"
        },
        "id": "DdUvxX-1RZ3I",
        "outputId": "30f5a034-157a-4e99-93bd-3eed4037e634"
      },
      "source": [
        "final_df.columns"
      ],
      "execution_count": 164,
      "outputs": [
        {
          "output_type": "execute_result",
          "data": {
            "text/plain": [
              "Index(['Population', 'Area (sq. mi.)', 'Pop. Density (per sq. mi.)',\n",
              "       'Coastline (coast/area ratio)', 'Net migration',\n",
              "       'Infant mortality (per 1000 births)', 'GDP ($ per capita)',\n",
              "       'Literacy (%)', 'Phones (per 1000)', 'Arable (%)', 'Crops (%)',\n",
              "       'Other (%)', 'Climate', 'Birthrate', 'Deathrate', 'Agriculture',\n",
              "       'Industry', 'Service', 'Emissions'],\n",
              "      dtype='object')"
            ]
          },
          "metadata": {
            "tags": []
          },
          "execution_count": 164
        }
      ]
    },
    {
      "cell_type": "markdown",
      "metadata": {
        "id": "ElLlCG7r9mgX"
      },
      "source": [
        "#### Test Model 2: Gradient-Boosted Model Classifier and Regressior\n",
        "by Kiejstut Bunikiewicz"
      ]
    },
    {
      "cell_type": "code",
      "metadata": {
        "id": "XY5y-9o_Sx5Q"
      },
      "source": [
        "X = final_df[['Population', 'Area (sq. mi.)', 'Pop. Density (per sq. mi.)',\n",
        "       'Coastline (coast/area ratio)', 'Net migration',\n",
        "       'Infant mortality (per 1000 births)', 'GDP ($ per capita)',\n",
        "       'Literacy (%)', 'Phones (per 1000)', 'Arable (%)', 'Crops (%)',\n",
        "       'Other (%)', 'Climate', 'Birthrate', 'Deathrate', 'Agriculture',\n",
        "       'Industry', 'Service']] # setting columns for X"
      ],
      "execution_count": 165,
      "outputs": []
    },
    {
      "cell_type": "code",
      "metadata": {
        "id": "0vbWpOE-Syxl"
      },
      "source": [
        "y = final_df['Emissions'] #Setting Continuous Variable y for Gradient Boosted Regressions"
      ],
      "execution_count": 166,
      "outputs": []
    },
    {
      "cell_type": "code",
      "metadata": {
        "colab": {
          "base_uri": "https://localhost:8080/"
        },
        "id": "u4oBfEbcgqeW",
        "outputId": "777025c1-c1a9-4cb6-b0b5-104756ee5ffa"
      },
      "source": [
        "cart_y = y > y.mean() #Creating a categorical dependent variable, 1 is greater than average per capita CO2 emission, 0 is less than mean\n",
        "cart_y.astype(float)"
      ],
      "execution_count": 167,
      "outputs": [
        {
          "output_type": "execute_result",
          "data": {
            "text/plain": [
              "Afghanistan       0.0\n",
              "Albania           0.0\n",
              "Algeria           0.0\n",
              "Angola            0.0\n",
              "Anguilla          0.0\n",
              "                 ... \n",
              "Vietnam           0.0\n",
              "Western Sahara    0.0\n",
              "Yemen             0.0\n",
              "Zambia            0.0\n",
              "Zimbabwe          0.0\n",
              "Name: Emissions, Length: 182, dtype: float64"
            ]
          },
          "metadata": {
            "tags": []
          },
          "execution_count": 167
        }
      ]
    },
    {
      "cell_type": "code",
      "metadata": {
        "id": "C0ACMdYOhHrv"
      },
      "source": [
        "gbm_X = X #Setting X for classifier"
      ],
      "execution_count": 168,
      "outputs": []
    },
    {
      "cell_type": "code",
      "metadata": {
        "id": "FaGpDWd4hJOF"
      },
      "source": [
        "gbm_y = cart_y #Setting y for classifier"
      ],
      "execution_count": 169,
      "outputs": []
    },
    {
      "cell_type": "code",
      "metadata": {
        "id": "efaBjjOmVCdZ"
      },
      "source": [
        "X_train,X_test,y_train,y_test = train_test_split(gbm_X,gbm_y,test_size = 0.3, random_state = 44) #Splitting the dataset for Classifier use"
      ],
      "execution_count": 170,
      "outputs": []
    },
    {
      "cell_type": "code",
      "metadata": {
        "colab": {
          "base_uri": "https://localhost:8080/",
          "height": 316
        },
        "id": "ecvPKky4WtYB",
        "outputId": "80df87ab-24da-4e6c-c933-1e5d1bd89e07"
      },
      "source": [
        "X_train.head() #inspecting training data"
      ],
      "execution_count": 171,
      "outputs": [
        {
          "output_type": "execute_result",
          "data": {
            "text/html": [
              "<div>\n",
              "<style scoped>\n",
              "    .dataframe tbody tr th:only-of-type {\n",
              "        vertical-align: middle;\n",
              "    }\n",
              "\n",
              "    .dataframe tbody tr th {\n",
              "        vertical-align: top;\n",
              "    }\n",
              "\n",
              "    .dataframe thead th {\n",
              "        text-align: right;\n",
              "    }\n",
              "</style>\n",
              "<table border=\"1\" class=\"dataframe\">\n",
              "  <thead>\n",
              "    <tr style=\"text-align: right;\">\n",
              "      <th></th>\n",
              "      <th>Population</th>\n",
              "      <th>Area (sq. mi.)</th>\n",
              "      <th>Pop. Density (per sq. mi.)</th>\n",
              "      <th>Coastline (coast/area ratio)</th>\n",
              "      <th>Net migration</th>\n",
              "      <th>Infant mortality (per 1000 births)</th>\n",
              "      <th>GDP ($ per capita)</th>\n",
              "      <th>Literacy (%)</th>\n",
              "      <th>Phones (per 1000)</th>\n",
              "      <th>Arable (%)</th>\n",
              "      <th>Crops (%)</th>\n",
              "      <th>Other (%)</th>\n",
              "      <th>Climate</th>\n",
              "      <th>Birthrate</th>\n",
              "      <th>Deathrate</th>\n",
              "      <th>Agriculture</th>\n",
              "      <th>Industry</th>\n",
              "      <th>Service</th>\n",
              "    </tr>\n",
              "  </thead>\n",
              "  <tbody>\n",
              "    <tr>\n",
              "      <th>Equatorial Guinea</th>\n",
              "      <td>540109</td>\n",
              "      <td>28051</td>\n",
              "      <td>19.3</td>\n",
              "      <td>1.06</td>\n",
              "      <td>0.00</td>\n",
              "      <td>85.13</td>\n",
              "      <td>2700.0</td>\n",
              "      <td>85.7</td>\n",
              "      <td>18.5</td>\n",
              "      <td>4.63</td>\n",
              "      <td>3.57</td>\n",
              "      <td>91.80</td>\n",
              "      <td>2.0</td>\n",
              "      <td>35.59</td>\n",
              "      <td>15.06</td>\n",
              "      <td>0.030</td>\n",
              "      <td>0.906</td>\n",
              "      <td>0.062</td>\n",
              "    </tr>\n",
              "    <tr>\n",
              "      <th>Namibia</th>\n",
              "      <td>2044147</td>\n",
              "      <td>825418</td>\n",
              "      <td>2.5</td>\n",
              "      <td>0.19</td>\n",
              "      <td>0.00</td>\n",
              "      <td>48.98</td>\n",
              "      <td>7200.0</td>\n",
              "      <td>84.0</td>\n",
              "      <td>62.6</td>\n",
              "      <td>0.99</td>\n",
              "      <td>0.00</td>\n",
              "      <td>99.01</td>\n",
              "      <td>1.0</td>\n",
              "      <td>24.32</td>\n",
              "      <td>18.86</td>\n",
              "      <td>0.097</td>\n",
              "      <td>0.315</td>\n",
              "      <td>0.588</td>\n",
              "    </tr>\n",
              "    <tr>\n",
              "      <th>Kuwait</th>\n",
              "      <td>2418393</td>\n",
              "      <td>17820</td>\n",
              "      <td>135.7</td>\n",
              "      <td>2.80</td>\n",
              "      <td>14.18</td>\n",
              "      <td>9.95</td>\n",
              "      <td>19000.0</td>\n",
              "      <td>83.5</td>\n",
              "      <td>211.0</td>\n",
              "      <td>0.73</td>\n",
              "      <td>0.11</td>\n",
              "      <td>99.16</td>\n",
              "      <td>1.0</td>\n",
              "      <td>21.94</td>\n",
              "      <td>2.41</td>\n",
              "      <td>0.004</td>\n",
              "      <td>0.479</td>\n",
              "      <td>0.516</td>\n",
              "    </tr>\n",
              "    <tr>\n",
              "      <th>Serbia</th>\n",
              "      <td>9396411</td>\n",
              "      <td>88361</td>\n",
              "      <td>106.3</td>\n",
              "      <td>0.00</td>\n",
              "      <td>-1.33</td>\n",
              "      <td>12.89</td>\n",
              "      <td>2200.0</td>\n",
              "      <td>93.0</td>\n",
              "      <td>285.8</td>\n",
              "      <td>33.35</td>\n",
              "      <td>3.20</td>\n",
              "      <td>63.45</td>\n",
              "      <td>2.0</td>\n",
              "      <td>20.01</td>\n",
              "      <td>8.23</td>\n",
              "      <td>0.166</td>\n",
              "      <td>0.255</td>\n",
              "      <td>0.579</td>\n",
              "    </tr>\n",
              "    <tr>\n",
              "      <th>United Kingdom</th>\n",
              "      <td>60609153</td>\n",
              "      <td>244820</td>\n",
              "      <td>247.6</td>\n",
              "      <td>5.08</td>\n",
              "      <td>2.19</td>\n",
              "      <td>5.16</td>\n",
              "      <td>27700.0</td>\n",
              "      <td>99.0</td>\n",
              "      <td>543.5</td>\n",
              "      <td>23.46</td>\n",
              "      <td>0.21</td>\n",
              "      <td>76.33</td>\n",
              "      <td>3.0</td>\n",
              "      <td>10.71</td>\n",
              "      <td>10.13</td>\n",
              "      <td>0.005</td>\n",
              "      <td>0.237</td>\n",
              "      <td>0.758</td>\n",
              "    </tr>\n",
              "  </tbody>\n",
              "</table>\n",
              "</div>"
            ],
            "text/plain": [
              "                   Population  Area (sq. mi.)  ...  Industry  Service\n",
              "Equatorial Guinea      540109           28051  ...     0.906    0.062\n",
              "Namibia               2044147          825418  ...     0.315    0.588\n",
              "Kuwait                2418393           17820  ...     0.479    0.516\n",
              "Serbia                9396411           88361  ...     0.255    0.579\n",
              "United Kingdom       60609153          244820  ...     0.237    0.758\n",
              "\n",
              "[5 rows x 18 columns]"
            ]
          },
          "metadata": {
            "tags": []
          },
          "execution_count": 171
        }
      ]
    },
    {
      "cell_type": "code",
      "metadata": {
        "colab": {
          "base_uri": "https://localhost:8080/"
        },
        "id": "mHBby_PlWwb5",
        "outputId": "be9c349c-5608-4c60-8d59-f57fdd392836"
      },
      "source": [
        "y_train.head() #Inspecting training data"
      ],
      "execution_count": 172,
      "outputs": [
        {
          "output_type": "execute_result",
          "data": {
            "text/plain": [
              "Equatorial Guinea    False\n",
              "Namibia              False\n",
              "Kuwait                True\n",
              "Serbia                True\n",
              "United Kingdom        True\n",
              "Name: Emissions, dtype: bool"
            ]
          },
          "metadata": {
            "tags": []
          },
          "execution_count": 172
        }
      ]
    },
    {
      "cell_type": "code",
      "metadata": {
        "colab": {
          "base_uri": "https://localhost:8080/"
        },
        "id": "aOxGHJ-Senge",
        "outputId": "4e10d590-53b9-4477-a044-ef1fdd39fbb1"
      },
      "source": [
        "y.value_counts() # Inspecting value counts for contiuous CO2 Emission per capita variable"
      ],
      "execution_count": 173,
      "outputs": [
        {
          "output_type": "execute_result",
          "data": {
            "text/plain": [
              "0.18    4\n",
              "0.10    3\n",
              "0.28    3\n",
              "4.61    3\n",
              "0.11    2\n",
              "       ..\n",
              "0.40    1\n",
              "0.21    1\n",
              "8.34    1\n",
              "4.86    1\n",
              "2.25    1\n",
              "Name: Emissions, Length: 162, dtype: int64"
            ]
          },
          "metadata": {
            "tags": []
          },
          "execution_count": 173
        }
      ]
    },
    {
      "cell_type": "code",
      "metadata": {
        "colab": {
          "base_uri": "https://localhost:8080/",
          "height": 463
        },
        "id": "FlkWfkZPdUBZ",
        "outputId": "fe8d4633-dc21-4c37-bded-fba61cf74ded"
      },
      "source": [
        "#Gradient Boost (Classifier)\n",
        "# training the Gradient Boost\n",
        "results = [] # empty list for appending accuracy results\n",
        "n_estimator_options = [10, 20, 30, 40, 50] # list for number of estimator options\n",
        "for est in n_estimator_options:\n",
        "    model = GradientBoostingClassifier(n_estimators=est, random_state= 101) # model loops through the options for number of estimators hyperparameter\n",
        "    model.fit(X_train, y_train) #fitting data\n",
        "    y_pred = model.predict(X_test)\n",
        "    accuracy = np.mean(y_test == y_pred) #accuracy calculation\n",
        "    results.append(accuracy)\n",
        "    auc_score = roc_auc_score(y_test, y_pred) #AUC calculation\n",
        "    print(\"Accuracy\", est, \":\", accuracy)\n",
        "    print(\"AUC   \", est, \":\", auc_score) #printing AUC and Accuracy calculations for the different numbers of estimators\n",
        "\n",
        "plt.figure(figsize = (8,4))\n",
        "pd.Series(results, n_estimator_options).plot(color='darkblue', marker = 's')\n",
        "plt.xlabel(\"Number of Estimators\")\n",
        "plt.ylabel(\"Accuracy\") # plotting accuracy against number of estimators\n",
        "plt.title(\"Gradient Boosting Classifier\")\n",
        "plt.show() # The most accurate model is 89% accurate with a number of estimators of 10"
      ],
      "execution_count": 174,
      "outputs": [
        {
          "output_type": "stream",
          "text": [
            "Accuracy 10 : 0.8909090909090909\n",
            "AUC    10 : 0.8475975975975977\n",
            "Accuracy 20 : 0.8727272727272727\n",
            "AUC    20 : 0.8340840840840841\n",
            "Accuracy 30 : 0.8727272727272727\n",
            "AUC    30 : 0.8340840840840841\n",
            "Accuracy 40 : 0.8545454545454545\n",
            "AUC    40 : 0.8063063063063063\n",
            "Accuracy 50 : 0.8545454545454545\n",
            "AUC    50 : 0.8063063063063063\n"
          ],
          "name": "stdout"
        },
        {
          "output_type": "display_data",
          "data": {
            "image/png": "[encoded data removed]",
            "text/plain": [
              "<Figure size 576x288 with 1 Axes>"
            ]
          },
          "metadata": {
            "tags": [],
            "needs_background": "light"
          }
        }
      ]
    },
    {
      "cell_type": "code",
      "metadata": {
        "colab": {
          "base_uri": "https://localhost:8080/",
          "height": 585
        },
        "id": "EBCsAht8ySL-",
        "outputId": "c18443c0-28b5-4a32-ba4f-d0f12ad31236"
      },
      "source": [
        "# This is going to show the feature importances for the Classifier model\n",
        "# Get Feature importance data using feature_importances_ attribute\n",
        "#\n",
        "feature_importance = model.feature_importances_ #Finds feature importances scores\n",
        "sorted_idx = np.argsort(feature_importance) #Sorting feature importance\n",
        "pos = np.arange(sorted_idx.shape[0]) + .5\n",
        "fig = plt.figure(figsize=(8, 8))\n",
        "plt.barh(pos, feature_importance[sorted_idx], align='center') #creating horizontal bar chart\n",
        "plt.yticks(pos, np.array(X.columns)[sorted_idx])\n",
        "plt.title('Feature Importance (MDI)')\n",
        "result = permutation_importance(model, X_test, y_test, n_repeats=10,\n",
        "                                random_state=42, n_jobs=2)\n",
        "sorted_idx = result.importances_mean.argsort()\n",
        "fig.tight_layout()\n",
        "plt.show() # this model's most important features are GDP per capita and Phones per 1000\n",
        "#This charting code can be re-used later if this is the final model"
      ],
      "execution_count": 175,
      "outputs": [
        {
          "output_type": "display_data",
          "data": {
            "image/png": "[encoded data removed]",
            "text/plain": [
              "<Figure size 576x576 with 1 Axes>"
            ]
          },
          "metadata": {
            "tags": [],
            "needs_background": "light"
          }
        }
      ]
    },
    {
      "cell_type": "code",
      "metadata": {
        "colab": {
          "base_uri": "https://localhost:8080/"
        },
        "id": "Lcs_ZfWx39gN",
        "outputId": "b5bb2795-d475-4ae9-8863-2bb2e7a59a34"
      },
      "source": [
        "print(classification_report(y_test, y_pred)) \n",
        "#Classification report shows strong performance in all categories, possibly boost recall for countries with above average per cap emissions later"
      ],
      "execution_count": 176,
      "outputs": [
        {
          "output_type": "stream",
          "text": [
            "              precision    recall  f1-score   support\n",
            "\n",
            "       False       0.85      0.95      0.90        37\n",
            "        True       0.86      0.67      0.75        18\n",
            "\n",
            "    accuracy                           0.85        55\n",
            "   macro avg       0.86      0.81      0.82        55\n",
            "weighted avg       0.85      0.85      0.85        55\n",
            "\n"
          ],
          "name": "stdout"
        }
      ]
    },
    {
      "cell_type": "code",
      "metadata": {
        "colab": {
          "base_uri": "https://localhost:8080/",
          "height": 396
        },
        "id": "mMFfYnlM9sH4",
        "outputId": "3e8f323f-76d4-4fe5-dece-59d94f868f0d"
      },
      "source": [
        "#Gradient Boost (Regression)   #Getting a r^2 of about 50% as maximum\n",
        "# training the Gradient Boost\n",
        "results = [] # empty list for appending accuracy results\n",
        "n_estimator_options = [20, 40, 60, 80, 100] # list for number of estimator options\n",
        "for est in n_estimator_options:\n",
        "    model = GradientBoostingRegressor(n_estimators=est, learning_rate= .1,criterion= 'mse', random_state= 101) # model loops through the options for number of estimators hyperparameter\n",
        "    model.fit(X_train, y_train)\n",
        "    y_pred = model.predict(X_test)\n",
        "    rsq = model.score(X_test, y_test) #R^2 calculation / Accuracy calculation\n",
        "    results.append(rsq)\n",
        "    print(\"R^2\", est, \":\", rsq)\n",
        "\n",
        "plt.figure(figsize = (8,4))\n",
        "pd.Series(results, n_estimator_options).plot(color='darkblue', marker = 's')\n",
        "plt.xlabel(\"Number of Estimators\")\n",
        "plt.ylabel(\"R^2 or Accuracy \") # plotting accuracy against number of estimators\n",
        "plt.title(\"Gradient Boosting Regression\") #Most effective model is 20 estimators\n",
        "# R^2 peaks at 0.53 meaning only 53% of variance or change is explained, too low to be considered accaptable"
      ],
      "execution_count": 177,
      "outputs": [
        {
          "output_type": "stream",
          "text": [
            "R^2 20 : 0.5305257368436754\n",
            "R^2 40 : 0.49378474030989444\n",
            "R^2 60 : 0.48250590658492154\n",
            "R^2 80 : 0.47637713976575113\n",
            "R^2 100 : 0.47592051435107763\n"
          ],
          "name": "stdout"
        },
        {
          "output_type": "execute_result",
          "data": {
            "text/plain": [
              "Text(0.5, 1.0, 'Gradient Boosting Regression')"
            ]
          },
          "metadata": {
            "tags": []
          },
          "execution_count": 177
        },
        {
          "output_type": "display_data",
          "data": {
            "image/png": "[encoded data removed]",
            "text/plain": [
              "<Figure size 576x288 with 1 Axes>"
            ]
          },
          "metadata": {
            "tags": [],
            "needs_background": "light"
          }
        }
      ]
    },
    {
      "cell_type": "code",
      "metadata": {
        "id": "dGeTd0c6Ezdg"
      },
      "source": [
        "# Re-trying but with a standard Scaler Code\n",
        "# Source : https://vitalflux.com/gradient-boosting-regression-python-examples/ \n",
        "#Source also cited in the individual report"
      ],
      "execution_count": 178,
      "outputs": []
    },
    {
      "cell_type": "code",
      "metadata": {
        "id": "NxkmeynuFMZt"
      },
      "source": [
        "# Standardize the dataset\n",
        "# This code should account for any scaling issues that may be weakening model\n",
        "sc = StandardScaler()\n",
        "X_train_std = sc.fit_transform(X_train) #re-fitting model to standard scaler\n",
        "X_test_std = sc.transform(X_test)"
      ],
      "execution_count": 179,
      "outputs": []
    },
    {
      "cell_type": "code",
      "metadata": {
        "id": "HnUmIHFOFQ1M"
      },
      "source": [
        "# Hyperparameters for GradientBoostingRegressor to use with standard scaler\n",
        "#\n",
        "gbr_params = {'n_estimators': 25,\n",
        "          'max_depth': 3,\n",
        "          'min_samples_split': 5,\n",
        "          'learning_rate': 0.1,\n",
        "          'loss': 'ls'}"
      ],
      "execution_count": 180,
      "outputs": []
    },
    {
      "cell_type": "code",
      "metadata": {
        "id": "FgRimOSaFXKO"
      },
      "source": [
        "# Create an instance of gradient boosting regressor\n",
        "#\n",
        "gbr = GradientBoostingRegressor(**gbr_params)"
      ],
      "execution_count": 181,
      "outputs": []
    },
    {
      "cell_type": "code",
      "metadata": {
        "colab": {
          "base_uri": "https://localhost:8080/"
        },
        "id": "JaaPKEgZFa1k",
        "outputId": "76335a0a-317e-4373-d6a7-978062d8c0bb"
      },
      "source": [
        "# Fit the model\n",
        "#\n",
        "gbr.fit(X_train_std, y_train) #fitting model for predictions"
      ],
      "execution_count": 182,
      "outputs": [
        {
          "output_type": "execute_result",
          "data": {
            "text/plain": [
              "GradientBoostingRegressor(alpha=0.9, ccp_alpha=0.0, criterion='friedman_mse',\n",
              "                          init=None, learning_rate=0.1, loss='ls', max_depth=3,\n",
              "                          max_features=None, max_leaf_nodes=None,\n",
              "                          min_impurity_decrease=0.0, min_impurity_split=None,\n",
              "                          min_samples_leaf=1, min_samples_split=5,\n",
              "                          min_weight_fraction_leaf=0.0, n_estimators=25,\n",
              "                          n_iter_no_change=None, presort='deprecated',\n",
              "                          random_state=None, subsample=1.0, tol=0.0001,\n",
              "                          validation_fraction=0.1, verbose=0, warm_start=False)"
            ]
          },
          "metadata": {
            "tags": []
          },
          "execution_count": 182
        }
      ]
    },
    {
      "cell_type": "code",
      "metadata": {
        "colab": {
          "base_uri": "https://localhost:8080/"
        },
        "id": "H2iU23H1FdtW",
        "outputId": "584659ef-6e0c-4e80-b756-3d963847a1fd"
      },
      "source": [
        "# Print Coefficient of determination R^2\n",
        "#\n",
        "print(\"Model Accuracy: %.3f\" % gbr.score(X_test_std, y_test))  #Model accuracy about 50%\n",
        "#\n",
        "# Create the mean squared error\n",
        "#\n",
        "mse = mean_squared_error(y_test, gbr.predict(X_test_std))\n",
        "print(\"The mean squared error (MSE) on test set: {:.4f}\".format(mse)) #model accuracy score, which is essentially same as R^2 is about 0.53\n",
        "# This means the standard scaler does not make the regression more effective, this means I should suggest classifier as top model"
      ],
      "execution_count": 183,
      "outputs": [
        {
          "output_type": "stream",
          "text": [
            "Model Accuracy: 0.520\n",
            "The mean squared error (MSE) on test set: 0.1056\n"
          ],
          "name": "stdout"
        }
      ]
    },
    {
      "cell_type": "code",
      "metadata": {
        "colab": {
          "base_uri": "https://localhost:8080/",
          "height": 585
        },
        "id": "wosj5N-lFkOO",
        "outputId": "aefe654f-6fd8-4155-b9a5-07aed42ee051"
      },
      "source": [
        "#\n",
        "# Get Feature importance data using feature_importances_ attribute\n",
        "#\n",
        "feature_importance = gbr.feature_importances_ #Finds feature importances scores\n",
        "sorted_idx = np.argsort(feature_importance) #Sorting feature importance\n",
        "pos = np.arange(sorted_idx.shape[0]) + .5\n",
        "fig = plt.figure(figsize=(8, 8))\n",
        "plt.barh(pos, feature_importance[sorted_idx], align='center') #creating horizontal bar chart\n",
        "plt.yticks(pos, np.array(X.columns)[sorted_idx])\n",
        "plt.title('Feature Importance (MDI)')\n",
        "result = permutation_importance(gbr, X_test_std, y_test, n_repeats=10,\n",
        "                                random_state=42, n_jobs=2)\n",
        "sorted_idx = result.importances_mean.argsort()\n",
        "fig.tight_layout()\n",
        "plt.show() # this model's most important features are GDP per capita and Phones per 1000\n",
        "#Although chart is for a weak model, it can be adapted to later models"
      ],
      "execution_count": 184,
      "outputs": [
        {
          "output_type": "display_data",
          "data": {
            "image/png": "[encoded data removed]",
            "text/plain": [
              "<Figure size 576x576 with 1 Axes>"
            ]
          },
          "metadata": {
            "tags": [],
            "needs_background": "light"
          }
        }
      ]
    },
    {
      "cell_type": "code",
      "metadata": {
        "colab": {
          "base_uri": "https://localhost:8080/",
          "height": 585
        },
        "id": "UT1E807aFw02",
        "outputId": "685b3e60-dc9e-4fd6-de76-7da87274e458"
      },
      "source": [
        "#This cell is charting the increasing in deviance as the number of estimators increases\n",
        "test_score = np.zeros((gbr_params['n_estimators'],), dtype=np.float64)\n",
        "for i, y_pred in enumerate(gbr.staged_predict(X_test_std)):\n",
        "    test_score[i] = gbr.loss_(y_test, y_pred)\n",
        " \n",
        "fig = plt.figure(figsize=(8, 8))\n",
        "plt.subplot(1, 1, 1)\n",
        "plt.title('Deviance')\n",
        "plt.plot(np.arange(gbr_params['n_estimators']) + 1, gbr.train_score_, 'b-',\n",
        "         label='Training Set Deviance')\n",
        "plt.plot(np.arange(gbr_params['n_estimators']) + 1, test_score, 'r-',\n",
        "         label='Test Set Deviance')\n",
        "plt.legend(loc='upper right')\n",
        "plt.xlabel('Boosting Iterations')\n",
        "plt.ylabel('Deviance')\n",
        "fig.tight_layout()\n",
        "plt.show() #this chart shows that our regression's predictive ability becomes weaker as the number of iterations increases\n",
        "#This weakness is shown by the growing gap between training and test set deviances"
      ],
      "execution_count": 185,
      "outputs": [
        {
          "output_type": "display_data",
          "data": {
            "image/png": "[encoded data removed]",
            "text/plain": [
              "<Figure size 576x576 with 1 Axes>"
            ]
          },
          "metadata": {
            "tags": [],
            "needs_background": "light"
          }
        }
      ]
    }
  ]
}