{
  "nbformat": 4,
  "nbformat_minor": 0,
  "metadata": {
    "kernelspec": {
      "display_name": "Python 3",
      "language": "python",
      "name": "python3"
    },
    "language_info": {
      "codemirror_mode": {
        "name": "ipython",
        "version": 3
      },
      "file_extension": ".py",
      "mimetype": "text/x-python",
      "name": "python",
      "nbconvert_exporter": "python",
      "pygments_lexer": "ipython3",
      "version": "3.5.4"
    },
    "colab": {
      "name": "Kiejstut_Bunikiewicz_CA04_Ensemble_Models.ipynb",
      "provenance": [],
      "collapsed_sections": []
    }
  },
  "cells": [
    {
      "cell_type": "markdown",
      "metadata": {
        "id": "vZKPecpz7kAl"
      },
      "source": [
        "# Your name: Kiejstut Bunikiewicz\n",
        "## Assignment Name: CA04 - Ensemble Models"
      ]
    },
    {
      "cell_type": "markdown",
      "metadata": {
        "id": "T-ALfHwK7kAs"
      },
      "source": [
        "# Program Inititialization Section\n",
        "## Enter your import packages here"
      ]
    },
    {
      "cell_type": "code",
      "metadata": {
        "collapsed": true,
        "id": "eJ_197sl7kAt",
        "colab": {
          "base_uri": "https://localhost:8080/"
        },
        "outputId": "ce25a080-fdba-482e-ac8e-ed07c5b71b81"
      },
      "source": [
        "# import packages \n",
        "\n",
        "import numpy as np\n",
        "import pandas as pd\n",
        "from sklearn.ensemble import RandomForestClassifier, GradientBoostingClassifier, AdaBoostClassifier\n",
        "import sklearn.metrics # this will give us the metrics to use later\n",
        "from sklearn.metrics import accuracy_score\n",
        "from sklearn.metrics import roc_auc_score\n",
        "from sklearn import svm\n",
        "import matplotlib.pyplot as plt # this package and the packages after are used for graphing\n",
        "import pydotplus\n",
        "from google.colab import drive\n",
        "!pip install xgboost #xgboost installer\n",
        "import xgboost as xgb\n",
        "\n",
        "#Mounting Google Drive\n",
        "drive.mount('/content/drive')"
      ],
      "execution_count": null,
      "outputs": [
        {
          "output_type": "stream",
          "text": [
            "Requirement already satisfied: xgboost in /usr/local/lib/python3.7/dist-packages (0.90)\n",
            "Requirement already satisfied: numpy in /usr/local/lib/python3.7/dist-packages (from xgboost) (1.19.5)\n",
            "Requirement already satisfied: scipy in /usr/local/lib/python3.7/dist-packages (from xgboost) (1.4.1)\n",
            "Drive already mounted at /content/drive; to attempt to forcibly remount, call drive.mount(\"/content/drive\", force_remount=True).\n"
          ],
          "name": "stdout"
        }
      ]
    },
    {
      "cell_type": "markdown",
      "metadata": {
        "id": "0N_EIIU97kAt"
      },
      "source": [
        "# Data File Reading Section / Data Source and Contents\n",
        "## Write code to read in data from external sources here"
      ]
    },
    {
      "cell_type": "code",
      "metadata": {
        "id": "Pz9T9U3j7kAu",
        "colab": {
          "base_uri": "https://localhost:8080/",
          "height": 282
        },
        "outputId": "78bc8225-7a9e-4976-c469-2514fec3cbc8"
      },
      "source": [
        "#read datasets\n",
        "census_data = '/content/drive/My Drive/MSBA_Colab_2020/ML_Algorithms/CA03/Data/census_data.csv'\n",
        "census_data = pd.read_csv(census_data)\n",
        "census_data.head() # import successful"
      ],
      "execution_count": null,
      "outputs": [
        {
          "output_type": "execute_result",
          "data": {
            "text/html": [
              "<div>\n",
              "<style scoped>\n",
              "    .dataframe tbody tr th:only-of-type {\n",
              "        vertical-align: middle;\n",
              "    }\n",
              "\n",
              "    .dataframe tbody tr th {\n",
              "        vertical-align: top;\n",
              "    }\n",
              "\n",
              "    .dataframe thead th {\n",
              "        text-align: right;\n",
              "    }\n",
              "</style>\n",
              "<table border=\"1\" class=\"dataframe\">\n",
              "  <thead>\n",
              "    <tr style=\"text-align: right;\">\n",
              "      <th></th>\n",
              "      <th>hours_per_week_bin</th>\n",
              "      <th>occupation_bin</th>\n",
              "      <th>msr_bin</th>\n",
              "      <th>capital_gl_bin</th>\n",
              "      <th>race_sex_bin</th>\n",
              "      <th>education_num_bin</th>\n",
              "      <th>education_bin</th>\n",
              "      <th>workclass_bin</th>\n",
              "      <th>age_bin</th>\n",
              "      <th>flag</th>\n",
              "      <th>y</th>\n",
              "    </tr>\n",
              "  </thead>\n",
              "  <tbody>\n",
              "    <tr>\n",
              "      <th>0</th>\n",
              "      <td>b. 31-40</td>\n",
              "      <td>b. Mid - Low</td>\n",
              "      <td>b. Mid</td>\n",
              "      <td>c. &gt; 0</td>\n",
              "      <td>c. High</td>\n",
              "      <td>c. 13</td>\n",
              "      <td>c. Bachelors</td>\n",
              "      <td>b. income</td>\n",
              "      <td>d. 36-40 &amp; 56-60</td>\n",
              "      <td>train</td>\n",
              "      <td>0</td>\n",
              "    </tr>\n",
              "    <tr>\n",
              "      <th>1</th>\n",
              "      <td>a. 0-30</td>\n",
              "      <td>e. High</td>\n",
              "      <td>c. High</td>\n",
              "      <td>a. = 0</td>\n",
              "      <td>c. High</td>\n",
              "      <td>c. 13</td>\n",
              "      <td>c. Bachelors</td>\n",
              "      <td>b. income</td>\n",
              "      <td>e. 40-55</td>\n",
              "      <td>train</td>\n",
              "      <td>0</td>\n",
              "    </tr>\n",
              "    <tr>\n",
              "      <th>2</th>\n",
              "      <td>b. 31-40</td>\n",
              "      <td>a. Low</td>\n",
              "      <td>b. Mid</td>\n",
              "      <td>a. = 0</td>\n",
              "      <td>c. High</td>\n",
              "      <td>b. 9-12</td>\n",
              "      <td>b. Mid</td>\n",
              "      <td>b. income</td>\n",
              "      <td>d. 36-40 &amp; 56-60</td>\n",
              "      <td>train</td>\n",
              "      <td>0</td>\n",
              "    </tr>\n",
              "    <tr>\n",
              "      <th>3</th>\n",
              "      <td>b. 31-40</td>\n",
              "      <td>a. Low</td>\n",
              "      <td>c. High</td>\n",
              "      <td>a. = 0</td>\n",
              "      <td>b. Mid</td>\n",
              "      <td>a. 0-8</td>\n",
              "      <td>a. Low</td>\n",
              "      <td>b. income</td>\n",
              "      <td>e. 40-55</td>\n",
              "      <td>train</td>\n",
              "      <td>0</td>\n",
              "    </tr>\n",
              "    <tr>\n",
              "      <th>4</th>\n",
              "      <td>b. 31-40</td>\n",
              "      <td>e. High</td>\n",
              "      <td>c. High</td>\n",
              "      <td>a. = 0</td>\n",
              "      <td>a. Low</td>\n",
              "      <td>c. 13</td>\n",
              "      <td>c. Bachelors</td>\n",
              "      <td>b. income</td>\n",
              "      <td>b. 26-30 &amp; 71-100</td>\n",
              "      <td>train</td>\n",
              "      <td>0</td>\n",
              "    </tr>\n",
              "  </tbody>\n",
              "</table>\n",
              "</div>"
            ],
            "text/plain": [
              "  hours_per_week_bin occupation_bin  msr_bin  ...            age_bin   flag  y\n",
              "0           b. 31-40   b. Mid - Low   b. Mid  ...   d. 36-40 & 56-60  train  0\n",
              "1            a. 0-30        e. High  c. High  ...           e. 40-55  train  0\n",
              "2           b. 31-40         a. Low   b. Mid  ...   d. 36-40 & 56-60  train  0\n",
              "3           b. 31-40         a. Low  c. High  ...           e. 40-55  train  0\n",
              "4           b. 31-40        e. High  c. High  ...  b. 26-30 & 71-100  train  0\n",
              "\n",
              "[5 rows x 11 columns]"
            ]
          },
          "metadata": {
            "tags": []
          },
          "execution_count": 41
        }
      ]
    },
    {
      "cell_type": "code",
      "metadata": {
        "scrolled": false,
        "id": "zyS_mThv7kAv",
        "colab": {
          "base_uri": "https://localhost:8080/",
          "height": 282
        },
        "outputId": "c60f8bfa-d1c4-40ee-c0d3-4403faa1d88b"
      },
      "source": [
        "#General Data Overview\r\n",
        "census_data.describe\r\n",
        "census_data.info\r\n",
        "census_data.dtypes # data types look correct\r\n",
        "census_data.shape # correct number of rows\r\n",
        "census_data.count()\r\n",
        "\r\n",
        "# Finding Missing values / NaNs\r\n",
        "census_data.isnull().sum() # No null values/ NaN in dataset\r\n",
        "census_data.tail()\r\n",
        "census_data.head()\r\n"
      ],
      "execution_count": null,
      "outputs": [
        {
          "output_type": "execute_result",
          "data": {
            "text/html": [
              "<div>\n",
              "<style scoped>\n",
              "    .dataframe tbody tr th:only-of-type {\n",
              "        vertical-align: middle;\n",
              "    }\n",
              "\n",
              "    .dataframe tbody tr th {\n",
              "        vertical-align: top;\n",
              "    }\n",
              "\n",
              "    .dataframe thead th {\n",
              "        text-align: right;\n",
              "    }\n",
              "</style>\n",
              "<table border=\"1\" class=\"dataframe\">\n",
              "  <thead>\n",
              "    <tr style=\"text-align: right;\">\n",
              "      <th></th>\n",
              "      <th>hours_per_week_bin</th>\n",
              "      <th>occupation_bin</th>\n",
              "      <th>msr_bin</th>\n",
              "      <th>capital_gl_bin</th>\n",
              "      <th>race_sex_bin</th>\n",
              "      <th>education_num_bin</th>\n",
              "      <th>education_bin</th>\n",
              "      <th>workclass_bin</th>\n",
              "      <th>age_bin</th>\n",
              "      <th>flag</th>\n",
              "      <th>y</th>\n",
              "    </tr>\n",
              "  </thead>\n",
              "  <tbody>\n",
              "    <tr>\n",
              "      <th>0</th>\n",
              "      <td>b. 31-40</td>\n",
              "      <td>b. Mid - Low</td>\n",
              "      <td>b. Mid</td>\n",
              "      <td>c. &gt; 0</td>\n",
              "      <td>c. High</td>\n",
              "      <td>c. 13</td>\n",
              "      <td>c. Bachelors</td>\n",
              "      <td>b. income</td>\n",
              "      <td>d. 36-40 &amp; 56-60</td>\n",
              "      <td>train</td>\n",
              "      <td>0</td>\n",
              "    </tr>\n",
              "    <tr>\n",
              "      <th>1</th>\n",
              "      <td>a. 0-30</td>\n",
              "      <td>e. High</td>\n",
              "      <td>c. High</td>\n",
              "      <td>a. = 0</td>\n",
              "      <td>c. High</td>\n",
              "      <td>c. 13</td>\n",
              "      <td>c. Bachelors</td>\n",
              "      <td>b. income</td>\n",
              "      <td>e. 40-55</td>\n",
              "      <td>train</td>\n",
              "      <td>0</td>\n",
              "    </tr>\n",
              "    <tr>\n",
              "      <th>2</th>\n",
              "      <td>b. 31-40</td>\n",
              "      <td>a. Low</td>\n",
              "      <td>b. Mid</td>\n",
              "      <td>a. = 0</td>\n",
              "      <td>c. High</td>\n",
              "      <td>b. 9-12</td>\n",
              "      <td>b. Mid</td>\n",
              "      <td>b. income</td>\n",
              "      <td>d. 36-40 &amp; 56-60</td>\n",
              "      <td>train</td>\n",
              "      <td>0</td>\n",
              "    </tr>\n",
              "    <tr>\n",
              "      <th>3</th>\n",
              "      <td>b. 31-40</td>\n",
              "      <td>a. Low</td>\n",
              "      <td>c. High</td>\n",
              "      <td>a. = 0</td>\n",
              "      <td>b. Mid</td>\n",
              "      <td>a. 0-8</td>\n",
              "      <td>a. Low</td>\n",
              "      <td>b. income</td>\n",
              "      <td>e. 40-55</td>\n",
              "      <td>train</td>\n",
              "      <td>0</td>\n",
              "    </tr>\n",
              "    <tr>\n",
              "      <th>4</th>\n",
              "      <td>b. 31-40</td>\n",
              "      <td>e. High</td>\n",
              "      <td>c. High</td>\n",
              "      <td>a. = 0</td>\n",
              "      <td>a. Low</td>\n",
              "      <td>c. 13</td>\n",
              "      <td>c. Bachelors</td>\n",
              "      <td>b. income</td>\n",
              "      <td>b. 26-30 &amp; 71-100</td>\n",
              "      <td>train</td>\n",
              "      <td>0</td>\n",
              "    </tr>\n",
              "  </tbody>\n",
              "</table>\n",
              "</div>"
            ],
            "text/plain": [
              "  hours_per_week_bin occupation_bin  msr_bin  ...            age_bin   flag  y\n",
              "0           b. 31-40   b. Mid - Low   b. Mid  ...   d. 36-40 & 56-60  train  0\n",
              "1            a. 0-30        e. High  c. High  ...           e. 40-55  train  0\n",
              "2           b. 31-40         a. Low   b. Mid  ...   d. 36-40 & 56-60  train  0\n",
              "3           b. 31-40         a. Low  c. High  ...           e. 40-55  train  0\n",
              "4           b. 31-40        e. High  c. High  ...  b. 26-30 & 71-100  train  0\n",
              "\n",
              "[5 rows x 11 columns]"
            ]
          },
          "metadata": {
            "tags": []
          },
          "execution_count": 42
        }
      ]
    },
    {
      "cell_type": "code",
      "metadata": {
        "id": "aSotCMOwSfP1",
        "colab": {
          "base_uri": "https://localhost:8080/",
          "height": 215
        },
        "outputId": "84d86ac4-77cf-4783-fb0c-b6b182e8ac8c"
      },
      "source": [
        "# Data Cleansing and Transformation\r\n",
        "#changing the variables from string to Integer in a new census df so we can run Ensemble Models\r\n",
        "\r\n",
        "new_cens = census_data.copy()\r\n",
        "\r\n",
        "new_cens.replace(regex={r'[a]. ': 1, r'[b]. ': 2,r'[c]. ': 3, r'[d]. ': 4,r'[e]. ': 5}, inplace = True)\r\n",
        "new_cens.head() # conversion successful\r\n",
        "new_cens_test = new_cens[new_cens.flag == 'test']\r\n",
        "new_cens_train = new_cens[new_cens.flag == 'train']\r\n",
        "\r\n",
        "new_cens_train.head() # the data has been successfully split by flag"
      ],
      "execution_count": null,
      "outputs": [
        {
          "output_type": "execute_result",
          "data": {
            "text/html": [
              "<div>\n",
              "<style scoped>\n",
              "    .dataframe tbody tr th:only-of-type {\n",
              "        vertical-align: middle;\n",
              "    }\n",
              "\n",
              "    .dataframe tbody tr th {\n",
              "        vertical-align: top;\n",
              "    }\n",
              "\n",
              "    .dataframe thead th {\n",
              "        text-align: right;\n",
              "    }\n",
              "</style>\n",
              "<table border=\"1\" class=\"dataframe\">\n",
              "  <thead>\n",
              "    <tr style=\"text-align: right;\">\n",
              "      <th></th>\n",
              "      <th>hours_per_week_bin</th>\n",
              "      <th>occupation_bin</th>\n",
              "      <th>msr_bin</th>\n",
              "      <th>capital_gl_bin</th>\n",
              "      <th>race_sex_bin</th>\n",
              "      <th>education_num_bin</th>\n",
              "      <th>education_bin</th>\n",
              "      <th>workclass_bin</th>\n",
              "      <th>age_bin</th>\n",
              "      <th>flag</th>\n",
              "      <th>y</th>\n",
              "    </tr>\n",
              "  </thead>\n",
              "  <tbody>\n",
              "    <tr>\n",
              "      <th>0</th>\n",
              "      <td>2</td>\n",
              "      <td>2</td>\n",
              "      <td>2</td>\n",
              "      <td>3</td>\n",
              "      <td>3</td>\n",
              "      <td>3</td>\n",
              "      <td>3</td>\n",
              "      <td>2</td>\n",
              "      <td>4</td>\n",
              "      <td>train</td>\n",
              "      <td>0</td>\n",
              "    </tr>\n",
              "    <tr>\n",
              "      <th>1</th>\n",
              "      <td>1</td>\n",
              "      <td>5</td>\n",
              "      <td>3</td>\n",
              "      <td>1</td>\n",
              "      <td>3</td>\n",
              "      <td>3</td>\n",
              "      <td>3</td>\n",
              "      <td>2</td>\n",
              "      <td>5</td>\n",
              "      <td>train</td>\n",
              "      <td>0</td>\n",
              "    </tr>\n",
              "    <tr>\n",
              "      <th>2</th>\n",
              "      <td>2</td>\n",
              "      <td>1</td>\n",
              "      <td>2</td>\n",
              "      <td>1</td>\n",
              "      <td>3</td>\n",
              "      <td>2</td>\n",
              "      <td>2</td>\n",
              "      <td>2</td>\n",
              "      <td>4</td>\n",
              "      <td>train</td>\n",
              "      <td>0</td>\n",
              "    </tr>\n",
              "    <tr>\n",
              "      <th>3</th>\n",
              "      <td>2</td>\n",
              "      <td>1</td>\n",
              "      <td>3</td>\n",
              "      <td>1</td>\n",
              "      <td>2</td>\n",
              "      <td>1</td>\n",
              "      <td>1</td>\n",
              "      <td>2</td>\n",
              "      <td>5</td>\n",
              "      <td>train</td>\n",
              "      <td>0</td>\n",
              "    </tr>\n",
              "    <tr>\n",
              "      <th>4</th>\n",
              "      <td>2</td>\n",
              "      <td>5</td>\n",
              "      <td>3</td>\n",
              "      <td>1</td>\n",
              "      <td>1</td>\n",
              "      <td>3</td>\n",
              "      <td>3</td>\n",
              "      <td>2</td>\n",
              "      <td>2</td>\n",
              "      <td>train</td>\n",
              "      <td>0</td>\n",
              "    </tr>\n",
              "  </tbody>\n",
              "</table>\n",
              "</div>"
            ],
            "text/plain": [
              "   hours_per_week_bin  occupation_bin  msr_bin  ...  age_bin   flag  y\n",
              "0                   2               2        2  ...        4  train  0\n",
              "1                   1               5        3  ...        5  train  0\n",
              "2                   2               1        2  ...        4  train  0\n",
              "3                   2               1        3  ...        5  train  0\n",
              "4                   2               5        3  ...        2  train  0\n",
              "\n",
              "[5 rows x 11 columns]"
            ]
          },
          "metadata": {
            "tags": []
          },
          "execution_count": 43
        }
      ]
    },
    {
      "cell_type": "markdown",
      "metadata": {
        "id": "Z9xjnB8cxNik"
      },
      "source": [
        "# 2. Finding the Optimal Value of a key Hyper-parameter"
      ]
    },
    {
      "cell_type": "markdown",
      "metadata": {
        "id": "-iucVMxa7kAw"
      },
      "source": [
        "### Build Decision Tree Classifier Models:\n"
      ]
    },
    {
      "cell_type": "code",
      "metadata": {
        "id": "oHeQgHB4D4ty",
        "colab": {
          "base_uri": "https://localhost:8080/"
        },
        "outputId": "0c26b1a0-d331-4047-ce29-c780fb58a241"
      },
      "source": [
        "# Creating test and train for x and y, using new_cens data\r\n",
        "X_train = new_cens_train[['hours_per_week_bin', 'occupation_bin','msr_bin','capital_gl_bin', 'race_sex_bin','education_bin', 'workclass_bin']]\r\n",
        "X_train.head() # X_train is keeping selected explanatory variables with the train flag\r\n",
        "X_train.shape\r\n",
        "X_test = new_cens_test[['hours_per_week_bin', 'occupation_bin','msr_bin','capital_gl_bin', 'race_sex_bin','education_bin', 'workclass_bin']]\r\n",
        "X_test.head() # X_test is keeping selected explanatory variables with the test flag\r\n",
        "X_test.shape\r\n",
        "y_train = new_cens_train.y\r\n",
        "y_train.head() # y_train is keeping the target column (y) with the train flag\r\n",
        "y_train.shape\r\n",
        "y_test = new_cens_test.y #y_test is keeping the target column with the test flag\r\n",
        "y_test.shape\r\n",
        "y_test.head()"
      ],
      "execution_count": null,
      "outputs": [
        {
          "output_type": "execute_result",
          "data": {
            "text/plain": [
              "32561    0\n",
              "32562    0\n",
              "32563    1\n",
              "32564    1\n",
              "32565    0\n",
              "Name: y, dtype: int64"
            ]
          },
          "metadata": {
            "tags": []
          },
          "execution_count": 44
        }
      ]
    },
    {
      "cell_type": "code",
      "metadata": {
        "id": "PEZJwEAoxFdC",
        "colab": {
          "base_uri": "https://localhost:8080/",
          "height": 279
        },
        "outputId": "942e7b12-fd06-45bc-eaeb-29d847c7b013"
      },
      "source": [
        "# Finding Optimal Value for Max Depth\r\n",
        "\r\n",
        "results = [] #empty list for appending accuracy values\r\n",
        "max_depth_options = [2, 4, 6, 8, 10, 12 ,14, 16, 18, 20] # options of max depth we are testing for\r\n",
        "for trees in max_depth_options:\r\n",
        "    model = DecisionTreeClassifier(max_depth=trees, random_state= 101) #the model will cycle through options for max depth\r\n",
        "    model.fit(X_train, y_train)\r\n",
        "    y_pred = model.predict(X_test)\r\n",
        "    accuracy = np.mean(y_test == y_pred) #accuracy calculation\r\n",
        "    results.append(accuracy) #accuracy results are appended to list\r\n",
        "\r\n",
        "plt.figure(figsize = (8,4))\r\n",
        "pd.Series(results, max_depth_options).plot(color='darkblue', marker = 's')\r\n",
        "plt.ylabel(\"Accuracy\")\r\n",
        "plt.xlabel(\"Max Depth\")\r\n",
        "plt.show() #Graphing the relationship between accuracy and max depth \r\n",
        "\r\n",
        "# the optimal value for max depth is ~8"
      ],
      "execution_count": null,
      "outputs": [
        {
          "output_type": "display_data",
          "data": {
            "image/png": "[encoded data removed]",
            "text/plain": [
              "<Figure size 576x288 with 1 Axes>"
            ]
          },
          "metadata": {
            "tags": [],
            "needs_background": "light"
          }
        }
      ]
    },
    {
      "cell_type": "markdown",
      "metadata": {
        "id": "g495XT5hxfXf"
      },
      "source": [
        "# 3. Building a Random Forest Model"
      ]
    },
    {
      "cell_type": "code",
      "metadata": {
        "colab": {
          "base_uri": "https://localhost:8080/",
          "height": 631
        },
        "id": "NUaHsiaqxy7v",
        "outputId": "dabd2ed7-a0e7-40b5-9e2a-1731e772af89"
      },
      "source": [
        "# training the random forest model \r\n",
        "results = []\r\n",
        "n_estimator_options = [50, 100, 150, 200, 250, 300, 350, 400, 450, 500] # list of estimators we are testing for\r\n",
        "for est in n_estimator_options:\r\n",
        "    model = RandomForestClassifier(n_estimators=est, random_state= 101, max_depth = 8) #loop will cycle through the estimator list as a hyperparameter\r\n",
        "    model.fit(X_train, y_train)\r\n",
        "    y_pred = model.predict(X_test)\r\n",
        "    accuracy = np.mean(y_test == y_pred) # calculating accuracy for each number of estimators\r\n",
        "    results.append(accuracy)\r\n",
        "    auc_score = roc_auc_score(y_test, y_pred) #calculating AUC for each number of estimators\r\n",
        "    print(\"Accuracy\", est, \":\", accuracy)\r\n",
        "    print(\"AUC   \", est, \":\", auc_score) # printing AUC and Accuracy results\r\n",
        "\r\n",
        "plt.figure(figsize = (8,4)) # plotting accuracy values compared to number of estimators\r\n",
        "pd.Series(results, n_estimator_options).plot(color='darkblue', marker = 's')\r\n",
        "plt.xlabel(\"Number of Estimators\")\r\n",
        "plt.ylabel(\"Accuracy\")\r\n",
        "plt.title(\"Random Forest Model\")\r\n",
        "plt.show() # optimal value seems to be 250 estimators, based on accuracy rate"
      ],
      "execution_count": null,
      "outputs": [
        {
          "output_type": "stream",
          "text": [
            "Accuracy 50 : 0.8398132792825993\n",
            "AUC    50 : 0.723624124699608\n",
            "Accuracy 100 : 0.8394447515508875\n",
            "AUC    100 : 0.7230236857242685\n",
            "Accuracy 150 : 0.8397518579939807\n",
            "AUC    150 : 0.7228655467087199\n",
            "Accuracy 200 : 0.8398747005712179\n",
            "AUC    200 : 0.7230357609961816\n",
            "Accuracy 250 : 0.8399361218598366\n",
            "AUC    250 : 0.7234351545352525\n",
            "Accuracy 300 : 0.8395061728395061\n",
            "AUC    300 : 0.7228843025856136\n",
            "Accuracy 350 : 0.8398132792825993\n",
            "AUC    350 : 0.7231751441348365\n",
            "Accuracy 400 : 0.8396290154167434\n",
            "AUC    400 : 0.7226055363083039\n",
            "Accuracy 450 : 0.8395675941281248\n",
            "AUC    450 : 0.7225653272210503\n",
            "Accuracy 500 : 0.839199066396413\n",
            "AUC    500 : 0.7222342765845736\n"
          ],
          "name": "stdout"
        },
        {
          "output_type": "display_data",
          "data": {
            "image/png": "[encoded data removed]",
            "text/plain": [
              "<Figure size 576x288 with 1 Axes>"
            ]
          },
          "metadata": {
            "tags": [],
            "needs_background": "light"
          }
        }
      ]
    },
    {
      "cell_type": "markdown",
      "metadata": {
        "id": "reA-tchqx3Zr"
      },
      "source": [
        "# 4. Building AdaBoost, Gradient Boost (classifier) and XGB Model"
      ]
    },
    {
      "cell_type": "code",
      "metadata": {
        "colab": {
          "base_uri": "https://localhost:8080/",
          "height": 631
        },
        "id": "kcgfj7dWyEUx",
        "outputId": "52de0436-a672-4584-bf99-6da6b33afb9a"
      },
      "source": [
        "#AdaBoost\r\n",
        "# training the AdaBoost\r\n",
        "results = []\r\n",
        "n_estimator_options = [50, 100, 150, 200, 250, 300, 350, 400, 450, 500] # list of AdaBoost number of estimators\r\n",
        "for est in n_estimator_options:\r\n",
        "    model = AdaBoostClassifier(n_estimators=est, random_state= 101) #loop will cycle through the estimator list as a hyperparameter\r\n",
        "    model.fit(X_train, y_train)\r\n",
        "    y_pred = model.predict(X_test)\r\n",
        "    accuracy = np.mean(y_test == y_pred) # accuracy calculation\r\n",
        "    results.append(accuracy)\r\n",
        "    auc_score = roc_auc_score(y_test, y_pred) #AUC score calculation\r\n",
        "    print(\"Accuracy\", est, \":\", accuracy)\r\n",
        "    print(\"AUC   \", est, \":\", auc_score) #printing AUC and Accuracy results\r\n",
        "\r\n",
        "plt.figure(figsize = (8,4))\r\n",
        "pd.Series(results, n_estimator_options).plot(color='darkblue', marker = 's')\r\n",
        "plt.xlabel(\"Number of Estimators\")\r\n",
        "plt.ylabel(\"Accuracy\")\r\n",
        "plt.title(\"AdaBoost Classifier\")\r\n",
        "plt.show() # In terms of accuracy and AUC, the optimal number of estimators is 50"
      ],
      "execution_count": null,
      "outputs": [
        {
          "output_type": "stream",
          "text": [
            "Accuracy 50 : 0.8412259689208279\n",
            "AUC    50 : 0.7403530495863985\n",
            "Accuracy 100 : 0.8411645476322093\n",
            "AUC    100 : 0.7402230443861904\n",
            "Accuracy 150 : 0.8411645476322093\n",
            "AUC    150 : 0.7401332482732361\n",
            "Accuracy 200 : 0.8411645476322093\n",
            "AUC    200 : 0.7401332482732361\n",
            "Accuracy 250 : 0.8411645476322093\n",
            "AUC    250 : 0.7401332482732361\n",
            "Accuracy 300 : 0.8411645476322093\n",
            "AUC    300 : 0.7401332482732361\n",
            "Accuracy 350 : 0.8411645476322093\n",
            "AUC    350 : 0.7401332482732361\n",
            "Accuracy 400 : 0.8411645476322093\n",
            "AUC    400 : 0.7401332482732361\n",
            "Accuracy 450 : 0.8411645476322093\n",
            "AUC    450 : 0.7401332482732361\n",
            "Accuracy 500 : 0.8411645476322093\n",
            "AUC    500 : 0.7401332482732361\n"
          ],
          "name": "stdout"
        },
        {
          "output_type": "display_data",
          "data": {
            "image/png": "[encoded data removed]",
            "text/plain": [
              "<Figure size 576x288 with 1 Axes>"
            ]
          },
          "metadata": {
            "tags": [],
            "needs_background": "light"
          }
        }
      ]
    },
    {
      "cell_type": "code",
      "metadata": {
        "colab": {
          "base_uri": "https://localhost:8080/",
          "height": 631
        },
        "id": "Rqcx3I72yFn1",
        "outputId": "416a4dc0-9752-4eb9-fd97-4a7fa28d913a"
      },
      "source": [
        "#Gradient Boost (Classifier)\r\n",
        "# training the Gradient Boost\r\n",
        "results = [] # empty list for appending accuracy results\r\n",
        "n_estimator_options = [50, 100, 150, 200, 250, 300, 350, 400, 450, 500] # list for number of estimator options\r\n",
        "for est in n_estimator_options:\r\n",
        "    model = GradientBoostingClassifier(n_estimators=est, random_state= 101) # model loops through the options for number of estimators hyperparameter\r\n",
        "    model.fit(X_train, y_train)\r\n",
        "    y_pred = model.predict(X_test)\r\n",
        "    accuracy = np.mean(y_test == y_pred) #accuracy calculation\r\n",
        "    results.append(accuracy)\r\n",
        "    auc_score = roc_auc_score(y_test, y_pred) #AUC calculation\r\n",
        "    print(\"Accuracy\", est, \":\", accuracy)\r\n",
        "    print(\"AUC   \", est, \":\", auc_score) #printing AUC and Accuracy calculations for the different numbers of estimators\r\n",
        "\r\n",
        "plt.figure(figsize = (8,4))\r\n",
        "pd.Series(results, n_estimator_options).plot(color='darkblue', marker = 's')\r\n",
        "plt.xlabel(\"Number of Estimators\")\r\n",
        "plt.ylabel(\"Accuracy\") # plotting accuracy against number of estimators\r\n",
        "plt.title(\"Gradient Boosting Classifier\")\r\n",
        "plt.show() # In terms of accuracy, 150 is the optimal number of estimators, in terms of AUC 200 is the optimal value"
      ],
      "execution_count": null,
      "outputs": [
        {
          "output_type": "stream",
          "text": [
            "Accuracy 50 : 0.8425158159818193\n",
            "AUC    50 : 0.7438015276944009\n",
            "Accuracy 100 : 0.8442356120631411\n",
            "AUC    100 : 0.751392702270214\n",
            "Accuracy 150 : 0.8444812972176157\n",
            "AUC    150 : 0.7520025191840001\n",
            "Accuracy 200 : 0.844419875928997\n",
            "AUC    200 : 0.7528602712262894\n",
            "Accuracy 250 : 0.844419875928997\n",
            "AUC    250 : 0.7523214945485637\n",
            "Accuracy 300 : 0.843744241754192\n",
            "AUC    300 : 0.7516098062499098\n",
            "Accuracy 350 : 0.8441741907745225\n",
            "AUC    350 : 0.7517116776347772\n",
            "Accuracy 400 : 0.844419875928997\n",
            "AUC    400 : 0.7511541450801579\n",
            "Accuracy 450 : 0.8444812972176157\n",
            "AUC    450 : 0.7500270046990059\n",
            "Accuracy 500 : 0.8442970333517598\n",
            "AUC    500 : 0.7499961735501989\n"
          ],
          "name": "stdout"
        },
        {
          "output_type": "display_data",
          "data": {
            "image/png": "[encoded data removed]",
            "text/plain": [
              "<Figure size 576x288 with 1 Axes>"
            ]
          },
          "metadata": {
            "tags": [],
            "needs_background": "light"
          }
        }
      ]
    },
    {
      "cell_type": "code",
      "metadata": {
        "id": "TRXTySAkTzUC",
        "colab": {
          "base_uri": "https://localhost:8080/",
          "height": 631
        },
        "outputId": "56675416-7ff8-4398-9233-5ff295233c7e"
      },
      "source": [
        "# XGB Model\r\n",
        "# determining optimal number of estimators for the XGB model\r\n",
        "results = []\r\n",
        "n_estimator_options = [50, 100, 150, 200, 250, 300, 350, 400, 450, 500] #list to cycle through for optimal number of estimators\r\n",
        "for est in n_estimator_options:\r\n",
        "  model = xgb.XGBClassifier(random_state=101, learning_rate = 0.1, n_estimators = est) #loop uses number of estimators list for n_estimators hyperparameter\r\n",
        "  model.fit(X_train, y_train)\r\n",
        "  y_pred = model.predict(X_test)\r\n",
        "  accuracy = np.mean(y_test == y_pred) #accuracy calculation\r\n",
        "  results.append(accuracy)\r\n",
        "  auc_score = roc_auc_score(y_test, y_pred) # AUC calculations\r\n",
        "  print(\"Accuracy\", est, \":\", accuracy) #Printing auc and accuracy for different numbers of estimators\r\n",
        "  print(\"AUC   \", est, \":\", auc_score)\r\n",
        "\r\n",
        "plt.figure(figsize = (8,4))\r\n",
        "pd.Series(results, n_estimator_options).plot(color='darkblue', marker = 's')\r\n",
        "plt.xlabel(\"Number of Estimators\")\r\n",
        "plt.ylabel(\"Accuracy\") #Graphing accuracy against number of classifiers\r\n",
        "plt.title(\"Extreme Gradient Boosting Classifier\")\r\n",
        "plt.show() #In terms of accuracy, 450 or 500 estimators are tied for the highest score\r\n",
        "#In terms of AUC, 400 estimators is the optimal estimator value"
      ],
      "execution_count": null,
      "outputs": [
        {
          "output_type": "stream",
          "text": [
            "Accuracy 50 : 0.8415330753639212\n",
            "AUC    50 : 0.7364234738267698\n",
            "Accuracy 100 : 0.8423315521159634\n",
            "AUC    100 : 0.7443094732233198\n",
            "Accuracy 150 : 0.8442970333517598\n",
            "AUC    150 : 0.750894134679742\n",
            "Accuracy 200 : 0.8441741907745225\n",
            "AUC    200 : 0.7515320854088686\n",
            "Accuracy 250 : 0.8441127694859039\n",
            "AUC    250 : 0.7513122840957064\n",
            "Accuracy 300 : 0.8440513481972852\n",
            "AUC    300 : 0.7512720750084527\n",
            "Accuracy 350 : 0.843928505620048\n",
            "AUC    350 : 0.7514610451728082\n",
            "Accuracy 400 : 0.8443584546403784\n",
            "AUC    400 : 0.7520118971224471\n",
            "Accuracy 450 : 0.844419875928997\n",
            "AUC    450 : 0.7516031256449294\n",
            "Accuracy 500 : 0.844419875928997\n",
            "AUC    500 : 0.751513329531975\n"
          ],
          "name": "stdout"
        },
        {
          "output_type": "display_data",
          "data": {
            "image/png": "[encoded data removed]",
            "text/plain": [
              "<Figure size 576x288 with 1 Axes>"
            ]
          },
          "metadata": {
            "tags": [],
            "needs_background": "light"
          }
        }
      ]
    },
    {
      "cell_type": "markdown",
      "metadata": {
        "id": "4qYvwyATyK4b"
      },
      "source": [
        "# 5. Compare Performance"
      ]
    },
    {
      "cell_type": "code",
      "metadata": {
        "id": "ylRLQ0wcyJPV",
        "outputId": "566d3681-c3fb-4364-994e-df9c62a2f1ca",
        "colab": {
          "base_uri": "https://localhost:8080/"
        }
      },
      "source": [
        "# Keep all common hyper-parameters the same for the four models, run them again, and create a performance comparison table\r\n",
        "\r\n",
        "#also print the values of the common hyper-parameters\r\n",
        "results = [] #empty list to append accuracy results\r\n",
        "aucsc = [] #empty list to append AUC results\r\n",
        "methods = [RandomForestClassifier, AdaBoostClassifier, GradientBoostingClassifier, xgb.XGBClassifier] #list of methods for looping\r\n",
        "for method in methods:\r\n",
        "  model = method(random_state = 101, n_estimators = 50) #loop plugs the model in, with n_estimators held constant at 50\r\n",
        "  model.fit(X_train, y_train)\r\n",
        "  y_pred = model.predict(X_test)\r\n",
        "  accuracy = np.mean(y_test == y_pred) #accuracy calculation\r\n",
        "  results.append(accuracy) #append result to accuracy list\r\n",
        "  auc_score = roc_auc_score(y_test, y_pred) #AUC calculation\r\n",
        "  aucsc.append(auc_score) # append result to AUC list\r\n",
        "resultframe = pd.DataFrame( data= [results, aucsc], columns = ['Random Forest', 'AdaBoost', 'Gradient Boost', 'XGB'], index = [\"Accuracy\", \"AUC\"])\r\n",
        "#Line above creates a DF for accuracy and AUC results, columns are the models used and index is the metric used\r\n",
        "print(resultframe)\r\n",
        "\r\n",
        "print(\"Common Hyperparameters\", \":\" , \"random_state = 101, n_estimators = 50\") #printing the common hyperparameters\r\n",
        "#In terms of AUC, Random Forest is the best performing model with 50 estimators (0.740514)\r\n",
        "#In terms of accuracy, Gradient Boost is the best model for 50 estimators (0.842516)"
      ],
      "execution_count": 50,
      "outputs": [
        {
          "output_type": "stream",
          "text": [
            "          Random Forest  AdaBoost  Gradient Boost       XGB\n",
            "Accuracy       0.837356  0.841226        0.842516  0.841533\n",
            "AUC            0.740514  0.740353        0.743802  0.736423\n",
            "Common Hyperparameters : random_state = 101, n_estimators = 50\n"
          ],
          "name": "stdout"
        }
      ]
    }
  ]
}