{
  "nbformat": 4,
  "nbformat_minor": 0,
  "metadata": {
    "kernelspec": {
      "display_name": "Python 3",
      "language": "python",
      "name": "python3"
    },
    "language_info": {
      "codemirror_mode": {
        "name": "ipython",
        "version": 3
      },
      "file_extension": ".py",
      "mimetype": "text/x-python",
      "name": "python",
      "nbconvert_exporter": "python",
      "pygments_lexer": "ipython3",
      "version": "3.5.4"
    },
    "colab": {
      "name": "Kiejstut_Bunikiewicz_CA05A_Logistic_Regression",
      "provenance": [],
      "collapsed_sections": []
    }
  },
  "cells": [
    {
      "cell_type": "markdown",
      "metadata": {
        "id": "vZKPecpz7kAl"
      },
      "source": [
        "# Your name: Kiejstut Bunikiewicz\n",
        "## Assignment Name: CA05A - Logistic Regression"
      ]
    },
    {
      "cell_type": "markdown",
      "metadata": {
        "id": "T-ALfHwK7kAs"
      },
      "source": [
        "# Program Inititialization Section\n",
        "## Enter your import packages here"
      ]
    },
    {
      "cell_type": "code",
      "metadata": {
        "collapsed": true,
        "id": "eJ_197sl7kAt",
        "colab": {
          "base_uri": "https://localhost:8080/"
        },
        "outputId": "d7604436-13bf-4ef3-bbda-e018dfe52b00"
      },
      "source": [
        "# import packages \n",
        "\n",
        "import numpy as np\n",
        "import pandas as pd\n",
        "from sklearn import linear_model\n",
        "import sklearn.metrics # this will give us the metrics to use later\n",
        "from sklearn.metrics import accuracy_score\n",
        "from sklearn.metrics import roc_auc_score\n",
        "from sklearn.metrics import confusion_matrix\n",
        "from sklearn.metrics import plot_roc_curve\n",
        "import matplotlib.pyplot as plt # this package and the packages after are used for graphing\n",
        "import pydotplus\n",
        "from google.colab import drive\n",
        "from sklearn.model_selection import train_test_split\n",
        "from sklearn.metrics import f1_score\n",
        "\n",
        "#Mounting Google Drive\n",
        "drive.mount('/content/drive')"
      ],
      "execution_count": 1,
      "outputs": [
        {
          "output_type": "stream",
          "text": [
            "Mounted at /content/drive\n"
          ],
          "name": "stdout"
        }
      ]
    },
    {
      "cell_type": "markdown",
      "metadata": {
        "id": "0N_EIIU97kAt"
      },
      "source": [
        "# Data File Reading Section / Data Source and Contents\n",
        "## Write code to read in data from external sources here"
      ]
    },
    {
      "cell_type": "code",
      "metadata": {
        "id": "Pz9T9U3j7kAu",
        "colab": {
          "base_uri": "https://localhost:8080/",
          "height": 204
        },
        "outputId": "6eed965c-7f3c-467e-a2b2-0c1f24f00f66"
      },
      "source": [
        "#read datasets\n",
        "cardio_data = 'https://raw.githubusercontent.com/ArinB/CA05-B-Logistic-Regression/master/cvd_data.csv' #data is read in from this URL\n",
        "cardio_data = pd.read_csv(cardio_data)\n",
        "cardio_data.head() # import successful"
      ],
      "execution_count": 2,
      "outputs": [
        {
          "output_type": "execute_result",
          "data": {
            "text/html": [
              "<div>\n",
              "<style scoped>\n",
              "    .dataframe tbody tr th:only-of-type {\n",
              "        vertical-align: middle;\n",
              "    }\n",
              "\n",
              "    .dataframe tbody tr th {\n",
              "        vertical-align: top;\n",
              "    }\n",
              "\n",
              "    .dataframe thead th {\n",
              "        text-align: right;\n",
              "    }\n",
              "</style>\n",
              "<table border=\"1\" class=\"dataframe\">\n",
              "  <thead>\n",
              "    <tr style=\"text-align: right;\">\n",
              "      <th></th>\n",
              "      <th>cvd_4types</th>\n",
              "      <th>age_s1</th>\n",
              "      <th>race</th>\n",
              "      <th>educat</th>\n",
              "      <th>mstat</th>\n",
              "      <th>hip</th>\n",
              "      <th>neck20</th>\n",
              "      <th>waist</th>\n",
              "      <th>av_weight_kg</th>\n",
              "      <th>cgpkyr</th>\n",
              "      <th>tea15</th>\n",
              "      <th>srhype</th>\n",
              "      <th>parrptdiab</th>\n",
              "      <th>bend25</th>\n",
              "      <th>happy25</th>\n",
              "      <th>tired25</th>\n",
              "      <th>hlthlm25</th>\n",
              "    </tr>\n",
              "  </thead>\n",
              "  <tbody>\n",
              "    <tr>\n",
              "      <th>0</th>\n",
              "      <td>0</td>\n",
              "      <td>54</td>\n",
              "      <td>1</td>\n",
              "      <td>2</td>\n",
              "      <td>1</td>\n",
              "      <td>110.0</td>\n",
              "      <td>40.0</td>\n",
              "      <td>108.0</td>\n",
              "      <td>87.5</td>\n",
              "      <td>34.0</td>\n",
              "      <td>0</td>\n",
              "      <td>1</td>\n",
              "      <td>0</td>\n",
              "      <td>1</td>\n",
              "      <td>2</td>\n",
              "      <td>3</td>\n",
              "      <td>4</td>\n",
              "    </tr>\n",
              "    <tr>\n",
              "      <th>1</th>\n",
              "      <td>0</td>\n",
              "      <td>56</td>\n",
              "      <td>3</td>\n",
              "      <td>2</td>\n",
              "      <td>1</td>\n",
              "      <td>113.0</td>\n",
              "      <td>34.0</td>\n",
              "      <td>107.0</td>\n",
              "      <td>83.5</td>\n",
              "      <td>0.0</td>\n",
              "      <td>0</td>\n",
              "      <td>0</td>\n",
              "      <td>0</td>\n",
              "      <td>2</td>\n",
              "      <td>2</td>\n",
              "      <td>1</td>\n",
              "      <td>3</td>\n",
              "    </tr>\n",
              "    <tr>\n",
              "      <th>2</th>\n",
              "      <td>0</td>\n",
              "      <td>54</td>\n",
              "      <td>1</td>\n",
              "      <td>3</td>\n",
              "      <td>1</td>\n",
              "      <td>110.0</td>\n",
              "      <td>44.5</td>\n",
              "      <td>105.0</td>\n",
              "      <td>86.2</td>\n",
              "      <td>49.5</td>\n",
              "      <td>0</td>\n",
              "      <td>0</td>\n",
              "      <td>0</td>\n",
              "      <td>3</td>\n",
              "      <td>2</td>\n",
              "      <td>6</td>\n",
              "      <td>4</td>\n",
              "    </tr>\n",
              "    <tr>\n",
              "      <th>3</th>\n",
              "      <td>0</td>\n",
              "      <td>54</td>\n",
              "      <td>1</td>\n",
              "      <td>3</td>\n",
              "      <td>1</td>\n",
              "      <td>129.0</td>\n",
              "      <td>42.5</td>\n",
              "      <td>110.0</td>\n",
              "      <td>89.1</td>\n",
              "      <td>0.0</td>\n",
              "      <td>0</td>\n",
              "      <td>0</td>\n",
              "      <td>0</td>\n",
              "      <td>3</td>\n",
              "      <td>2</td>\n",
              "      <td>1</td>\n",
              "      <td>3</td>\n",
              "    </tr>\n",
              "    <tr>\n",
              "      <th>4</th>\n",
              "      <td>0</td>\n",
              "      <td>51</td>\n",
              "      <td>3</td>\n",
              "      <td>2</td>\n",
              "      <td>1</td>\n",
              "      <td>122.0</td>\n",
              "      <td>37.0</td>\n",
              "      <td>113.0</td>\n",
              "      <td>81.3</td>\n",
              "      <td>0.0</td>\n",
              "      <td>0</td>\n",
              "      <td>0</td>\n",
              "      <td>0</td>\n",
              "      <td>2</td>\n",
              "      <td>1</td>\n",
              "      <td>1</td>\n",
              "      <td>2</td>\n",
              "    </tr>\n",
              "  </tbody>\n",
              "</table>\n",
              "</div>"
            ],
            "text/plain": [
              "   cvd_4types  age_s1  race  educat  ...  bend25  happy25  tired25  hlthlm25\n",
              "0           0      54     1       2  ...       1        2        3         4\n",
              "1           0      56     3       2  ...       2        2        1         3\n",
              "2           0      54     1       3  ...       3        2        6         4\n",
              "3           0      54     1       3  ...       3        2        1         3\n",
              "4           0      51     3       2  ...       2        1        1         2\n",
              "\n",
              "[5 rows x 17 columns]"
            ]
          },
          "metadata": {
            "tags": []
          },
          "execution_count": 2
        }
      ]
    },
    {
      "cell_type": "markdown",
      "metadata": {
        "id": "phqRutxJKxZV"
      },
      "source": [
        "### Column Descriptions\n",
        "\n",
        "cvd_4types: Risk of Cardiovascular Disease 0 = No Risk, 1 Risk Present (Decision Variable)\n",
        "\n",
        "age_s1: Age in Years\n",
        "\n",
        "race: 1 = White, 2 = Black, 3 = Other\n",
        "\n",
        "Educat: Education Level\n",
        "\n",
        "Mstat: Marital Status\n",
        "\n",
        "hip: Hip Circumference (cm)\n",
        "\n",
        "neck20: Neck Circumference (cm)\n",
        "\n",
        "waist: Waist Circumference (cm)\n",
        "\n",
        "av_weight_kg: weight in kilograms\n",
        "\n",
        "cgpkyr: Cigarette Pack-Years\n",
        "\n",
        "tea15: Daily tea intake (cups)\n",
        "\n",
        "srhype: Self-Reported Hypertension\n",
        "\n",
        "parrptdiab: History of Diabetes\n",
        "\n",
        "bend25: How much does your health limit your ability to bend?\n",
        "\n",
        "happy25: In the past 4 weeks, how much time have you been happy?\n",
        "\n",
        "tired25: In the past 4 weeks, how much time have you been tired?\n",
        "\n",
        "hlthlm25: During the past 4 weeks, how much has health limited your social activities?"
      ]
    },
    {
      "cell_type": "code",
      "metadata": {
        "colab": {
          "base_uri": "https://localhost:8080/"
        },
        "id": "J_1nv3ErNshC",
        "outputId": "95065ec1-c934-4258-df88-5ffbf9c58a47"
      },
      "source": [
        "#counting values of the decision variable\n",
        "\n",
        "cardio_data.cvd_4types.value_counts() #two outcomes, no need to bin further"
      ],
      "execution_count": 3,
      "outputs": [
        {
          "output_type": "execute_result",
          "data": {
            "text/plain": [
              "1    1913\n",
              "0    1329\n",
              "Name: cvd_4types, dtype: int64"
            ]
          },
          "metadata": {
            "tags": []
          },
          "execution_count": 3
        }
      ]
    },
    {
      "cell_type": "code",
      "metadata": {
        "scrolled": false,
        "id": "zyS_mThv7kAv",
        "colab": {
          "base_uri": "https://localhost:8080/",
          "height": 204
        },
        "outputId": "a1e9b97b-c71d-4130-fd98-ac486a339a08"
      },
      "source": [
        "#General Data Overview\n",
        "cardio_data.describe\n",
        "cardio_data.info\n",
        "cardio_data.dtypes # data types look correct\n",
        "cardio_data.shape # correct number of rows\n",
        "cardio_data.count()\n",
        "\n",
        "# Finding Missing values / NaNs\n",
        "cardio_data.isnull().sum() # No null values/ NaN in dataset\n",
        "cardio_data.tail()\n",
        "cardio_data.head()\n"
      ],
      "execution_count": 4,
      "outputs": [
        {
          "output_type": "execute_result",
          "data": {
            "text/html": [
              "<div>\n",
              "<style scoped>\n",
              "    .dataframe tbody tr th:only-of-type {\n",
              "        vertical-align: middle;\n",
              "    }\n",
              "\n",
              "    .dataframe tbody tr th {\n",
              "        vertical-align: top;\n",
              "    }\n",
              "\n",
              "    .dataframe thead th {\n",
              "        text-align: right;\n",
              "    }\n",
              "</style>\n",
              "<table border=\"1\" class=\"dataframe\">\n",
              "  <thead>\n",
              "    <tr style=\"text-align: right;\">\n",
              "      <th></th>\n",
              "      <th>cvd_4types</th>\n",
              "      <th>age_s1</th>\n",
              "      <th>race</th>\n",
              "      <th>educat</th>\n",
              "      <th>mstat</th>\n",
              "      <th>hip</th>\n",
              "      <th>neck20</th>\n",
              "      <th>waist</th>\n",
              "      <th>av_weight_kg</th>\n",
              "      <th>cgpkyr</th>\n",
              "      <th>tea15</th>\n",
              "      <th>srhype</th>\n",
              "      <th>parrptdiab</th>\n",
              "      <th>bend25</th>\n",
              "      <th>happy25</th>\n",
              "      <th>tired25</th>\n",
              "      <th>hlthlm25</th>\n",
              "    </tr>\n",
              "  </thead>\n",
              "  <tbody>\n",
              "    <tr>\n",
              "      <th>0</th>\n",
              "      <td>0</td>\n",
              "      <td>54</td>\n",
              "      <td>1</td>\n",
              "      <td>2</td>\n",
              "      <td>1</td>\n",
              "      <td>110.0</td>\n",
              "      <td>40.0</td>\n",
              "      <td>108.0</td>\n",
              "      <td>87.5</td>\n",
              "      <td>34.0</td>\n",
              "      <td>0</td>\n",
              "      <td>1</td>\n",
              "      <td>0</td>\n",
              "      <td>1</td>\n",
              "      <td>2</td>\n",
              "      <td>3</td>\n",
              "      <td>4</td>\n",
              "    </tr>\n",
              "    <tr>\n",
              "      <th>1</th>\n",
              "      <td>0</td>\n",
              "      <td>56</td>\n",
              "      <td>3</td>\n",
              "      <td>2</td>\n",
              "      <td>1</td>\n",
              "      <td>113.0</td>\n",
              "      <td>34.0</td>\n",
              "      <td>107.0</td>\n",
              "      <td>83.5</td>\n",
              "      <td>0.0</td>\n",
              "      <td>0</td>\n",
              "      <td>0</td>\n",
              "      <td>0</td>\n",
              "      <td>2</td>\n",
              "      <td>2</td>\n",
              "      <td>1</td>\n",
              "      <td>3</td>\n",
              "    </tr>\n",
              "    <tr>\n",
              "      <th>2</th>\n",
              "      <td>0</td>\n",
              "      <td>54</td>\n",
              "      <td>1</td>\n",
              "      <td>3</td>\n",
              "      <td>1</td>\n",
              "      <td>110.0</td>\n",
              "      <td>44.5</td>\n",
              "      <td>105.0</td>\n",
              "      <td>86.2</td>\n",
              "      <td>49.5</td>\n",
              "      <td>0</td>\n",
              "      <td>0</td>\n",
              "      <td>0</td>\n",
              "      <td>3</td>\n",
              "      <td>2</td>\n",
              "      <td>6</td>\n",
              "      <td>4</td>\n",
              "    </tr>\n",
              "    <tr>\n",
              "      <th>3</th>\n",
              "      <td>0</td>\n",
              "      <td>54</td>\n",
              "      <td>1</td>\n",
              "      <td>3</td>\n",
              "      <td>1</td>\n",
              "      <td>129.0</td>\n",
              "      <td>42.5</td>\n",
              "      <td>110.0</td>\n",
              "      <td>89.1</td>\n",
              "      <td>0.0</td>\n",
              "      <td>0</td>\n",
              "      <td>0</td>\n",
              "      <td>0</td>\n",
              "      <td>3</td>\n",
              "      <td>2</td>\n",
              "      <td>1</td>\n",
              "      <td>3</td>\n",
              "    </tr>\n",
              "    <tr>\n",
              "      <th>4</th>\n",
              "      <td>0</td>\n",
              "      <td>51</td>\n",
              "      <td>3</td>\n",
              "      <td>2</td>\n",
              "      <td>1</td>\n",
              "      <td>122.0</td>\n",
              "      <td>37.0</td>\n",
              "      <td>113.0</td>\n",
              "      <td>81.3</td>\n",
              "      <td>0.0</td>\n",
              "      <td>0</td>\n",
              "      <td>0</td>\n",
              "      <td>0</td>\n",
              "      <td>2</td>\n",
              "      <td>1</td>\n",
              "      <td>1</td>\n",
              "      <td>2</td>\n",
              "    </tr>\n",
              "  </tbody>\n",
              "</table>\n",
              "</div>"
            ],
            "text/plain": [
              "   cvd_4types  age_s1  race  educat  ...  bend25  happy25  tired25  hlthlm25\n",
              "0           0      54     1       2  ...       1        2        3         4\n",
              "1           0      56     3       2  ...       2        2        1         3\n",
              "2           0      54     1       3  ...       3        2        6         4\n",
              "3           0      54     1       3  ...       3        2        1         3\n",
              "4           0      51     3       2  ...       2        1        1         2\n",
              "\n",
              "[5 rows x 17 columns]"
            ]
          },
          "metadata": {
            "tags": []
          },
          "execution_count": 4
        }
      ]
    },
    {
      "cell_type": "code",
      "metadata": {
        "id": "aSotCMOwSfP1",
        "colab": {
          "base_uri": "https://localhost:8080/"
        },
        "outputId": "18434c84-b58a-452d-929c-713a2eb447bd"
      },
      "source": [
        "#No need to cleanse or transform data further\n",
        "\n",
        "#Split data into train and test\n",
        "X = cardio_data.iloc[0:,1:] #selecting the independent columns\n",
        "y = cardio_data.iloc[0:,0:1] #the cvd_4types is the dependent variable\n",
        "X_train, X_test, y_train, y_test = train_test_split(X,y, random_state=1) #splitting data into X and y and train and test sets\n",
        "X_train.info() #split successful"
      ],
      "execution_count": 5,
      "outputs": [
        {
          "output_type": "stream",
          "text": [
            "<class 'pandas.core.frame.DataFrame'>\n",
            "Int64Index: 2431 entries, 3169 to 1061\n",
            "Data columns (total 16 columns):\n",
            " #   Column        Non-Null Count  Dtype  \n",
            "---  ------        --------------  -----  \n",
            " 0   age_s1        2431 non-null   int64  \n",
            " 1   race          2431 non-null   int64  \n",
            " 2   educat        2431 non-null   int64  \n",
            " 3   mstat         2431 non-null   int64  \n",
            " 4   hip           2431 non-null   float64\n",
            " 5   neck20        2431 non-null   float64\n",
            " 6   waist         2431 non-null   float64\n",
            " 7   av_weight_kg  2431 non-null   float64\n",
            " 8   cgpkyr        2431 non-null   float64\n",
            " 9   tea15         2431 non-null   int64  \n",
            " 10  srhype        2431 non-null   int64  \n",
            " 11  parrptdiab    2431 non-null   int64  \n",
            " 12  bend25        2431 non-null   int64  \n",
            " 13  happy25       2431 non-null   int64  \n",
            " 14  tired25       2431 non-null   int64  \n",
            " 15  hlthlm25      2431 non-null   int64  \n",
            "dtypes: float64(5), int64(11)\n",
            "memory usage: 322.9 KB\n"
          ],
          "name": "stdout"
        }
      ]
    },
    {
      "cell_type": "markdown",
      "metadata": {
        "id": "Z9xjnB8cxNik"
      },
      "source": [
        "#1. Building a Binary Classifier Model"
      ]
    },
    {
      "cell_type": "code",
      "metadata": {
        "id": "oHeQgHB4D4ty",
        "colab": {
          "base_uri": "https://localhost:8080/"
        },
        "outputId": "1ccdcf75-8673-4c98-c1a5-98a3cea78d66"
      },
      "source": [
        "#Fitting the Logistic Regression Classifier\n",
        "\n",
        "clf = linear_model.LogisticRegression(C=1e40, solver= 'newton-cg') #Running the Logistic Regression with the specified solver hyperparameter\n",
        "fitted_model = clf.fit(X_train, y_train) #training the model\n",
        "pred = clf.predict(X_test) #creating a set of predictions\n",
        "prediction_result = clf.predict(X_test)#predicting outcomes for the test set\n",
        "\n",
        "print(prediction_result) #printed a sample of the predictions"
      ],
      "execution_count": 6,
      "outputs": [
        {
          "output_type": "stream",
          "text": [
            "[1 1 1 1 1 0 0 0 1 1 1 1 1 1 1 1 0 1 1 1 1 1 0 1 0 0 1 0 0 1 0 1 1 1 1 0 1\n",
            " 1 1 1 0 0 1 0 1 0 1 1 1 1 1 1 1 1 0 0 1 1 1 1 1 1 1 1 0 1 0 0 1 1 1 1 1 1\n",
            " 0 1 1 1 1 0 1 0 0 1 1 1 1 1 0 1 1 1 1 1 1 1 0 1 1 0 1 1 0 1 1 1 0 0 0 1 1\n",
            " 1 1 1 1 1 0 0 1 1 1 0 0 1 1 0 1 0 0 1 1 1 1 1 0 1 1 1 0 1 1 1 1 1 1 0 1 1\n",
            " 1 0 0 0 1 1 1 1 1 1 1 1 1 0 0 0 1 1 1 1 0 1 1 1 1 1 1 0 1 1 1 1 1 1 1 1 0\n",
            " 1 0 1 1 0 1 1 1 1 1 0 1 1 0 1 1 1 0 1 1 1 1 0 1 0 0 0 0 1 0 0 1 1 1 0 1 0\n",
            " 0 0 1 1 1 0 1 0 1 1 0 0 1 1 0 1 1 0 1 1 1 0 0 1 1 0 1 0 1 0 1 1 1 0 1 0 1\n",
            " 0 0 1 1 1 1 1 1 1 1 1 1 0 1 0 0 1 1 0 1 1 1 1 1 1 1 1 0 1 1 1 0 0 1 1 1 0\n",
            " 1 1 1 1 1 1 0 0 0 0 1 1 0 1 1 1 1 0 1 1 1 1 0 1 0 0 1 0 1 1 1 1 1 1 0 1 0\n",
            " 1 0 0 0 1 1 1 1 1 0 1 0 1 1 1 0 1 1 1 1 1 1 1 1 1 1 1 1 1 1 1 1 1 1 1 1 0\n",
            " 1 1 1 1 1 1 1 0 0 0 0 1 1 0 0 1 1 1 1 0 0 1 1 0 1 1 1 1 0 1 1 0 1 0 1 1 1\n",
            " 1 1 0 1 1 0 1 1 0 1 1 1 1 1 1 1 1 1 1 1 1 1 1 1 0 1 1 0 1 1 1 0 1 0 0 1 1\n",
            " 1 0 1 1 1 0 1 0 1 1 1 1 0 1 1 1 1 1 1 0 1 1 1 0 1 1 1 0 1 1 1 1 1 1 1 1 1\n",
            " 0 0 1 1 1 1 1 0 1 0 0 0 1 1 0 0 1 1 1 1 1 1 1 1 1 1 1 0 1 1 1 1 1 1 1 0 1\n",
            " 1 1 1 1 0 1 1 1 1 1 0 1 1 1 1 0 0 1 1 0 1 0 0 1 1 1 1 1 1 0 0 0 1 0 1 1 0\n",
            " 1 1 1 0 0 1 1 0 1 1 0 1 1 1 0 1 1 0 0 1 1 1 1 1 1 1 1 0 1 1 1 1 0 0 0 0 1\n",
            " 1 1 0 0 0 0 1 0 1 1 0 0 1 1 1 1 1 1 1 0 1 1 1 1 1 1 1 1 1 1 1 1 1 1 1 1 0\n",
            " 1 0 0 1 1 1 1 1 0 0 1 1 1 1 1 1 0 1 1 1 0 1 1 1 1 1 0 0 1 0 0 0 0 1 1 0 1\n",
            " 1 1 0 1 0 1 1 1 1 1 0 1 0 1 1 1 1 1 0 1 1 1 1 0 1 1 1 1 1 1 1 1 0 1 1 1 1\n",
            " 1 1 1 0 0 1 1 1 1 0 1 1 0 1 1 1 1 1 1 1 1 0 1 1 1 1 1 1 1 1 1 1 0 0 0 1 0\n",
            " 1 1 1 0 1 0 0 1 1 1 0 0 0 1 1 1 1 1 1 1 1 1 1 1 1 1 1 1 0 1 1 1 1 1 1 1 0\n",
            " 1 1 1 1 1 1 1 1 1 1 0 1 1 1 1 0 1 1 1 1 0 0 0 0 1 1 1 0 1 1 1 0 1 1]\n"
          ],
          "name": "stdout"
        },
        {
          "output_type": "stream",
          "text": [
            "/usr/local/lib/python3.7/dist-packages/sklearn/utils/validation.py:760: DataConversionWarning: A column-vector y was passed when a 1d array was expected. Please change the shape of y to (n_samples, ), for example using ravel().\n",
            "  y = column_or_1d(y, warn=True)\n"
          ],
          "name": "stderr"
        }
      ]
    },
    {
      "cell_type": "code",
      "metadata": {
        "colab": {
          "base_uri": "https://localhost:8080/"
        },
        "id": "C04wgrEeo6nl",
        "outputId": "04df9ab2-89ed-4bcf-b9f8-36c8c6fa61fe"
      },
      "source": [
        "clf.score(X_test, y_test) #preliminary model score before full evaluation"
      ],
      "execution_count": 7,
      "outputs": [
        {
          "output_type": "execute_result",
          "data": {
            "text/plain": [
              "0.6979038224414303"
            ]
          },
          "metadata": {
            "tags": []
          },
          "execution_count": 7
        }
      ]
    },
    {
      "cell_type": "code",
      "metadata": {
        "colab": {
          "base_uri": "https://localhost:8080/"
        },
        "id": "krYMmuVwpGMU",
        "outputId": "5a5670ea-d2cb-4afd-f5fd-2b382706a8be"
      },
      "source": [
        "clf.predict_proba(X_test) #sample prediction probabilities for each result (0 or 1) in the X_test set"
      ],
      "execution_count": 8,
      "outputs": [
        {
          "output_type": "execute_result",
          "data": {
            "text/plain": [
              "array([[0.42297445, 0.57702555],\n",
              "       [0.46866769, 0.53133231],\n",
              "       [0.44937503, 0.55062497],\n",
              "       ...,\n",
              "       [0.65590904, 0.34409096],\n",
              "       [0.44528429, 0.55471571],\n",
              "       [0.3411404 , 0.6588596 ]])"
            ]
          },
          "metadata": {
            "tags": []
          },
          "execution_count": 8
        }
      ]
    },
    {
      "cell_type": "markdown",
      "metadata": {
        "id": "g495XT5hxfXf"
      },
      "source": [
        "# 2. Display Feature Importance of All Features in Order of Decreasing Influence"
      ]
    },
    {
      "cell_type": "code",
      "metadata": {
        "colab": {
          "base_uri": "https://localhost:8080/"
        },
        "id": "dKf4pJn7XcBK",
        "outputId": "6edb7166-28e5-4ae0-e7cb-9accfc363feb"
      },
      "source": [
        "#determine feature importance of model features\n",
        "from sklearn.linear_model import LogisticRegression\n",
        "\n",
        "clf.fit(X_train/ np.std(X_train, 0), y_train) #fitting model to create standardized coefficient scores by dividing the coefficient by standard deviation\n",
        "model_coef = clf.coef_\n",
        "abs_coef = abs(model_coef) #getting absolute values of feature coefficients\n",
        "\n",
        "coef_results = pd.DataFrame(abs_coef, columns=X_train.columns, index=['coefficient']) #Creating dataframe of absolute value of coefficient results\n",
        "coef_results = coef_results.transpose() #transposing to correct format\n",
        "coef_sorted = coef_results.coefficient.sort_values(ascending=False) #sorting values\n",
        "print(coef_sorted) #printed df of absolute values of the coefficients\n",
        "\n",
        "#Three most important factors: Waist Circumference (cm), Hip Circumference (cm), and Health Limit on Social Activities\n",
        "  #With a higher level on these 3, a higher increase on risk of Cardiovascular Disease\n",
        "#Three least important facotrs: age at beginning of test, Tea Consumption (cups per day), and Cigarrette Packs per year"
      ],
      "execution_count": 9,
      "outputs": [
        {
          "output_type": "stream",
          "text": [
            "waist           1.088542\n",
            "hip             0.571325\n",
            "hlthlm25        0.359510\n",
            "race            0.328228\n",
            "av_weight_kg    0.277711\n",
            "educat          0.181624\n",
            "neck20          0.144224\n",
            "parrptdiab      0.140400\n",
            "mstat           0.131617\n",
            "srhype          0.097887\n",
            "happy25         0.095933\n",
            "tired25         0.082752\n",
            "bend25          0.067397\n",
            "cgpkyr          0.043158\n",
            "tea15           0.041783\n",
            "age_s1          0.011518\n",
            "Name: coefficient, dtype: float64\n"
          ],
          "name": "stdout"
        },
        {
          "output_type": "stream",
          "text": [
            "/usr/local/lib/python3.7/dist-packages/sklearn/utils/validation.py:760: DataConversionWarning: A column-vector y was passed when a 1d array was expected. Please change the shape of y to (n_samples, ), for example using ravel().\n",
            "  y = column_or_1d(y, warn=True)\n"
          ],
          "name": "stderr"
        }
      ]
    },
    {
      "cell_type": "markdown",
      "metadata": {
        "id": "reA-tchqx3Zr"
      },
      "source": [
        "# 3. Evaluation of Model Performance"
      ]
    },
    {
      "cell_type": "code",
      "metadata": {
        "id": "PEZJwEAoxFdC",
        "colab": {
          "base_uri": "https://localhost:8080/",
          "height": 381
        },
        "outputId": "0c207ab4-c419-439e-f956-91490c8c6505"
      },
      "source": [
        "#Running Different MEtrics\n",
        "#Accuracy Score\n",
        "accuracy_score = clf.score(X_train, y_train)\n",
        "print('Accuracy Score:', accuracy_score) #score is 0.59, which is verging on being useful, but not fully descriptive of model performance\n",
        "\n",
        "#Confusion Matrix\n",
        "cmatrix = confusion_matrix(y_test, pred)\n",
        "print('confusion matrix:')\n",
        "print(cmatrix) #Results show the model is more likely to opt for false positives (170) rather than false negatives (75) which suits business goals\n",
        "  # for medical results, it is better to set off a false alarm rather than not diagnose a potential case, this may account for some inaccuracy in the set\n",
        "\n",
        "#F1 Score\n",
        "f1 = f1_score(y_test, pred)\n",
        "print(\"F1 Score: \", f1) #the F1 score is 0.77, which is good because it shows a decent balance between positive predictions and negative predictions\n",
        "\n",
        "#ROC Score\n",
        "roc = roc_auc_score(y_test, pred)\n",
        "print(\"ROC Score:\", roc) #the ROC curve of 0.66, also shown on the plot of the ROC curve shows the model performs better than random guess by 16%\n",
        "#this means the model is relatively useful for predicting likelihood of risk\n",
        "\n",
        "#ROC Curve\n",
        "plot_roc_curve(clf, X_test, y_test)\n",
        "plt.show() #print out of ROC curve\n",
        "\n",
        "#Full results commentary in word document"
      ],
      "execution_count": 10,
      "outputs": [
        {
          "output_type": "stream",
          "text": [
            "Accuracy Score: 0.5960510078157137\n",
            "confusion matrix:\n",
            "[[148 170]\n",
            " [ 75 418]]\n",
            "F1 Score:  0.7733580018501388\n",
            "ROC Score: 0.6566394937936137\n"
          ],
          "name": "stdout"
        },
        {
          "output_type": "display_data",
          "data": {
            "image/png": "[encoded data removed]",
            "text/plain": [
              "<Figure size 432x288 with 1 Axes>"
            ]
          },
          "metadata": {
            "tags": [],
            "needs_background": "light"
          }
        }
      ]
    }
  ]
}